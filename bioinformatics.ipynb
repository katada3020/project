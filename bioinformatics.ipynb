{
  "nbformat": 4,
  "nbformat_minor": 0,
  "metadata": {
    "colab": {
      "provenance": [],
      "include_colab_link": true
    },
    "kernelspec": {
      "name": "python3",
      "display_name": "Python 3"
    },
    "language_info": {
      "name": "python"
    }
  },
  "cells": [
    {
      "cell_type": "markdown",
      "metadata": {
        "id": "view-in-github",
        "colab_type": "text"
      },
      "source": [
        "<a href=\"https://colab.research.google.com/github/katada3020/project/blob/main/bioinformatics.ipynb\" target=\"_parent\"><img src=\"https://colab.research.google.com/assets/colab-badge.svg\" alt=\"Open In Colab\"/></a>"
      ]
    },
    {
      "cell_type": "code",
      "execution_count": null,
      "metadata": {
        "colab": {
          "base_uri": "https://localhost:8080/"
        },
        "id": "T4J2YMxT2a2K",
        "outputId": "d8d4278f-07eb-4ab4-f7e2-dd3078940e50"
      },
      "outputs": [
        {
          "output_type": "stream",
          "name": "stdout",
          "text": [
            "Requirement already satisfied: dnatools in /usr/local/lib/python3.11/dist-packages (0.1)\n"
          ]
        }
      ],
      "source": [
        "!pip install dnatools"
      ]
    },
    {
      "cell_type": "code",
      "source": [
        "!pip install -i https://test.pypi.org/simple/ DNA-Toolkit"
      ],
      "metadata": {
        "colab": {
          "base_uri": "https://localhost:8080/"
        },
        "id": "vQVlqgNB4Ksf",
        "outputId": "97903771-da35-42b5-e1e2-a857aea123ea"
      },
      "execution_count": null,
      "outputs": [
        {
          "output_type": "stream",
          "name": "stdout",
          "text": [
            "Looking in indexes: https://test.pypi.org/simple/\n",
            "Collecting DNA-Toolkit\n",
            "  Downloading https://test-files.pythonhosted.org/packages/67/6a/3e99b7c3aeb69c8d7d6e6349d1d3fc27e5f8ada850c7fdcf0acff4beaee1/DNA_Toolkit-1.0.0-py3-none-any.whl.metadata (733 bytes)\n",
            "Downloading https://test-files.pythonhosted.org/packages/67/6a/3e99b7c3aeb69c8d7d6e6349d1d3fc27e5f8ada850c7fdcf0acff4beaee1/DNA_Toolkit-1.0.0-py3-none-any.whl (6.3 kB)\n",
            "Installing collected packages: DNA-Toolkit\n",
            "Successfully installed DNA-Toolkit-1.0.0\n"
          ]
        }
      ]
    },
    {
      "cell_type": "code",
      "source": [
        "import dna_toolkit.toolkit as toolkit\n",
        "from dna_toolkit.utilities import colored\n",
        "from dna_toolkit import structures\n",
        "from collections import Counter\n",
        "from dna_toolkit.structures import NUCLEOTIDES, DNA_CODONS, DNA_REVERSECOMP\n",
        "import random"
      ],
      "metadata": {
        "id": "BpU8i0Ti4y9d"
      },
      "execution_count": null,
      "outputs": []
    },
    {
      "cell_type": "code",
      "source": [
        "def validateSeq(dna_seq):\n",
        "    \"\"\"Checks the sequence to ensure it is a DNA string.\n",
        "    Invalidates any sequence containing elements other than A, T, G, and/or C\"\"\"\n",
        "    tmpseq = dna_seq.upper()\n",
        "    for nuc in tmpseq:\n",
        "        if nuc not in NUCLEOTIDES:\n",
        "            return False\n",
        "    return tmpseq"
      ],
      "metadata": {
        "id": "6d0ZZGz44zAu"
      },
      "execution_count": null,
      "outputs": []
    },
    {
      "cell_type": "code",
      "source": [
        "dna_seq = \"ATTTG\"\n",
        "print(validateSeq(dna_seq))"
      ],
      "metadata": {
        "colab": {
          "base_uri": "https://localhost:8080/"
        },
        "id": "RtJfs_0M4zEk",
        "outputId": "eb5ec7ab-de89-4358-9618-c57d5cd66169"
      },
      "execution_count": null,
      "outputs": [
        {
          "output_type": "stream",
          "name": "stdout",
          "text": [
            "ATTTG\n"
          ]
        }
      ]
    },
    {
      "cell_type": "code",
      "source": [
        "Nucleotides = [\"A\", \"C\", \"G\", \"T\"]"
      ],
      "metadata": {
        "id": "7ASUwpcK5yHn"
      },
      "execution_count": null,
      "outputs": []
    },
    {
      "cell_type": "markdown",
      "source": [
        "SKIP CELL"
      ],
      "metadata": {
        "id": "_uLbCmq4Cl_1"
      }
    },
    {
      "cell_type": "code",
      "source": [
        "#\"\"\"Generate a random DNA sequence, provided the length\"\"\"\n",
        "#rndDNAStr = ''.join([random.choice(Nucleotides)\n",
        " #                      for nuc in range(1000)])"
      ],
      "metadata": {
        "id": "yDXKyzND4zH8"
      },
      "execution_count": null,
      "outputs": []
    },
    {
      "cell_type": "markdown",
      "source": [
        "IMPORTING DNA SEQ."
      ],
      "metadata": {
        "id": "r6a009wHDIkA"
      }
    },
    {
      "cell_type": "markdown",
      "source": [
        "#Colletotrichum aenigma Nitrilase (Nitrilase), partial mRNA"
      ],
      "metadata": {
        "id": "4sXwlOmUDD3A"
      }
    },
    {
      "cell_type": "code",
      "source": [
        "DNAStr = \"ATGGCGAGCAAGGCCAAGATTGCCCTCATACAGATGCATCCGAAGGTCGGGAATCCCCAGAATCACCTTGAAGCGGCTAGCTTATCCTCGACGGCATTGGTCGCCATCTTCTCATACCCCGCCCCTCGCGCTGTCTCGCCAGCAGACAACTTTCGCAAAGCAGAGTCCTACATACGCAACGCCGCCTCGCAGGGTTGCGCGCTCGCCGTACTGCCCGAGTACCATCTCACGTCGTGGGCGCCGGATCATCCCGACTTCGTGCTGAGCTGCGAGCAGTCGGGTTCCTACCTTGGGAGTTATCAGGCTCTAGCCAAGGAACTGAGAATTTCCATTGTTCCTGGCACCATAGTGGAGCCGGAAGGTGAGGGAGACGACCTAGACTTGATCAACGCCGCGTACTTCATCGGACCAGACGGCACCATCCTTGGACGCTATGAGAAAAAGAACCTATGGCACAATGAGCGGCCACATCTGACCAAGGGTCCTCAACCACATGGGGCGTTTGATACGCCGCTTGGCCGGGCCGGACTGCTCGTCTGTTGGGATCTGGCATTCCCCGAGGCGTTCCGGGAGCTGATTCGTGACGGTGCGAGGATCATCGTCTGTCCCGCGTTCTGGATGGCGGACGAGTACAAGCGCGGTGGCTCCGGCGAAGTGGTGAACCGTGATTCGGAGAAGGTGTTCCTAGAGAACGTGCTTGTGGCGAGGGCGTTTGAAAACACAGCGGCAGTGGTGCTTGTCAATGCTGGCGGGCCCGAGGGCGGGGTTGAGAGGAGGTGGGATGGGTCGCAGTTGAGGTATTGCGGTGTCAGCCAGGTCGCGATGCCTCTCATCGGATCCATCGGGAAGTTGGGCGCAGAGGAGGCAGTGAGCATTGTCGAAGTTGACCTGGGCTTGCTGGACGTTGCTGAGGGGGCTTACAAGGTGAGAGAGGACATGCAGAAGGAAGGCTGGCATTACGGGTACTCAATCACCAAGGAGTGA\""
      ],
      "metadata": {
        "id": "1Fx-6BoU55gi"
      },
      "execution_count": null,
      "outputs": []
    },
    {
      "cell_type": "code",
      "source": [
        "print(validateSeq(DNAStr))"
      ],
      "metadata": {
        "colab": {
          "base_uri": "https://localhost:8080/"
        },
        "id": "IuJYJscd55pI",
        "outputId": "2db71019-cf5b-4dba-b5bc-b0a9a16c205d"
      },
      "execution_count": null,
      "outputs": [
        {
          "output_type": "stream",
          "name": "stdout",
          "text": [
            "AGTCGGTTGCCCAACACCGTCGGCGACGACCTCCAAACAACCTTTTGGGGTCTCGCTCGGCATGTCTCGCTTATTTCGCTTTGGAATTTCACGTTGACGCCGCAGTCAGCGGTAGCAGAGGCATCGGCAGCGGCAGTAGCAGCGACACGGGCCGAAAATAAAAGCGTTAACCGCTCTCCTCCAGTGCAGCAGCAGCAGCGGACCCAGCCAGTAGCCAGCAGCTAATCACCACATCCCAGATTCAGTTTCCAGTTCGAACTACACTCGAATCTCAAAAATGACGACCTACTTCAACTACCCCAGCAAGGAGCTGCAGGATGAGCTGCGCGAAATCGCCCAGAAAATCGTTGCCCCCGGCAAGGGAATCCTCGCCGCCGATGAGTCCGGCCCAACCATGGGCAAGCGTCTGCAGGACATCGGCGTGGAGAACACCGAGGACAACCGCCGTGCCTACCGTCAGCTGTTGTTCAGCACTGACCCCAAGCTGGCCGAGAACATCTCTGGAGTGATCCTGTTCCACGAGACCCTCTACCAGAAGGCCGATGATGGCACCCCCTTCGCCGAGATCCTGAAGAAGAAGGGAATCATTCTGGGCATCAAGGTCGACAAGGGTGTTGTCCCACTGTTCGGCTCTGAGGATGAGGTCACCACCCAGGGTCTGGATGACCTGGCCGCCCGTTGCGCCCAGTACAAGAAGGACGGTTGCGACTTCGCCAAGTGGCGTTGCGTCCTGAAGATCGGCAAGAACACCCCATCCTACCAGTCGATCCTGGAGAACGCCAATGTCCTGGCCCGCTACGCCTCCATCTGCCAGTCGCAGCGCATCGTCCCAATTGTGGAGCCCGAGGTTCTGCCCGATGGCGATCACGATCTGGACCGCGCCCAGAAGGTCACCGAGACCGTCCTGGCCGCCGTCTACAAGGCCCTGAGCGACCACCACGTCTACCTGGAGGGTACTCTGCTGAAGCCCAACATGGTCACCGCCGGTCAGTCGGCCAAGAAGAACACCCCCGAGGAGATCGCCCTGGCCACCGTGCAGGCTCTGCGCCGCACCGTTCCCGCCGCCGTTACTGGCGTGACCTTCCTGTCTGGAGGTCAGTCCGAGGAGGAGGCCACCGTCAACCTGAGTGCCATCAACAACGTTCCCTTGATCCGCCCATGGGCCCTCACCTTCTCGTACGGTCGTGCCCTGCAGGCCTCCGTCCTGCGTGCCTGGGCTGGCAAGAAGGAGAACATTGCTGCCGGCCAGAACGAGCTGCTTAAGCGCGCCAAGGCCAACGGTGATGCTGCTCAGGGCAAGTACGTTGCCGGCAGCGCTGGTGCCGGATCTGGATCCCTGTTCGTGGCCAACCACGCCTACTAAGGCGTTTGGTTGGACCTTGGCTACACGTTACTACAAAAAAAAAAAATACGAAGCAGATTGCTGGAAAAGTTTGGCAGATTTGTTTATTTTTACCTTAGTTTCGAGAGCTAAGCAAAGCAAGCATTACAAAAAATAACCAAAAAAAAAAAGATGAACGATTACACTTTCAAAACATGTTATATATATGTAGTACGTGACATTTTTGCAAGTTTATTATATTATAACATTATTTTAGAGAACAACTAAATGATGAGTGCAGAAGAAAGGATTGAATATGTTCGATGGAGAAACAATTCAACAATTCAAACAATTTTATCTTTAGTTTTAAGCACATGAACCTATTATTGTTGAAGTTATTACATTTCTATTCTATTATTATGATTATGCAAGATTTCAATGAAAACAAAAGGATATGTCGTAAATCGCTAGGCTAAAGCACATTTTATGGTGAAAACAACAGCAATCACTATCAGCAACACCTAAATGTATGAGGCTTGTAACATTGAAGTCGCACAACGTTTTTTGAATTTTTTTAATGTTTTATAAAAAGATCCACTATGAAAATCGATGTTTTACCATTATTATTATTATTAAACTTTATATTTATGATTGATAAGTATAAGTGAAACAAATGACGAGAATAAACAAACACATTAAAATAAACCCGAAAAGCCCCCAAAACAACTTTATTAACCTTATATACATATATTTACATTGTTAAAAGAGAACTTGTTGTTGC\n"
          ]
        }
      ]
    },
    {
      "cell_type": "code",
      "source": [
        "# COUNT NUCLEOTIDES\n",
        "def count_nuc_frequency(dna_seq):\n",
        "    \"\"\"Counts the frequency of each nucleotide in a DNA sequence\"\"\"\n",
        "    #  Alternatively: import collections\n",
        "    #  return dict(collections.Counter(dna_seq))\n",
        "    tmp_freq_dict = {\"A\": 0, \"C\": 0, \"G\": 0, \"T\": 0}\n",
        "    for nuc in dna_seq:\n",
        "        tmp_freq_dict[nuc] += 1\n",
        "    return tmp_freq_dict"
      ],
      "metadata": {
        "id": "ne_rQbjv76-H"
      },
      "execution_count": null,
      "outputs": []
    },
    {
      "cell_type": "code",
      "source": [
        "print(count_nuc_frequency(DNAStr))"
      ],
      "metadata": {
        "colab": {
          "base_uri": "https://localhost:8080/"
        },
        "id": "c9hBH4EQ77Aw",
        "outputId": "69bff80e-1764-4eb4-c449-207ee0ad3ae6"
      },
      "execution_count": null,
      "outputs": [
        {
          "output_type": "stream",
          "name": "stdout",
          "text": [
            "{'A': 205, 'C': 258, 'G': 321, 'T': 200}\n"
          ]
        }
      ]
    },
    {
      "cell_type": "code",
      "source": [
        "# lesson 2 TRANSCRIPTION AND REVERSE COMP\n",
        "def transcription(dna_seq):\n",
        "    \"\"\"DNA --> RNA transcription. Replaces Thyamine with Uracil\"\"\"\n",
        "    return dna_seq.replace(\"T\", \"U\")"
      ],
      "metadata": {
        "id": "VJHLsLMD77Dt"
      },
      "execution_count": null,
      "outputs": []
    },
    {
      "cell_type": "code",
      "source": [
        "print(transcription(DNAStr))"
      ],
      "metadata": {
        "colab": {
          "base_uri": "https://localhost:8080/"
        },
        "id": "rfv_in1R77G8",
        "outputId": "caf3f4be-9de1-4a64-a0d5-e796ea0061a8"
      },
      "execution_count": null,
      "outputs": [
        {
          "output_type": "stream",
          "name": "stdout",
          "text": [
            "AUGGCGAGCAAGGCCAAGAUUGCCCUCAUACAGAUGCAUCCGAAGGUCGGGAAUCCCCAGAAUCACCUUGAAGCGGCUAGCUUAUCCUCGACGGCAUUGGUCGCCAUCUUCUCAUACCCCGCCCCUCGCGCUGUCUCGCCAGCAGACAACUUUCGCAAAGCAGAGUCCUACAUACGCAACGCCGCCUCGCAGGGUUGCGCGCUCGCCGUACUGCCCGAGUACCAUCUCACGUCGUGGGCGCCGGAUCAUCCCGACUUCGUGCUGAGCUGCGAGCAGUCGGGUUCCUACCUUGGGAGUUAUCAGGCUCUAGCCAAGGAACUGAGAAUUUCCAUUGUUCCUGGCACCAUAGUGGAGCCGGAAGGUGAGGGAGACGACCUAGACUUGAUCAACGCCGCGUACUUCAUCGGACCAGACGGCACCAUCCUUGGACGCUAUGAGAAAAAGAACCUAUGGCACAAUGAGCGGCCACAUCUGACCAAGGGUCCUCAACCACAUGGGGCGUUUGAUACGCCGCUUGGCCGGGCCGGACUGCUCGUCUGUUGGGAUCUGGCAUUCCCCGAGGCGUUCCGGGAGCUGAUUCGUGACGGUGCGAGGAUCAUCGUCUGUCCCGCGUUCUGGAUGGCGGACGAGUACAAGCGCGGUGGCUCCGGCGAAGUGGUGAACCGUGAUUCGGAGAAGGUGUUCCUAGAGAACGUGCUUGUGGCGAGGGCGUUUGAAAACACAGCGGCAGUGGUGCUUGUCAAUGCUGGCGGGCCCGAGGGCGGGGUUGAGAGGAGGUGGGAUGGGUCGCAGUUGAGGUAUUGCGGUGUCAGCCAGGUCGCGAUGCCUCUCAUCGGAUCCAUCGGGAAGUUGGGCGCAGAGGAGGCAGUGAGCAUUGUCGAAGUUGACCUGGGCUUGCUGGACGUUGCUGAGGGGGCUUACAAGGUGAGAGAGGACAUGCAGAAGGAAGGCUGGCAUUACGGGUACUCAAUCACCAAGGAGUGA\n"
          ]
        }
      ]
    },
    {
      "cell_type": "code",
      "source": [
        "def reverse_comp(dna_seq):\n",
        "    \"\"\"Finds reverse compliment of DNA strand. Replaces A with T, G with C, etc\"\"\"\n",
        "    #  Alternatively:\n",
        "    #  mapping = str.maketrans('ATCG', 'TAGC')\n",
        "    #  return dna_seq.translate(mapping)[::-1]\n",
        "    return \"\".join([DNA_REVERSECOMP[nuc] for nuc in dna_seq])[::-1]"
      ],
      "metadata": {
        "id": "0avgXJVd77Kl"
      },
      "execution_count": null,
      "outputs": []
    },
    {
      "cell_type": "code",
      "source": [
        "print(reverse_comp(DNAStr))"
      ],
      "metadata": {
        "colab": {
          "base_uri": "https://localhost:8080/"
        },
        "id": "KMPvYrlU8hSL",
        "outputId": "b326e053-af05-42a7-9070-2aa1c29bfa23"
      },
      "execution_count": null,
      "outputs": [
        {
          "output_type": "stream",
          "name": "stdout",
          "text": [
            "TCACTCCTTGGTGATTGAGTACCCGTAATGCCAGCCTTCCTTCTGCATGTCCTCTCTCACCTTGTAAGCCCCCTCAGCAACGTCCAGCAAGCCCAGGTCAACTTCGACAATGCTCACTGCCTCCTCTGCGCCCAACTTCCCGATGGATCCGATGAGAGGCATCGCGACCTGGCTGACACCGCAATACCTCAACTGCGACCCATCCCACCTCCTCTCAACCCCGCCCTCGGGCCCGCCAGCATTGACAAGCACCACTGCCGCTGTGTTTTCAAACGCCCTCGCCACAAGCACGTTCTCTAGGAACACCTTCTCCGAATCACGGTTCACCACTTCGCCGGAGCCACCGCGCTTGTACTCGTCCGCCATCCAGAACGCGGGACAGACGATGATCCTCGCACCGTCACGAATCAGCTCCCGGAACGCCTCGGGGAATGCCAGATCCCAACAGACGAGCAGTCCGGCCCGGCCAAGCGGCGTATCAAACGCCCCATGTGGTTGAGGACCCTTGGTCAGATGTGGCCGCTCATTGTGCCATAGGTTCTTTTTCTCATAGCGTCCAAGGATGGTGCCGTCTGGTCCGATGAAGTACGCGGCGTTGATCAAGTCTAGGTCGTCTCCCTCACCTTCCGGCTCCACTATGGTGCCAGGAACAATGGAAATTCTCAGTTCCTTGGCTAGAGCCTGATAACTCCCAAGGTAGGAACCCGACTGCTCGCAGCTCAGCACGAAGTCGGGATGATCCGGCGCCCACGACGTGAGATGGTACTCGGGCAGTACGGCGAGCGCGCAACCCTGCGAGGCGGCGTTGCGTATGTAGGACTCTGCTTTGCGAAAGTTGTCTGCTGGCGAGACAGCGCGAGGGGCGGGGTATGAGAAGATGGCGACCAATGCCGTCGAGGATAAGCTAGCCGCTTCAAGGTGATTCTGGGGATTCCCGACCTTCGGATGCATCTGTATGAGGGCAATCTTGGCCTTGCTCGCCAT\n"
          ]
        }
      ]
    },
    {
      "cell_type": "code",
      "source": [
        "def colored(seq):\n",
        "    bcolors = {\n",
        "        'A': '\\033[92m',\n",
        "        'C': '\\033[94m',\n",
        "        'G': '\\033[93m',\n",
        "        'T': '\\033[91m',\n",
        "        'U': '\\033[91m',\n",
        "        'reset': '\\033[0;0m'\n",
        "    }\n",
        "\n",
        "    tmpStr = \"\"\n",
        "\n",
        "    for nuc in seq:\n",
        "        if nuc in bcolors:\n",
        "            tmpStr += bcolors[nuc] + nuc\n",
        "        else:\n",
        "            tmpStr += bcolors['reset'] + nuc\n",
        "\n",
        "    return tmpStr + '\\033[0;0m'"
      ],
      "metadata": {
        "id": "r7ZyAzwk8heq"
      },
      "execution_count": null,
      "outputs": []
    },
    {
      "cell_type": "code",
      "source": [
        "# LESSON 3 GC CONTENT\n",
        "def gc_content(dna_seq):\n",
        "    \"\"\"Returns GC content of a DNA strand as a percentage\"\"\"\n",
        "    return round((dna_seq.count(\"C\") + dna_seq.count(\"G\")) / len(dna_seq) * 100)"
      ],
      "metadata": {
        "id": "df5fG4_78hmO"
      },
      "execution_count": null,
      "outputs": []
    },
    {
      "cell_type": "code",
      "source": [
        "def gc_content_sub(dna_seq, k=20):\n",
        "    \"\"\"Returns GC content of a subsection of a longer strand of DNA, where k = size of each subsection\"\"\"\n",
        "    res = []\n",
        "    for i in range(0, len(dna_seq) - k + 1, k):\n",
        "        subseq = dna_seq[i : i + k]\n",
        "        res.append(gc_content(subseq))\n",
        "    return res"
      ],
      "metadata": {
        "id": "UjnqZgrI8hqx"
      },
      "execution_count": null,
      "outputs": []
    },
    {
      "cell_type": "markdown",
      "source": [
        "#Part 4: Translation, Codon Usage"
      ],
      "metadata": {
        "id": "CcuBpRJs9ejf"
      }
    },
    {
      "cell_type": "code",
      "source": [
        "def translate_seq(dna_seq, init_pos=0):\n",
        "    \"\"\"Translates nucleotide sequence into amino acid sequence\"\"\"\n",
        "    return [\n",
        "        DNA_CODONS[dna_seq[pos : pos + 3]]\n",
        "        for pos in range(init_pos, len(dna_seq) - 2, 3)\n",
        "    ]"
      ],
      "metadata": {
        "id": "dR4IGRwg9XVD"
      },
      "execution_count": null,
      "outputs": []
    },
    {
      "cell_type": "code",
      "source": [
        "def codon_usage(dna_seq, aminoacid):\n",
        "    \"\"\"Determines the frequency of a certain specified amino acid in a protein sequence\"\"\"\n",
        "    tmplist = []\n",
        "    for i in range(0, len(dna_seq) - 2, 3):\n",
        "        if DNA_CODONS[dna_seq[i : i + 3]] == aminoacid:\n",
        "            tmplist.append(dna_seq[i : i + 3])\n",
        "\n",
        "    freq_dict = Counter(tmplist)\n",
        "    total_weight = sum(freq_dict.values())\n",
        "    for dna_seq in freq_dict:\n",
        "        freq_dict[dna_seq] = round(freq_dict[dna_seq] / total_weight, 2)\n",
        "    return freq_dict"
      ],
      "metadata": {
        "id": "IHznRWHa9Xe5"
      },
      "execution_count": null,
      "outputs": []
    },
    {
      "cell_type": "markdown",
      "source": [
        "# PART 5 OPEN READING FRAMES"
      ],
      "metadata": {
        "id": "7Ayecu3G91_S"
      }
    },
    {
      "cell_type": "code",
      "source": [
        "def gen_reading_frames(dna_seq):\n",
        "    \"\"\"Generate the six reading frames of a DNA sequence, includng reverse compliment\"\"\"\n",
        "    frames = []\n",
        "    frames.append(translate_seq(dna_seq, 0))\n",
        "    frames.append(translate_seq(dna_seq, 1))\n",
        "    frames.append(translate_seq(dna_seq, 2))\n",
        "    frames.append(translate_seq(reverse_comp(dna_seq), 0))\n",
        "    frames.append(translate_seq(reverse_comp(dna_seq), 1))\n",
        "    frames.append(translate_seq(reverse_comp(dna_seq), 2))\n",
        "    return frames"
      ],
      "metadata": {
        "id": "2j0v8vTy9XkP"
      },
      "execution_count": null,
      "outputs": []
    },
    {
      "cell_type": "markdown",
      "source": [
        "An Open Reading Frame (ORF) is a continuous stretch of nucleotides in a DNA or RNA sequence that starts with a start codon (AUG in mRNA, encoding methionine) and ends with a stop codon (UAA, UAG, or UGA in mRNA). ORFs represent potential coding regions for proteins and are crucial in gene prediction and protein synthesis studies.\n",
        "\n",
        "1. How ORFs Work\n",
        "Start and Stop Codons: An ORF begins with a start codon and ends with a stop codon without encountering another stop codon in between.\n",
        "Codon Triplets: ORFs are read in sets of three nucleotides (codons), where each codon specifies an amino acid or signals termination.\n",
        "Translation: Ribosomes use the ORF in mRNA to synthesize proteins by matching codons with tRNAs carrying the corresponding amino acids.\n",
        "The 6 ORFs in a DNA Sequence\n",
        "Since DNA is double-stranded and codons are read in triplets, each strand can be read in three possible reading frames, yielding six potential ORFs in total:\n",
        "\n",
        "- 3 forward frames on one strand.\n",
        "- 3 reverse frames on the complementary strand."
      ],
      "metadata": {
        "id": "X7Sh8WyjKr32"
      }
    },
    {
      "cell_type": "markdown",
      "source": [
        "Example: 5' - ATGAAAGGGTTT - 3'"
      ],
      "metadata": {
        "id": "j2I3azMEK-vn"
      }
    },
    {
      "cell_type": "markdown",
      "source": [
        "- Frame 1: Starts reading from the first nucleotide (ATG...)\n",
        "- Frame 2: Starts reading from the second nucleotide (TGA...)\n",
        "- Frame 3: Starts reading from the third nucleotide (GAA...)\n",
        "# Why 6 ORFs Are Considered\n",
        "Unknown Coding Direction: In computational gene prediction, it's not always known which strand contains the coding sequence, so both are analyzed.\n",
        "Frameshift Potential: Any sequence could have coding potential depending on where translation begins, making all three frames on each strand relevant.\n",
        "#Bioinformatics Tools: Programs scan all 6 ORFs to identify the longest uninterrupted ORF, often indicating a functional gene.\n",
        "#Applications of ORF Analysis\n",
        "Gene Prediction: Identifying potential genes in sequenced genomes.\n",
        "Annotation of Genomes: Defining protein-coding regions.\n",
        "Biotechnology and Genetic Engineering: Designing constructs for protein expression."
      ],
      "metadata": {
        "id": "IUBky002LKHj"
      }
    },
    {
      "cell_type": "markdown",
      "source": [
        "# Part 6: Protein search in a reading frame.... underscore is a stop codon"
      ],
      "metadata": {
        "id": "9qczq02x-E9b"
      }
    },
    {
      "cell_type": "code",
      "source": [
        "def proteins_from_rf(aa_seq):\n",
        "    \"\"\"Search sequence for start and stop codons and compute all possible\n",
        "    proteins in an amino acid sequence to return a list of possible proteins\"\"\"\n",
        "    current_prot = []\n",
        "    proteins = []\n",
        "    for aa in aa_seq:\n",
        "        if aa == \"_\":\n",
        "            #  STOP accumulating amino acids if STOP codon is found\n",
        "            if current_prot:\n",
        "                for p in current_prot:\n",
        "                    proteins.append(p)\n",
        "                current_prot = []\n",
        "        else:\n",
        "            #  START accumulating amino acids if START codon found\n",
        "            if aa == \"M\":\n",
        "                current_prot.append(\"\")\n",
        "            for i, _ in enumerate(current_prot):\n",
        "                current_prot[i] += aa\n",
        "\n",
        "            # for i in range(len(current_prot)):\n",
        "            #   current_prot[i] += aa\n",
        "    return proteins"
      ],
      "metadata": {
        "id": "OkQJuzee9XpC"
      },
      "execution_count": null,
      "outputs": []
    },
    {
      "cell_type": "code",
      "source": [
        "test_rf_frame = ['H', 'Y', 'M', 'T', 'I', 'I', 'K', 'L', 'F', '_', 'L', 'R', 'L', 'D', 'G', 'S']"
      ],
      "metadata": {
        "id": "-wglzY979Xqg"
      },
      "execution_count": null,
      "outputs": []
    },
    {
      "cell_type": "code",
      "source": [
        "print(proteins_from_rf(test_rf_frame))"
      ],
      "metadata": {
        "colab": {
          "base_uri": "https://localhost:8080/"
        },
        "id": "RlFYhPpy9XuN",
        "outputId": "b7d26154-5051-4482-b45a-f367bd4f76c2"
      },
      "execution_count": null,
      "outputs": [
        {
          "output_type": "stream",
          "name": "stdout",
          "text": [
            "['MTIIKLF']\n"
          ]
        }
      ]
    },
    {
      "cell_type": "markdown",
      "source": [
        "#  Part 7: A search for a real protein from NCBI database"
      ],
      "metadata": {
        "id": "ECEiPDRW-6ck"
      }
    },
    {
      "cell_type": "code",
      "source": [
        " def all_proteins_from_orfs(self, startReadPos=0, endReadPos=0, ordered=False):\n",
        "        \"\"\"Compute all possible proteins for all open reading frames\"\"\"\n",
        "        \"\"\"Protine Search DB: https://www.ncbi.nlm.nih.gov/nuccore/NM_001185097.2\"\"\"\n",
        "        \"\"\"API can be used to pull protein info\"\"\"\n",
        "        if endReadPos > startReadPos:\n",
        "            tmp_seq = bio_seq(\n",
        "                self.seq[startReadPos: endReadPos], self.seq_type)\n",
        "            rfs = tmp_seq.gen_reading_frames()\n",
        "        else:\n",
        "            rfs = self.gen_reading_frames()\n",
        "\n",
        "        res = []\n",
        "        for rf in rfs:\n",
        "            prots = self.proteins_from_rf(rf)\n",
        "            for p in prots:\n",
        "                res.append(p)\n",
        "\n",
        "        if ordered:\n",
        "            return sorted(res, key=len, reverse=True)\n",
        "        return res"
      ],
      "metadata": {
        "id": "r6eTsGse9Xzu"
      },
      "execution_count": null,
      "outputs": []
    },
    {
      "cell_type": "code",
      "source": [
        "print(f'\\nSequence Length: {colored(DNAStr)}\\n')\n",
        "print(f'[1] + Sequence Length: {len(DNAStr)}\\n')\n",
        "print(colored(f'[2] + Nucleotide Frequency: {count_nuc_frequency(DNAStr)}\\n'))\n",
        "print(colored(f'[3] + DNA/RNA Transcription: {transcription(DNAStr)}\\n'))\n",
        "\n",
        "print(f\"[4] + DNA String + Complement + Reverse Compliment:\\n5' {colored(DNAStr)} 3'\")\n",
        "print(f\"   {''.join(['|' for c in range(len(DNAStr))])}\")\n",
        "print(f\"3' {colored(reverse_comp(DNAStr)[::-1])} 5' [Complement]\")\n",
        "print(f\"5' {colored(reverse_comp(DNAStr))} 3' [Rev. Complement]\\n\")\n",
        "print(f\"[5] + GC Content: {gc_content(DNAStr)}%\\n\")\n",
        "print(\n",
        "        f\"[6] + GC Content in Subsection k=5: {gc_content_sub(DNAStr, k=5)}\\n\"\n",
        "    )\n",
        "print(f\"[7] + Aminoacid Sequence from DNA: {translate_seq(DNAStr, 0)}\\n\")\n",
        "print(f'[8] + Codon Frequency (L): {codon_usage(DNAStr, \"L\")}\\n')\n",
        "print(f\"[9] + Reading Frames:\")\n",
        "for frame in toolkit.gen_reading_frames(DNAStr):\n",
        "        print(frame)\n",
        "print(f\"\\n[10] + All proteins in 6 open reading frames:\")\n",
        "for prot in toolkit.all_proteins(DNAStr, 0, 0, True):\n",
        "        print(f\"{prot}\")"
      ],
      "metadata": {
        "colab": {
          "base_uri": "https://localhost:8080/"
        },
        "id": "HpBEZnvD_B2y",
        "outputId": "b27977be-169f-49b2-c555-c4e3bc725140"
      },
      "execution_count": null,
      "outputs": [
        {
          "output_type": "stream",
          "name": "stdout",
          "text": [
            "\n",
            "Sequence Length: \u001b[92mA\u001b[91mT\u001b[93mG\u001b[93mG\u001b[94mC\u001b[93mG\u001b[92mA\u001b[93mG\u001b[94mC\u001b[92mA\u001b[92mA\u001b[93mG\u001b[93mG\u001b[94mC\u001b[94mC\u001b[92mA\u001b[92mA\u001b[93mG\u001b[92mA\u001b[91mT\u001b[91mT\u001b[93mG\u001b[94mC\u001b[94mC\u001b[94mC\u001b[91mT\u001b[94mC\u001b[92mA\u001b[91mT\u001b[92mA\u001b[94mC\u001b[92mA\u001b[93mG\u001b[92mA\u001b[91mT\u001b[93mG\u001b[94mC\u001b[92mA\u001b[91mT\u001b[94mC\u001b[94mC\u001b[93mG\u001b[92mA\u001b[92mA\u001b[93mG\u001b[93mG\u001b[91mT\u001b[94mC\u001b[93mG\u001b[93mG\u001b[93mG\u001b[92mA\u001b[92mA\u001b[91mT\u001b[94mC\u001b[94mC\u001b[94mC\u001b[94mC\u001b[92mA\u001b[93mG\u001b[92mA\u001b[92mA\u001b[91mT\u001b[94mC\u001b[92mA\u001b[94mC\u001b[94mC\u001b[91mT\u001b[91mT\u001b[93mG\u001b[92mA\u001b[92mA\u001b[93mG\u001b[94mC\u001b[93mG\u001b[93mG\u001b[94mC\u001b[91mT\u001b[92mA\u001b[93mG\u001b[94mC\u001b[91mT\u001b[91mT\u001b[92mA\u001b[91mT\u001b[94mC\u001b[94mC\u001b[91mT\u001b[94mC\u001b[93mG\u001b[92mA\u001b[94mC\u001b[93mG\u001b[93mG\u001b[94mC\u001b[92mA\u001b[91mT\u001b[91mT\u001b[93mG\u001b[93mG\u001b[91mT\u001b[94mC\u001b[93mG\u001b[94mC\u001b[94mC\u001b[92mA\u001b[91mT\u001b[94mC\u001b[91mT\u001b[91mT\u001b[94mC\u001b[91mT\u001b[94mC\u001b[92mA\u001b[91mT\u001b[92mA\u001b[94mC\u001b[94mC\u001b[94mC\u001b[94mC\u001b[93mG\u001b[94mC\u001b[94mC\u001b[94mC\u001b[94mC\u001b[91mT\u001b[94mC\u001b[93mG\u001b[94mC\u001b[93mG\u001b[94mC\u001b[91mT\u001b[93mG\u001b[91mT\u001b[94mC\u001b[91mT\u001b[94mC\u001b[93mG\u001b[94mC\u001b[94mC\u001b[92mA\u001b[93mG\u001b[94mC\u001b[92mA\u001b[93mG\u001b[92mA\u001b[94mC\u001b[92mA\u001b[92mA\u001b[94mC\u001b[91mT\u001b[91mT\u001b[91mT\u001b[94mC\u001b[93mG\u001b[94mC\u001b[92mA\u001b[92mA\u001b[92mA\u001b[93mG\u001b[94mC\u001b[92mA\u001b[93mG\u001b[92mA\u001b[93mG\u001b[91mT\u001b[94mC\u001b[94mC\u001b[91mT\u001b[92mA\u001b[94mC\u001b[92mA\u001b[91mT\u001b[92mA\u001b[94mC\u001b[93mG\u001b[94mC\u001b[92mA\u001b[92mA\u001b[94mC\u001b[93mG\u001b[94mC\u001b[94mC\u001b[93mG\u001b[94mC\u001b[94mC\u001b[91mT\u001b[94mC\u001b[93mG\u001b[94mC\u001b[92mA\u001b[93mG\u001b[93mG\u001b[93mG\u001b[91mT\u001b[91mT\u001b[93mG\u001b[94mC\u001b[93mG\u001b[94mC\u001b[93mG\u001b[94mC\u001b[91mT\u001b[94mC\u001b[93mG\u001b[94mC\u001b[94mC\u001b[93mG\u001b[91mT\u001b[92mA\u001b[94mC\u001b[91mT\u001b[93mG\u001b[94mC\u001b[94mC\u001b[94mC\u001b[93mG\u001b[92mA\u001b[93mG\u001b[91mT\u001b[92mA\u001b[94mC\u001b[94mC\u001b[92mA\u001b[91mT\u001b[94mC\u001b[91mT\u001b[94mC\u001b[92mA\u001b[94mC\u001b[93mG\u001b[91mT\u001b[94mC\u001b[93mG\u001b[91mT\u001b[93mG\u001b[93mG\u001b[93mG\u001b[94mC\u001b[93mG\u001b[94mC\u001b[94mC\u001b[93mG\u001b[93mG\u001b[92mA\u001b[91mT\u001b[94mC\u001b[92mA\u001b[91mT\u001b[94mC\u001b[94mC\u001b[94mC\u001b[93mG\u001b[92mA\u001b[94mC\u001b[91mT\u001b[91mT\u001b[94mC\u001b[93mG\u001b[91mT\u001b[93mG\u001b[94mC\u001b[91mT\u001b[93mG\u001b[92mA\u001b[93mG\u001b[94mC\u001b[91mT\u001b[93mG\u001b[94mC\u001b[93mG\u001b[92mA\u001b[93mG\u001b[94mC\u001b[92mA\u001b[93mG\u001b[91mT\u001b[94mC\u001b[93mG\u001b[93mG\u001b[93mG\u001b[91mT\u001b[91mT\u001b[94mC\u001b[94mC\u001b[91mT\u001b[92mA\u001b[94mC\u001b[94mC\u001b[91mT\u001b[91mT\u001b[93mG\u001b[93mG\u001b[93mG\u001b[92mA\u001b[93mG\u001b[91mT\u001b[91mT\u001b[92mA\u001b[91mT\u001b[94mC\u001b[92mA\u001b[93mG\u001b[93mG\u001b[94mC\u001b[91mT\u001b[94mC\u001b[91mT\u001b[92mA\u001b[93mG\u001b[94mC\u001b[94mC\u001b[92mA\u001b[92mA\u001b[93mG\u001b[93mG\u001b[92mA\u001b[92mA\u001b[94mC\u001b[91mT\u001b[93mG\u001b[92mA\u001b[93mG\u001b[92mA\u001b[92mA\u001b[91mT\u001b[91mT\u001b[91mT\u001b[94mC\u001b[94mC\u001b[92mA\u001b[91mT\u001b[91mT\u001b[93mG\u001b[91mT\u001b[91mT\u001b[94mC\u001b[94mC\u001b[91mT\u001b[93mG\u001b[93mG\u001b[94mC\u001b[92mA\u001b[94mC\u001b[94mC\u001b[92mA\u001b[91mT\u001b[92mA\u001b[93mG\u001b[91mT\u001b[93mG\u001b[93mG\u001b[92mA\u001b[93mG\u001b[94mC\u001b[94mC\u001b[93mG\u001b[93mG\u001b[92mA\u001b[92mA\u001b[93mG\u001b[93mG\u001b[91mT\u001b[93mG\u001b[92mA\u001b[93mG\u001b[93mG\u001b[93mG\u001b[92mA\u001b[93mG\u001b[92mA\u001b[94mC\u001b[93mG\u001b[92mA\u001b[94mC\u001b[94mC\u001b[91mT\u001b[92mA\u001b[93mG\u001b[92mA\u001b[94mC\u001b[91mT\u001b[91mT\u001b[93mG\u001b[92mA\u001b[91mT\u001b[94mC\u001b[92mA\u001b[92mA\u001b[94mC\u001b[93mG\u001b[94mC\u001b[94mC\u001b[93mG\u001b[94mC\u001b[93mG\u001b[91mT\u001b[92mA\u001b[94mC\u001b[91mT\u001b[91mT\u001b[94mC\u001b[92mA\u001b[91mT\u001b[94mC\u001b[93mG\u001b[93mG\u001b[92mA\u001b[94mC\u001b[94mC\u001b[92mA\u001b[93mG\u001b[92mA\u001b[94mC\u001b[93mG\u001b[93mG\u001b[94mC\u001b[92mA\u001b[94mC\u001b[94mC\u001b[92mA\u001b[91mT\u001b[94mC\u001b[94mC\u001b[91mT\u001b[91mT\u001b[93mG\u001b[93mG\u001b[92mA\u001b[94mC\u001b[93mG\u001b[94mC\u001b[91mT\u001b[92mA\u001b[91mT\u001b[93mG\u001b[92mA\u001b[93mG\u001b[92mA\u001b[92mA\u001b[92mA\u001b[92mA\u001b[92mA\u001b[93mG\u001b[92mA\u001b[92mA\u001b[94mC\u001b[94mC\u001b[91mT\u001b[92mA\u001b[91mT\u001b[93mG\u001b[93mG\u001b[94mC\u001b[92mA\u001b[94mC\u001b[92mA\u001b[92mA\u001b[91mT\u001b[93mG\u001b[92mA\u001b[93mG\u001b[94mC\u001b[93mG\u001b[93mG\u001b[94mC\u001b[94mC\u001b[92mA\u001b[94mC\u001b[92mA\u001b[91mT\u001b[94mC\u001b[91mT\u001b[93mG\u001b[92mA\u001b[94mC\u001b[94mC\u001b[92mA\u001b[92mA\u001b[93mG\u001b[93mG\u001b[93mG\u001b[91mT\u001b[94mC\u001b[94mC\u001b[91mT\u001b[94mC\u001b[92mA\u001b[92mA\u001b[94mC\u001b[94mC\u001b[92mA\u001b[94mC\u001b[92mA\u001b[91mT\u001b[93mG\u001b[93mG\u001b[93mG\u001b[93mG\u001b[94mC\u001b[93mG\u001b[91mT\u001b[91mT\u001b[91mT\u001b[93mG\u001b[92mA\u001b[91mT\u001b[92mA\u001b[94mC\u001b[93mG\u001b[94mC\u001b[94mC\u001b[93mG\u001b[94mC\u001b[91mT\u001b[91mT\u001b[93mG\u001b[93mG\u001b[94mC\u001b[94mC\u001b[93mG\u001b[93mG\u001b[93mG\u001b[94mC\u001b[94mC\u001b[93mG\u001b[93mG\u001b[92mA\u001b[94mC\u001b[91mT\u001b[93mG\u001b[94mC\u001b[91mT\u001b[94mC\u001b[93mG\u001b[91mT\u001b[94mC\u001b[91mT\u001b[93mG\u001b[91mT\u001b[91mT\u001b[93mG\u001b[93mG\u001b[93mG\u001b[92mA\u001b[91mT\u001b[94mC\u001b[91mT\u001b[93mG\u001b[93mG\u001b[94mC\u001b[92mA\u001b[91mT\u001b[91mT\u001b[94mC\u001b[94mC\u001b[94mC\u001b[94mC\u001b[93mG\u001b[92mA\u001b[93mG\u001b[93mG\u001b[94mC\u001b[93mG\u001b[91mT\u001b[91mT\u001b[94mC\u001b[94mC\u001b[93mG\u001b[93mG\u001b[93mG\u001b[92mA\u001b[93mG\u001b[94mC\u001b[91mT\u001b[93mG\u001b[92mA\u001b[91mT\u001b[91mT\u001b[94mC\u001b[93mG\u001b[91mT\u001b[93mG\u001b[92mA\u001b[94mC\u001b[93mG\u001b[93mG\u001b[91mT\u001b[93mG\u001b[94mC\u001b[93mG\u001b[92mA\u001b[93mG\u001b[93mG\u001b[92mA\u001b[91mT\u001b[94mC\u001b[92mA\u001b[91mT\u001b[94mC\u001b[93mG\u001b[91mT\u001b[94mC\u001b[91mT\u001b[93mG\u001b[91mT\u001b[94mC\u001b[94mC\u001b[94mC\u001b[93mG\u001b[94mC\u001b[93mG\u001b[91mT\u001b[91mT\u001b[94mC\u001b[91mT\u001b[93mG\u001b[93mG\u001b[92mA\u001b[91mT\u001b[93mG\u001b[93mG\u001b[94mC\u001b[93mG\u001b[93mG\u001b[92mA\u001b[94mC\u001b[93mG\u001b[92mA\u001b[93mG\u001b[91mT\u001b[92mA\u001b[94mC\u001b[92mA\u001b[92mA\u001b[93mG\u001b[94mC\u001b[93mG\u001b[94mC\u001b[93mG\u001b[93mG\u001b[91mT\u001b[93mG\u001b[93mG\u001b[94mC\u001b[91mT\u001b[94mC\u001b[94mC\u001b[93mG\u001b[93mG\u001b[94mC\u001b[93mG\u001b[92mA\u001b[92mA\u001b[93mG\u001b[91mT\u001b[93mG\u001b[93mG\u001b[91mT\u001b[93mG\u001b[92mA\u001b[92mA\u001b[94mC\u001b[94mC\u001b[93mG\u001b[91mT\u001b[93mG\u001b[92mA\u001b[91mT\u001b[91mT\u001b[94mC\u001b[93mG\u001b[93mG\u001b[92mA\u001b[93mG\u001b[92mA\u001b[92mA\u001b[93mG\u001b[93mG\u001b[91mT\u001b[93mG\u001b[91mT\u001b[91mT\u001b[94mC\u001b[94mC\u001b[91mT\u001b[92mA\u001b[93mG\u001b[92mA\u001b[93mG\u001b[92mA\u001b[92mA\u001b[94mC\u001b[93mG\u001b[91mT\u001b[93mG\u001b[94mC\u001b[91mT\u001b[91mT\u001b[93mG\u001b[91mT\u001b[93mG\u001b[93mG\u001b[94mC\u001b[93mG\u001b[92mA\u001b[93mG\u001b[93mG\u001b[93mG\u001b[94mC\u001b[93mG\u001b[91mT\u001b[91mT\u001b[91mT\u001b[93mG\u001b[92mA\u001b[92mA\u001b[92mA\u001b[92mA\u001b[94mC\u001b[92mA\u001b[94mC\u001b[92mA\u001b[93mG\u001b[94mC\u001b[93mG\u001b[93mG\u001b[94mC\u001b[92mA\u001b[93mG\u001b[91mT\u001b[93mG\u001b[93mG\u001b[91mT\u001b[93mG\u001b[94mC\u001b[91mT\u001b[91mT\u001b[93mG\u001b[91mT\u001b[94mC\u001b[92mA\u001b[92mA\u001b[91mT\u001b[93mG\u001b[94mC\u001b[91mT\u001b[93mG\u001b[93mG\u001b[94mC\u001b[93mG\u001b[93mG\u001b[93mG\u001b[94mC\u001b[94mC\u001b[94mC\u001b[93mG\u001b[92mA\u001b[93mG\u001b[93mG\u001b[93mG\u001b[94mC\u001b[93mG\u001b[93mG\u001b[93mG\u001b[93mG\u001b[91mT\u001b[91mT\u001b[93mG\u001b[92mA\u001b[93mG\u001b[92mA\u001b[93mG\u001b[93mG\u001b[92mA\u001b[93mG\u001b[93mG\u001b[91mT\u001b[93mG\u001b[93mG\u001b[93mG\u001b[92mA\u001b[91mT\u001b[93mG\u001b[93mG\u001b[93mG\u001b[91mT\u001b[94mC\u001b[93mG\u001b[94mC\u001b[92mA\u001b[93mG\u001b[91mT\u001b[91mT\u001b[93mG\u001b[92mA\u001b[93mG\u001b[93mG\u001b[91mT\u001b[92mA\u001b[91mT\u001b[91mT\u001b[93mG\u001b[94mC\u001b[93mG\u001b[93mG\u001b[91mT\u001b[93mG\u001b[91mT\u001b[94mC\u001b[92mA\u001b[93mG\u001b[94mC\u001b[94mC\u001b[92mA\u001b[93mG\u001b[93mG\u001b[91mT\u001b[94mC\u001b[93mG\u001b[94mC\u001b[93mG\u001b[92mA\u001b[91mT\u001b[93mG\u001b[94mC\u001b[94mC\u001b[91mT\u001b[94mC\u001b[91mT\u001b[94mC\u001b[92mA\u001b[91mT\u001b[94mC\u001b[93mG\u001b[93mG\u001b[92mA\u001b[91mT\u001b[94mC\u001b[94mC\u001b[92mA\u001b[91mT\u001b[94mC\u001b[93mG\u001b[93mG\u001b[93mG\u001b[92mA\u001b[92mA\u001b[93mG\u001b[91mT\u001b[91mT\u001b[93mG\u001b[93mG\u001b[93mG\u001b[94mC\u001b[93mG\u001b[94mC\u001b[92mA\u001b[93mG\u001b[92mA\u001b[93mG\u001b[93mG\u001b[92mA\u001b[93mG\u001b[93mG\u001b[94mC\u001b[92mA\u001b[93mG\u001b[91mT\u001b[93mG\u001b[92mA\u001b[93mG\u001b[94mC\u001b[92mA\u001b[91mT\u001b[91mT\u001b[93mG\u001b[91mT\u001b[94mC\u001b[93mG\u001b[92mA\u001b[92mA\u001b[93mG\u001b[91mT\u001b[91mT\u001b[93mG\u001b[92mA\u001b[94mC\u001b[94mC\u001b[91mT\u001b[93mG\u001b[93mG\u001b[93mG\u001b[94mC\u001b[91mT\u001b[91mT\u001b[93mG\u001b[94mC\u001b[91mT\u001b[93mG\u001b[93mG\u001b[92mA\u001b[94mC\u001b[93mG\u001b[91mT\u001b[91mT\u001b[93mG\u001b[94mC\u001b[91mT\u001b[93mG\u001b[92mA\u001b[93mG\u001b[93mG\u001b[93mG\u001b[93mG\u001b[93mG\u001b[94mC\u001b[91mT\u001b[91mT\u001b[92mA\u001b[94mC\u001b[92mA\u001b[92mA\u001b[93mG\u001b[93mG\u001b[91mT\u001b[93mG\u001b[92mA\u001b[93mG\u001b[92mA\u001b[93mG\u001b[92mA\u001b[93mG\u001b[93mG\u001b[92mA\u001b[94mC\u001b[92mA\u001b[91mT\u001b[93mG\u001b[94mC\u001b[92mA\u001b[93mG\u001b[92mA\u001b[92mA\u001b[93mG\u001b[93mG\u001b[92mA\u001b[92mA\u001b[93mG\u001b[93mG\u001b[94mC\u001b[91mT\u001b[93mG\u001b[93mG\u001b[94mC\u001b[92mA\u001b[91mT\u001b[91mT\u001b[92mA\u001b[94mC\u001b[93mG\u001b[93mG\u001b[93mG\u001b[91mT\u001b[92mA\u001b[94mC\u001b[91mT\u001b[94mC\u001b[92mA\u001b[92mA\u001b[91mT\u001b[94mC\u001b[92mA\u001b[94mC\u001b[94mC\u001b[92mA\u001b[92mA\u001b[93mG\u001b[93mG\u001b[92mA\u001b[93mG\u001b[91mT\u001b[93mG\u001b[92mA\u001b[0;0m\n",
            "\n",
            "[1] + Sequence Length: 984\n",
            "\n",
            "\u001b[0;0m[\u001b[0;0m2\u001b[0;0m]\u001b[0;0m \u001b[0;0m+\u001b[0;0m \u001b[0;0mN\u001b[0;0mu\u001b[0;0mc\u001b[0;0ml\u001b[0;0me\u001b[0;0mo\u001b[0;0mt\u001b[0;0mi\u001b[0;0md\u001b[0;0me\u001b[0;0m \u001b[0;0mF\u001b[0;0mr\u001b[0;0me\u001b[0;0mq\u001b[0;0mu\u001b[0;0me\u001b[0;0mn\u001b[0;0mc\u001b[0;0my\u001b[0;0m:\u001b[0;0m \u001b[0;0m{\u001b[0;0m'\u001b[92mA\u001b[0;0m'\u001b[0;0m:\u001b[0;0m \u001b[0;0m2\u001b[0;0m0\u001b[0;0m5\u001b[0;0m,\u001b[0;0m \u001b[0;0m'\u001b[94mC\u001b[0;0m'\u001b[0;0m:\u001b[0;0m \u001b[0;0m2\u001b[0;0m5\u001b[0;0m8\u001b[0;0m,\u001b[0;0m \u001b[0;0m'\u001b[93mG\u001b[0;0m'\u001b[0;0m:\u001b[0;0m \u001b[0;0m3\u001b[0;0m2\u001b[0;0m1\u001b[0;0m,\u001b[0;0m \u001b[0;0m'\u001b[91mT\u001b[0;0m'\u001b[0;0m:\u001b[0;0m \u001b[0;0m2\u001b[0;0m0\u001b[0;0m0\u001b[0;0m}\u001b[0;0m\n",
            "\u001b[0;0m\n",
            "\u001b[0;0m[\u001b[0;0m3\u001b[0;0m]\u001b[0;0m \u001b[0;0m+\u001b[0;0m \u001b[0;0mD\u001b[0;0mN\u001b[92mA\u001b[0;0m/\u001b[0;0mR\u001b[0;0mN\u001b[92mA\u001b[0;0m \u001b[91mT\u001b[0;0mr\u001b[0;0ma\u001b[0;0mn\u001b[0;0ms\u001b[0;0mc\u001b[0;0mr\u001b[0;0mi\u001b[0;0mp\u001b[0;0mt\u001b[0;0mi\u001b[0;0mo\u001b[0;0mn\u001b[0;0m:\u001b[0;0m \u001b[92mA\u001b[91mU\u001b[93mG\u001b[93mG\u001b[94mC\u001b[93mG\u001b[92mA\u001b[93mG\u001b[94mC\u001b[92mA\u001b[92mA\u001b[93mG\u001b[93mG\u001b[94mC\u001b[94mC\u001b[92mA\u001b[92mA\u001b[93mG\u001b[92mA\u001b[91mU\u001b[91mU\u001b[93mG\u001b[94mC\u001b[94mC\u001b[94mC\u001b[91mU\u001b[94mC\u001b[92mA\u001b[91mU\u001b[92mA\u001b[94mC\u001b[92mA\u001b[93mG\u001b[92mA\u001b[91mU\u001b[93mG\u001b[94mC\u001b[92mA\u001b[91mU\u001b[94mC\u001b[94mC\u001b[93mG\u001b[92mA\u001b[92mA\u001b[93mG\u001b[93mG\u001b[91mU\u001b[94mC\u001b[93mG\u001b[93mG\u001b[93mG\u001b[92mA\u001b[92mA\u001b[91mU\u001b[94mC\u001b[94mC\u001b[94mC\u001b[94mC\u001b[92mA\u001b[93mG\u001b[92mA\u001b[92mA\u001b[91mU\u001b[94mC\u001b[92mA\u001b[94mC\u001b[94mC\u001b[91mU\u001b[91mU\u001b[93mG\u001b[92mA\u001b[92mA\u001b[93mG\u001b[94mC\u001b[93mG\u001b[93mG\u001b[94mC\u001b[91mU\u001b[92mA\u001b[93mG\u001b[94mC\u001b[91mU\u001b[91mU\u001b[92mA\u001b[91mU\u001b[94mC\u001b[94mC\u001b[91mU\u001b[94mC\u001b[93mG\u001b[92mA\u001b[94mC\u001b[93mG\u001b[93mG\u001b[94mC\u001b[92mA\u001b[91mU\u001b[91mU\u001b[93mG\u001b[93mG\u001b[91mU\u001b[94mC\u001b[93mG\u001b[94mC\u001b[94mC\u001b[92mA\u001b[91mU\u001b[94mC\u001b[91mU\u001b[91mU\u001b[94mC\u001b[91mU\u001b[94mC\u001b[92mA\u001b[91mU\u001b[92mA\u001b[94mC\u001b[94mC\u001b[94mC\u001b[94mC\u001b[93mG\u001b[94mC\u001b[94mC\u001b[94mC\u001b[94mC\u001b[91mU\u001b[94mC\u001b[93mG\u001b[94mC\u001b[93mG\u001b[94mC\u001b[91mU\u001b[93mG\u001b[91mU\u001b[94mC\u001b[91mU\u001b[94mC\u001b[93mG\u001b[94mC\u001b[94mC\u001b[92mA\u001b[93mG\u001b[94mC\u001b[92mA\u001b[93mG\u001b[92mA\u001b[94mC\u001b[92mA\u001b[92mA\u001b[94mC\u001b[91mU\u001b[91mU\u001b[91mU\u001b[94mC\u001b[93mG\u001b[94mC\u001b[92mA\u001b[92mA\u001b[92mA\u001b[93mG\u001b[94mC\u001b[92mA\u001b[93mG\u001b[92mA\u001b[93mG\u001b[91mU\u001b[94mC\u001b[94mC\u001b[91mU\u001b[92mA\u001b[94mC\u001b[92mA\u001b[91mU\u001b[92mA\u001b[94mC\u001b[93mG\u001b[94mC\u001b[92mA\u001b[92mA\u001b[94mC\u001b[93mG\u001b[94mC\u001b[94mC\u001b[93mG\u001b[94mC\u001b[94mC\u001b[91mU\u001b[94mC\u001b[93mG\u001b[94mC\u001b[92mA\u001b[93mG\u001b[93mG\u001b[93mG\u001b[91mU\u001b[91mU\u001b[93mG\u001b[94mC\u001b[93mG\u001b[94mC\u001b[93mG\u001b[94mC\u001b[91mU\u001b[94mC\u001b[93mG\u001b[94mC\u001b[94mC\u001b[93mG\u001b[91mU\u001b[92mA\u001b[94mC\u001b[91mU\u001b[93mG\u001b[94mC\u001b[94mC\u001b[94mC\u001b[93mG\u001b[92mA\u001b[93mG\u001b[91mU\u001b[92mA\u001b[94mC\u001b[94mC\u001b[92mA\u001b[91mU\u001b[94mC\u001b[91mU\u001b[94mC\u001b[92mA\u001b[94mC\u001b[93mG\u001b[91mU\u001b[94mC\u001b[93mG\u001b[91mU\u001b[93mG\u001b[93mG\u001b[93mG\u001b[94mC\u001b[93mG\u001b[94mC\u001b[94mC\u001b[93mG\u001b[93mG\u001b[92mA\u001b[91mU\u001b[94mC\u001b[92mA\u001b[91mU\u001b[94mC\u001b[94mC\u001b[94mC\u001b[93mG\u001b[92mA\u001b[94mC\u001b[91mU\u001b[91mU\u001b[94mC\u001b[93mG\u001b[91mU\u001b[93mG\u001b[94mC\u001b[91mU\u001b[93mG\u001b[92mA\u001b[93mG\u001b[94mC\u001b[91mU\u001b[93mG\u001b[94mC\u001b[93mG\u001b[92mA\u001b[93mG\u001b[94mC\u001b[92mA\u001b[93mG\u001b[91mU\u001b[94mC\u001b[93mG\u001b[93mG\u001b[93mG\u001b[91mU\u001b[91mU\u001b[94mC\u001b[94mC\u001b[91mU\u001b[92mA\u001b[94mC\u001b[94mC\u001b[91mU\u001b[91mU\u001b[93mG\u001b[93mG\u001b[93mG\u001b[92mA\u001b[93mG\u001b[91mU\u001b[91mU\u001b[92mA\u001b[91mU\u001b[94mC\u001b[92mA\u001b[93mG\u001b[93mG\u001b[94mC\u001b[91mU\u001b[94mC\u001b[91mU\u001b[92mA\u001b[93mG\u001b[94mC\u001b[94mC\u001b[92mA\u001b[92mA\u001b[93mG\u001b[93mG\u001b[92mA\u001b[92mA\u001b[94mC\u001b[91mU\u001b[93mG\u001b[92mA\u001b[93mG\u001b[92mA\u001b[92mA\u001b[91mU\u001b[91mU\u001b[91mU\u001b[94mC\u001b[94mC\u001b[92mA\u001b[91mU\u001b[91mU\u001b[93mG\u001b[91mU\u001b[91mU\u001b[94mC\u001b[94mC\u001b[91mU\u001b[93mG\u001b[93mG\u001b[94mC\u001b[92mA\u001b[94mC\u001b[94mC\u001b[92mA\u001b[91mU\u001b[92mA\u001b[93mG\u001b[91mU\u001b[93mG\u001b[93mG\u001b[92mA\u001b[93mG\u001b[94mC\u001b[94mC\u001b[93mG\u001b[93mG\u001b[92mA\u001b[92mA\u001b[93mG\u001b[93mG\u001b[91mU\u001b[93mG\u001b[92mA\u001b[93mG\u001b[93mG\u001b[93mG\u001b[92mA\u001b[93mG\u001b[92mA\u001b[94mC\u001b[93mG\u001b[92mA\u001b[94mC\u001b[94mC\u001b[91mU\u001b[92mA\u001b[93mG\u001b[92mA\u001b[94mC\u001b[91mU\u001b[91mU\u001b[93mG\u001b[92mA\u001b[91mU\u001b[94mC\u001b[92mA\u001b[92mA\u001b[94mC\u001b[93mG\u001b[94mC\u001b[94mC\u001b[93mG\u001b[94mC\u001b[93mG\u001b[91mU\u001b[92mA\u001b[94mC\u001b[91mU\u001b[91mU\u001b[94mC\u001b[92mA\u001b[91mU\u001b[94mC\u001b[93mG\u001b[93mG\u001b[92mA\u001b[94mC\u001b[94mC\u001b[92mA\u001b[93mG\u001b[92mA\u001b[94mC\u001b[93mG\u001b[93mG\u001b[94mC\u001b[92mA\u001b[94mC\u001b[94mC\u001b[92mA\u001b[91mU\u001b[94mC\u001b[94mC\u001b[91mU\u001b[91mU\u001b[93mG\u001b[93mG\u001b[92mA\u001b[94mC\u001b[93mG\u001b[94mC\u001b[91mU\u001b[92mA\u001b[91mU\u001b[93mG\u001b[92mA\u001b[93mG\u001b[92mA\u001b[92mA\u001b[92mA\u001b[92mA\u001b[92mA\u001b[93mG\u001b[92mA\u001b[92mA\u001b[94mC\u001b[94mC\u001b[91mU\u001b[92mA\u001b[91mU\u001b[93mG\u001b[93mG\u001b[94mC\u001b[92mA\u001b[94mC\u001b[92mA\u001b[92mA\u001b[91mU\u001b[93mG\u001b[92mA\u001b[93mG\u001b[94mC\u001b[93mG\u001b[93mG\u001b[94mC\u001b[94mC\u001b[92mA\u001b[94mC\u001b[92mA\u001b[91mU\u001b[94mC\u001b[91mU\u001b[93mG\u001b[92mA\u001b[94mC\u001b[94mC\u001b[92mA\u001b[92mA\u001b[93mG\u001b[93mG\u001b[93mG\u001b[91mU\u001b[94mC\u001b[94mC\u001b[91mU\u001b[94mC\u001b[92mA\u001b[92mA\u001b[94mC\u001b[94mC\u001b[92mA\u001b[94mC\u001b[92mA\u001b[91mU\u001b[93mG\u001b[93mG\u001b[93mG\u001b[93mG\u001b[94mC\u001b[93mG\u001b[91mU\u001b[91mU\u001b[91mU\u001b[93mG\u001b[92mA\u001b[91mU\u001b[92mA\u001b[94mC\u001b[93mG\u001b[94mC\u001b[94mC\u001b[93mG\u001b[94mC\u001b[91mU\u001b[91mU\u001b[93mG\u001b[93mG\u001b[94mC\u001b[94mC\u001b[93mG\u001b[93mG\u001b[93mG\u001b[94mC\u001b[94mC\u001b[93mG\u001b[93mG\u001b[92mA\u001b[94mC\u001b[91mU\u001b[93mG\u001b[94mC\u001b[91mU\u001b[94mC\u001b[93mG\u001b[91mU\u001b[94mC\u001b[91mU\u001b[93mG\u001b[91mU\u001b[91mU\u001b[93mG\u001b[93mG\u001b[93mG\u001b[92mA\u001b[91mU\u001b[94mC\u001b[91mU\u001b[93mG\u001b[93mG\u001b[94mC\u001b[92mA\u001b[91mU\u001b[91mU\u001b[94mC\u001b[94mC\u001b[94mC\u001b[94mC\u001b[93mG\u001b[92mA\u001b[93mG\u001b[93mG\u001b[94mC\u001b[93mG\u001b[91mU\u001b[91mU\u001b[94mC\u001b[94mC\u001b[93mG\u001b[93mG\u001b[93mG\u001b[92mA\u001b[93mG\u001b[94mC\u001b[91mU\u001b[93mG\u001b[92mA\u001b[91mU\u001b[91mU\u001b[94mC\u001b[93mG\u001b[91mU\u001b[93mG\u001b[92mA\u001b[94mC\u001b[93mG\u001b[93mG\u001b[91mU\u001b[93mG\u001b[94mC\u001b[93mG\u001b[92mA\u001b[93mG\u001b[93mG\u001b[92mA\u001b[91mU\u001b[94mC\u001b[92mA\u001b[91mU\u001b[94mC\u001b[93mG\u001b[91mU\u001b[94mC\u001b[91mU\u001b[93mG\u001b[91mU\u001b[94mC\u001b[94mC\u001b[94mC\u001b[93mG\u001b[94mC\u001b[93mG\u001b[91mU\u001b[91mU\u001b[94mC\u001b[91mU\u001b[93mG\u001b[93mG\u001b[92mA\u001b[91mU\u001b[93mG\u001b[93mG\u001b[94mC\u001b[93mG\u001b[93mG\u001b[92mA\u001b[94mC\u001b[93mG\u001b[92mA\u001b[93mG\u001b[91mU\u001b[92mA\u001b[94mC\u001b[92mA\u001b[92mA\u001b[93mG\u001b[94mC\u001b[93mG\u001b[94mC\u001b[93mG\u001b[93mG\u001b[91mU\u001b[93mG\u001b[93mG\u001b[94mC\u001b[91mU\u001b[94mC\u001b[94mC\u001b[93mG\u001b[93mG\u001b[94mC\u001b[93mG\u001b[92mA\u001b[92mA\u001b[93mG\u001b[91mU\u001b[93mG\u001b[93mG\u001b[91mU\u001b[93mG\u001b[92mA\u001b[92mA\u001b[94mC\u001b[94mC\u001b[93mG\u001b[91mU\u001b[93mG\u001b[92mA\u001b[91mU\u001b[91mU\u001b[94mC\u001b[93mG\u001b[93mG\u001b[92mA\u001b[93mG\u001b[92mA\u001b[92mA\u001b[93mG\u001b[93mG\u001b[91mU\u001b[93mG\u001b[91mU\u001b[91mU\u001b[94mC\u001b[94mC\u001b[91mU\u001b[92mA\u001b[93mG\u001b[92mA\u001b[93mG\u001b[92mA\u001b[92mA\u001b[94mC\u001b[93mG\u001b[91mU\u001b[93mG\u001b[94mC\u001b[91mU\u001b[91mU\u001b[93mG\u001b[91mU\u001b[93mG\u001b[93mG\u001b[94mC\u001b[93mG\u001b[92mA\u001b[93mG\u001b[93mG\u001b[93mG\u001b[94mC\u001b[93mG\u001b[91mU\u001b[91mU\u001b[91mU\u001b[93mG\u001b[92mA\u001b[92mA\u001b[92mA\u001b[92mA\u001b[94mC\u001b[92mA\u001b[94mC\u001b[92mA\u001b[93mG\u001b[94mC\u001b[93mG\u001b[93mG\u001b[94mC\u001b[92mA\u001b[93mG\u001b[91mU\u001b[93mG\u001b[93mG\u001b[91mU\u001b[93mG\u001b[94mC\u001b[91mU\u001b[91mU\u001b[93mG\u001b[91mU\u001b[94mC\u001b[92mA\u001b[92mA\u001b[91mU\u001b[93mG\u001b[94mC\u001b[91mU\u001b[93mG\u001b[93mG\u001b[94mC\u001b[93mG\u001b[93mG\u001b[93mG\u001b[94mC\u001b[94mC\u001b[94mC\u001b[93mG\u001b[92mA\u001b[93mG\u001b[93mG\u001b[93mG\u001b[94mC\u001b[93mG\u001b[93mG\u001b[93mG\u001b[93mG\u001b[91mU\u001b[91mU\u001b[93mG\u001b[92mA\u001b[93mG\u001b[92mA\u001b[93mG\u001b[93mG\u001b[92mA\u001b[93mG\u001b[93mG\u001b[91mU\u001b[93mG\u001b[93mG\u001b[93mG\u001b[92mA\u001b[91mU\u001b[93mG\u001b[93mG\u001b[93mG\u001b[91mU\u001b[94mC\u001b[93mG\u001b[94mC\u001b[92mA\u001b[93mG\u001b[91mU\u001b[91mU\u001b[93mG\u001b[92mA\u001b[93mG\u001b[93mG\u001b[91mU\u001b[92mA\u001b[91mU\u001b[91mU\u001b[93mG\u001b[94mC\u001b[93mG\u001b[93mG\u001b[91mU\u001b[93mG\u001b[91mU\u001b[94mC\u001b[92mA\u001b[93mG\u001b[94mC\u001b[94mC\u001b[92mA\u001b[93mG\u001b[93mG\u001b[91mU\u001b[94mC\u001b[93mG\u001b[94mC\u001b[93mG\u001b[92mA\u001b[91mU\u001b[93mG\u001b[94mC\u001b[94mC\u001b[91mU\u001b[94mC\u001b[91mU\u001b[94mC\u001b[92mA\u001b[91mU\u001b[94mC\u001b[93mG\u001b[93mG\u001b[92mA\u001b[91mU\u001b[94mC\u001b[94mC\u001b[92mA\u001b[91mU\u001b[94mC\u001b[93mG\u001b[93mG\u001b[93mG\u001b[92mA\u001b[92mA\u001b[93mG\u001b[91mU\u001b[91mU\u001b[93mG\u001b[93mG\u001b[93mG\u001b[94mC\u001b[93mG\u001b[94mC\u001b[92mA\u001b[93mG\u001b[92mA\u001b[93mG\u001b[93mG\u001b[92mA\u001b[93mG\u001b[93mG\u001b[94mC\u001b[92mA\u001b[93mG\u001b[91mU\u001b[93mG\u001b[92mA\u001b[93mG\u001b[94mC\u001b[92mA\u001b[91mU\u001b[91mU\u001b[93mG\u001b[91mU\u001b[94mC\u001b[93mG\u001b[92mA\u001b[92mA\u001b[93mG\u001b[91mU\u001b[91mU\u001b[93mG\u001b[92mA\u001b[94mC\u001b[94mC\u001b[91mU\u001b[93mG\u001b[93mG\u001b[93mG\u001b[94mC\u001b[91mU\u001b[91mU\u001b[93mG\u001b[94mC\u001b[91mU\u001b[93mG\u001b[93mG\u001b[92mA\u001b[94mC\u001b[93mG\u001b[91mU\u001b[91mU\u001b[93mG\u001b[94mC\u001b[91mU\u001b[93mG\u001b[92mA\u001b[93mG\u001b[93mG\u001b[93mG\u001b[93mG\u001b[93mG\u001b[94mC\u001b[91mU\u001b[91mU\u001b[92mA\u001b[94mC\u001b[92mA\u001b[92mA\u001b[93mG\u001b[93mG\u001b[91mU\u001b[93mG\u001b[92mA\u001b[93mG\u001b[92mA\u001b[93mG\u001b[92mA\u001b[93mG\u001b[93mG\u001b[92mA\u001b[94mC\u001b[92mA\u001b[91mU\u001b[93mG\u001b[94mC\u001b[92mA\u001b[93mG\u001b[92mA\u001b[92mA\u001b[93mG\u001b[93mG\u001b[92mA\u001b[92mA\u001b[93mG\u001b[93mG\u001b[94mC\u001b[91mU\u001b[93mG\u001b[93mG\u001b[94mC\u001b[92mA\u001b[91mU\u001b[91mU\u001b[92mA\u001b[94mC\u001b[93mG\u001b[93mG\u001b[93mG\u001b[91mU\u001b[92mA\u001b[94mC\u001b[91mU\u001b[94mC\u001b[92mA\u001b[92mA\u001b[91mU\u001b[94mC\u001b[92mA\u001b[94mC\u001b[94mC\u001b[92mA\u001b[92mA\u001b[93mG\u001b[93mG\u001b[92mA\u001b[93mG\u001b[91mU\u001b[93mG\u001b[92mA\u001b[0;0m\n",
            "\u001b[0;0m\n",
            "[4] + DNA String + Complement + Reverse Compliment:\n",
            "5' \u001b[92mA\u001b[91mT\u001b[93mG\u001b[93mG\u001b[94mC\u001b[93mG\u001b[92mA\u001b[93mG\u001b[94mC\u001b[92mA\u001b[92mA\u001b[93mG\u001b[93mG\u001b[94mC\u001b[94mC\u001b[92mA\u001b[92mA\u001b[93mG\u001b[92mA\u001b[91mT\u001b[91mT\u001b[93mG\u001b[94mC\u001b[94mC\u001b[94mC\u001b[91mT\u001b[94mC\u001b[92mA\u001b[91mT\u001b[92mA\u001b[94mC\u001b[92mA\u001b[93mG\u001b[92mA\u001b[91mT\u001b[93mG\u001b[94mC\u001b[92mA\u001b[91mT\u001b[94mC\u001b[94mC\u001b[93mG\u001b[92mA\u001b[92mA\u001b[93mG\u001b[93mG\u001b[91mT\u001b[94mC\u001b[93mG\u001b[93mG\u001b[93mG\u001b[92mA\u001b[92mA\u001b[91mT\u001b[94mC\u001b[94mC\u001b[94mC\u001b[94mC\u001b[92mA\u001b[93mG\u001b[92mA\u001b[92mA\u001b[91mT\u001b[94mC\u001b[92mA\u001b[94mC\u001b[94mC\u001b[91mT\u001b[91mT\u001b[93mG\u001b[92mA\u001b[92mA\u001b[93mG\u001b[94mC\u001b[93mG\u001b[93mG\u001b[94mC\u001b[91mT\u001b[92mA\u001b[93mG\u001b[94mC\u001b[91mT\u001b[91mT\u001b[92mA\u001b[91mT\u001b[94mC\u001b[94mC\u001b[91mT\u001b[94mC\u001b[93mG\u001b[92mA\u001b[94mC\u001b[93mG\u001b[93mG\u001b[94mC\u001b[92mA\u001b[91mT\u001b[91mT\u001b[93mG\u001b[93mG\u001b[91mT\u001b[94mC\u001b[93mG\u001b[94mC\u001b[94mC\u001b[92mA\u001b[91mT\u001b[94mC\u001b[91mT\u001b[91mT\u001b[94mC\u001b[91mT\u001b[94mC\u001b[92mA\u001b[91mT\u001b[92mA\u001b[94mC\u001b[94mC\u001b[94mC\u001b[94mC\u001b[93mG\u001b[94mC\u001b[94mC\u001b[94mC\u001b[94mC\u001b[91mT\u001b[94mC\u001b[93mG\u001b[94mC\u001b[93mG\u001b[94mC\u001b[91mT\u001b[93mG\u001b[91mT\u001b[94mC\u001b[91mT\u001b[94mC\u001b[93mG\u001b[94mC\u001b[94mC\u001b[92mA\u001b[93mG\u001b[94mC\u001b[92mA\u001b[93mG\u001b[92mA\u001b[94mC\u001b[92mA\u001b[92mA\u001b[94mC\u001b[91mT\u001b[91mT\u001b[91mT\u001b[94mC\u001b[93mG\u001b[94mC\u001b[92mA\u001b[92mA\u001b[92mA\u001b[93mG\u001b[94mC\u001b[92mA\u001b[93mG\u001b[92mA\u001b[93mG\u001b[91mT\u001b[94mC\u001b[94mC\u001b[91mT\u001b[92mA\u001b[94mC\u001b[92mA\u001b[91mT\u001b[92mA\u001b[94mC\u001b[93mG\u001b[94mC\u001b[92mA\u001b[92mA\u001b[94mC\u001b[93mG\u001b[94mC\u001b[94mC\u001b[93mG\u001b[94mC\u001b[94mC\u001b[91mT\u001b[94mC\u001b[93mG\u001b[94mC\u001b[92mA\u001b[93mG\u001b[93mG\u001b[93mG\u001b[91mT\u001b[91mT\u001b[93mG\u001b[94mC\u001b[93mG\u001b[94mC\u001b[93mG\u001b[94mC\u001b[91mT\u001b[94mC\u001b[93mG\u001b[94mC\u001b[94mC\u001b[93mG\u001b[91mT\u001b[92mA\u001b[94mC\u001b[91mT\u001b[93mG\u001b[94mC\u001b[94mC\u001b[94mC\u001b[93mG\u001b[92mA\u001b[93mG\u001b[91mT\u001b[92mA\u001b[94mC\u001b[94mC\u001b[92mA\u001b[91mT\u001b[94mC\u001b[91mT\u001b[94mC\u001b[92mA\u001b[94mC\u001b[93mG\u001b[91mT\u001b[94mC\u001b[93mG\u001b[91mT\u001b[93mG\u001b[93mG\u001b[93mG\u001b[94mC\u001b[93mG\u001b[94mC\u001b[94mC\u001b[93mG\u001b[93mG\u001b[92mA\u001b[91mT\u001b[94mC\u001b[92mA\u001b[91mT\u001b[94mC\u001b[94mC\u001b[94mC\u001b[93mG\u001b[92mA\u001b[94mC\u001b[91mT\u001b[91mT\u001b[94mC\u001b[93mG\u001b[91mT\u001b[93mG\u001b[94mC\u001b[91mT\u001b[93mG\u001b[92mA\u001b[93mG\u001b[94mC\u001b[91mT\u001b[93mG\u001b[94mC\u001b[93mG\u001b[92mA\u001b[93mG\u001b[94mC\u001b[92mA\u001b[93mG\u001b[91mT\u001b[94mC\u001b[93mG\u001b[93mG\u001b[93mG\u001b[91mT\u001b[91mT\u001b[94mC\u001b[94mC\u001b[91mT\u001b[92mA\u001b[94mC\u001b[94mC\u001b[91mT\u001b[91mT\u001b[93mG\u001b[93mG\u001b[93mG\u001b[92mA\u001b[93mG\u001b[91mT\u001b[91mT\u001b[92mA\u001b[91mT\u001b[94mC\u001b[92mA\u001b[93mG\u001b[93mG\u001b[94mC\u001b[91mT\u001b[94mC\u001b[91mT\u001b[92mA\u001b[93mG\u001b[94mC\u001b[94mC\u001b[92mA\u001b[92mA\u001b[93mG\u001b[93mG\u001b[92mA\u001b[92mA\u001b[94mC\u001b[91mT\u001b[93mG\u001b[92mA\u001b[93mG\u001b[92mA\u001b[92mA\u001b[91mT\u001b[91mT\u001b[91mT\u001b[94mC\u001b[94mC\u001b[92mA\u001b[91mT\u001b[91mT\u001b[93mG\u001b[91mT\u001b[91mT\u001b[94mC\u001b[94mC\u001b[91mT\u001b[93mG\u001b[93mG\u001b[94mC\u001b[92mA\u001b[94mC\u001b[94mC\u001b[92mA\u001b[91mT\u001b[92mA\u001b[93mG\u001b[91mT\u001b[93mG\u001b[93mG\u001b[92mA\u001b[93mG\u001b[94mC\u001b[94mC\u001b[93mG\u001b[93mG\u001b[92mA\u001b[92mA\u001b[93mG\u001b[93mG\u001b[91mT\u001b[93mG\u001b[92mA\u001b[93mG\u001b[93mG\u001b[93mG\u001b[92mA\u001b[93mG\u001b[92mA\u001b[94mC\u001b[93mG\u001b[92mA\u001b[94mC\u001b[94mC\u001b[91mT\u001b[92mA\u001b[93mG\u001b[92mA\u001b[94mC\u001b[91mT\u001b[91mT\u001b[93mG\u001b[92mA\u001b[91mT\u001b[94mC\u001b[92mA\u001b[92mA\u001b[94mC\u001b[93mG\u001b[94mC\u001b[94mC\u001b[93mG\u001b[94mC\u001b[93mG\u001b[91mT\u001b[92mA\u001b[94mC\u001b[91mT\u001b[91mT\u001b[94mC\u001b[92mA\u001b[91mT\u001b[94mC\u001b[93mG\u001b[93mG\u001b[92mA\u001b[94mC\u001b[94mC\u001b[92mA\u001b[93mG\u001b[92mA\u001b[94mC\u001b[93mG\u001b[93mG\u001b[94mC\u001b[92mA\u001b[94mC\u001b[94mC\u001b[92mA\u001b[91mT\u001b[94mC\u001b[94mC\u001b[91mT\u001b[91mT\u001b[93mG\u001b[93mG\u001b[92mA\u001b[94mC\u001b[93mG\u001b[94mC\u001b[91mT\u001b[92mA\u001b[91mT\u001b[93mG\u001b[92mA\u001b[93mG\u001b[92mA\u001b[92mA\u001b[92mA\u001b[92mA\u001b[92mA\u001b[93mG\u001b[92mA\u001b[92mA\u001b[94mC\u001b[94mC\u001b[91mT\u001b[92mA\u001b[91mT\u001b[93mG\u001b[93mG\u001b[94mC\u001b[92mA\u001b[94mC\u001b[92mA\u001b[92mA\u001b[91mT\u001b[93mG\u001b[92mA\u001b[93mG\u001b[94mC\u001b[93mG\u001b[93mG\u001b[94mC\u001b[94mC\u001b[92mA\u001b[94mC\u001b[92mA\u001b[91mT\u001b[94mC\u001b[91mT\u001b[93mG\u001b[92mA\u001b[94mC\u001b[94mC\u001b[92mA\u001b[92mA\u001b[93mG\u001b[93mG\u001b[93mG\u001b[91mT\u001b[94mC\u001b[94mC\u001b[91mT\u001b[94mC\u001b[92mA\u001b[92mA\u001b[94mC\u001b[94mC\u001b[92mA\u001b[94mC\u001b[92mA\u001b[91mT\u001b[93mG\u001b[93mG\u001b[93mG\u001b[93mG\u001b[94mC\u001b[93mG\u001b[91mT\u001b[91mT\u001b[91mT\u001b[93mG\u001b[92mA\u001b[91mT\u001b[92mA\u001b[94mC\u001b[93mG\u001b[94mC\u001b[94mC\u001b[93mG\u001b[94mC\u001b[91mT\u001b[91mT\u001b[93mG\u001b[93mG\u001b[94mC\u001b[94mC\u001b[93mG\u001b[93mG\u001b[93mG\u001b[94mC\u001b[94mC\u001b[93mG\u001b[93mG\u001b[92mA\u001b[94mC\u001b[91mT\u001b[93mG\u001b[94mC\u001b[91mT\u001b[94mC\u001b[93mG\u001b[91mT\u001b[94mC\u001b[91mT\u001b[93mG\u001b[91mT\u001b[91mT\u001b[93mG\u001b[93mG\u001b[93mG\u001b[92mA\u001b[91mT\u001b[94mC\u001b[91mT\u001b[93mG\u001b[93mG\u001b[94mC\u001b[92mA\u001b[91mT\u001b[91mT\u001b[94mC\u001b[94mC\u001b[94mC\u001b[94mC\u001b[93mG\u001b[92mA\u001b[93mG\u001b[93mG\u001b[94mC\u001b[93mG\u001b[91mT\u001b[91mT\u001b[94mC\u001b[94mC\u001b[93mG\u001b[93mG\u001b[93mG\u001b[92mA\u001b[93mG\u001b[94mC\u001b[91mT\u001b[93mG\u001b[92mA\u001b[91mT\u001b[91mT\u001b[94mC\u001b[93mG\u001b[91mT\u001b[93mG\u001b[92mA\u001b[94mC\u001b[93mG\u001b[93mG\u001b[91mT\u001b[93mG\u001b[94mC\u001b[93mG\u001b[92mA\u001b[93mG\u001b[93mG\u001b[92mA\u001b[91mT\u001b[94mC\u001b[92mA\u001b[91mT\u001b[94mC\u001b[93mG\u001b[91mT\u001b[94mC\u001b[91mT\u001b[93mG\u001b[91mT\u001b[94mC\u001b[94mC\u001b[94mC\u001b[93mG\u001b[94mC\u001b[93mG\u001b[91mT\u001b[91mT\u001b[94mC\u001b[91mT\u001b[93mG\u001b[93mG\u001b[92mA\u001b[91mT\u001b[93mG\u001b[93mG\u001b[94mC\u001b[93mG\u001b[93mG\u001b[92mA\u001b[94mC\u001b[93mG\u001b[92mA\u001b[93mG\u001b[91mT\u001b[92mA\u001b[94mC\u001b[92mA\u001b[92mA\u001b[93mG\u001b[94mC\u001b[93mG\u001b[94mC\u001b[93mG\u001b[93mG\u001b[91mT\u001b[93mG\u001b[93mG\u001b[94mC\u001b[91mT\u001b[94mC\u001b[94mC\u001b[93mG\u001b[93mG\u001b[94mC\u001b[93mG\u001b[92mA\u001b[92mA\u001b[93mG\u001b[91mT\u001b[93mG\u001b[93mG\u001b[91mT\u001b[93mG\u001b[92mA\u001b[92mA\u001b[94mC\u001b[94mC\u001b[93mG\u001b[91mT\u001b[93mG\u001b[92mA\u001b[91mT\u001b[91mT\u001b[94mC\u001b[93mG\u001b[93mG\u001b[92mA\u001b[93mG\u001b[92mA\u001b[92mA\u001b[93mG\u001b[93mG\u001b[91mT\u001b[93mG\u001b[91mT\u001b[91mT\u001b[94mC\u001b[94mC\u001b[91mT\u001b[92mA\u001b[93mG\u001b[92mA\u001b[93mG\u001b[92mA\u001b[92mA\u001b[94mC\u001b[93mG\u001b[91mT\u001b[93mG\u001b[94mC\u001b[91mT\u001b[91mT\u001b[93mG\u001b[91mT\u001b[93mG\u001b[93mG\u001b[94mC\u001b[93mG\u001b[92mA\u001b[93mG\u001b[93mG\u001b[93mG\u001b[94mC\u001b[93mG\u001b[91mT\u001b[91mT\u001b[91mT\u001b[93mG\u001b[92mA\u001b[92mA\u001b[92mA\u001b[92mA\u001b[94mC\u001b[92mA\u001b[94mC\u001b[92mA\u001b[93mG\u001b[94mC\u001b[93mG\u001b[93mG\u001b[94mC\u001b[92mA\u001b[93mG\u001b[91mT\u001b[93mG\u001b[93mG\u001b[91mT\u001b[93mG\u001b[94mC\u001b[91mT\u001b[91mT\u001b[93mG\u001b[91mT\u001b[94mC\u001b[92mA\u001b[92mA\u001b[91mT\u001b[93mG\u001b[94mC\u001b[91mT\u001b[93mG\u001b[93mG\u001b[94mC\u001b[93mG\u001b[93mG\u001b[93mG\u001b[94mC\u001b[94mC\u001b[94mC\u001b[93mG\u001b[92mA\u001b[93mG\u001b[93mG\u001b[93mG\u001b[94mC\u001b[93mG\u001b[93mG\u001b[93mG\u001b[93mG\u001b[91mT\u001b[91mT\u001b[93mG\u001b[92mA\u001b[93mG\u001b[92mA\u001b[93mG\u001b[93mG\u001b[92mA\u001b[93mG\u001b[93mG\u001b[91mT\u001b[93mG\u001b[93mG\u001b[93mG\u001b[92mA\u001b[91mT\u001b[93mG\u001b[93mG\u001b[93mG\u001b[91mT\u001b[94mC\u001b[93mG\u001b[94mC\u001b[92mA\u001b[93mG\u001b[91mT\u001b[91mT\u001b[93mG\u001b[92mA\u001b[93mG\u001b[93mG\u001b[91mT\u001b[92mA\u001b[91mT\u001b[91mT\u001b[93mG\u001b[94mC\u001b[93mG\u001b[93mG\u001b[91mT\u001b[93mG\u001b[91mT\u001b[94mC\u001b[92mA\u001b[93mG\u001b[94mC\u001b[94mC\u001b[92mA\u001b[93mG\u001b[93mG\u001b[91mT\u001b[94mC\u001b[93mG\u001b[94mC\u001b[93mG\u001b[92mA\u001b[91mT\u001b[93mG\u001b[94mC\u001b[94mC\u001b[91mT\u001b[94mC\u001b[91mT\u001b[94mC\u001b[92mA\u001b[91mT\u001b[94mC\u001b[93mG\u001b[93mG\u001b[92mA\u001b[91mT\u001b[94mC\u001b[94mC\u001b[92mA\u001b[91mT\u001b[94mC\u001b[93mG\u001b[93mG\u001b[93mG\u001b[92mA\u001b[92mA\u001b[93mG\u001b[91mT\u001b[91mT\u001b[93mG\u001b[93mG\u001b[93mG\u001b[94mC\u001b[93mG\u001b[94mC\u001b[92mA\u001b[93mG\u001b[92mA\u001b[93mG\u001b[93mG\u001b[92mA\u001b[93mG\u001b[93mG\u001b[94mC\u001b[92mA\u001b[93mG\u001b[91mT\u001b[93mG\u001b[92mA\u001b[93mG\u001b[94mC\u001b[92mA\u001b[91mT\u001b[91mT\u001b[93mG\u001b[91mT\u001b[94mC\u001b[93mG\u001b[92mA\u001b[92mA\u001b[93mG\u001b[91mT\u001b[91mT\u001b[93mG\u001b[92mA\u001b[94mC\u001b[94mC\u001b[91mT\u001b[93mG\u001b[93mG\u001b[93mG\u001b[94mC\u001b[91mT\u001b[91mT\u001b[93mG\u001b[94mC\u001b[91mT\u001b[93mG\u001b[93mG\u001b[92mA\u001b[94mC\u001b[93mG\u001b[91mT\u001b[91mT\u001b[93mG\u001b[94mC\u001b[91mT\u001b[93mG\u001b[92mA\u001b[93mG\u001b[93mG\u001b[93mG\u001b[93mG\u001b[93mG\u001b[94mC\u001b[91mT\u001b[91mT\u001b[92mA\u001b[94mC\u001b[92mA\u001b[92mA\u001b[93mG\u001b[93mG\u001b[91mT\u001b[93mG\u001b[92mA\u001b[93mG\u001b[92mA\u001b[93mG\u001b[92mA\u001b[93mG\u001b[93mG\u001b[92mA\u001b[94mC\u001b[92mA\u001b[91mT\u001b[93mG\u001b[94mC\u001b[92mA\u001b[93mG\u001b[92mA\u001b[92mA\u001b[93mG\u001b[93mG\u001b[92mA\u001b[92mA\u001b[93mG\u001b[93mG\u001b[94mC\u001b[91mT\u001b[93mG\u001b[93mG\u001b[94mC\u001b[92mA\u001b[91mT\u001b[91mT\u001b[92mA\u001b[94mC\u001b[93mG\u001b[93mG\u001b[93mG\u001b[91mT\u001b[92mA\u001b[94mC\u001b[91mT\u001b[94mC\u001b[92mA\u001b[92mA\u001b[91mT\u001b[94mC\u001b[92mA\u001b[94mC\u001b[94mC\u001b[92mA\u001b[92mA\u001b[93mG\u001b[93mG\u001b[92mA\u001b[93mG\u001b[91mT\u001b[93mG\u001b[92mA\u001b[0;0m 3'\n",
            "   ||||||||||||||||||||||||||||||||||||||||||||||||||||||||||||||||||||||||||||||||||||||||||||||||||||||||||||||||||||||||||||||||||||||||||||||||||||||||||||||||||||||||||||||||||||||||||||||||||||||||||||||||||||||||||||||||||||||||||||||||||||||||||||||||||||||||||||||||||||||||||||||||||||||||||||||||||||||||||||||||||||||||||||||||||||||||||||||||||||||||||||||||||||||||||||||||||||||||||||||||||||||||||||||||||||||||||||||||||||||||||||||||||||||||||||||||||||||||||||||||||||||||||||||||||||||||||||||||||||||||||||||||||||||||||||||||||||||||||||||||||||||||||||||||||||||||||||||||||||||||||||||||||||||||||||||||||||||||||||||||||||||||||||||||||||||||||||||||||||||||||||||||||||||||||||||||||||||||||||||||||||||||||||||||||||||||||||||||||||||||||||||||||||||||||||||||||||||||||||||||||||||||||||||||||||||||||||||||||||||||||||||||||||||||||||||||||||||||||||||||||||||||||||||||||||||||||||||||||||||||||||||||||||||||||||||||||||||||||||||||||||||||||||||||||||||||\n",
            "3' \u001b[91mT\u001b[92mA\u001b[94mC\u001b[94mC\u001b[93mG\u001b[94mC\u001b[91mT\u001b[94mC\u001b[93mG\u001b[91mT\u001b[91mT\u001b[94mC\u001b[94mC\u001b[93mG\u001b[93mG\u001b[91mT\u001b[91mT\u001b[94mC\u001b[91mT\u001b[92mA\u001b[92mA\u001b[94mC\u001b[93mG\u001b[93mG\u001b[93mG\u001b[92mA\u001b[93mG\u001b[91mT\u001b[92mA\u001b[91mT\u001b[93mG\u001b[91mT\u001b[94mC\u001b[91mT\u001b[92mA\u001b[94mC\u001b[93mG\u001b[91mT\u001b[92mA\u001b[93mG\u001b[93mG\u001b[94mC\u001b[91mT\u001b[91mT\u001b[94mC\u001b[94mC\u001b[92mA\u001b[93mG\u001b[94mC\u001b[94mC\u001b[94mC\u001b[91mT\u001b[91mT\u001b[92mA\u001b[93mG\u001b[93mG\u001b[93mG\u001b[93mG\u001b[91mT\u001b[94mC\u001b[91mT\u001b[91mT\u001b[92mA\u001b[93mG\u001b[91mT\u001b[93mG\u001b[93mG\u001b[92mA\u001b[92mA\u001b[94mC\u001b[91mT\u001b[91mT\u001b[94mC\u001b[93mG\u001b[94mC\u001b[94mC\u001b[93mG\u001b[92mA\u001b[91mT\u001b[94mC\u001b[93mG\u001b[92mA\u001b[92mA\u001b[91mT\u001b[92mA\u001b[93mG\u001b[93mG\u001b[92mA\u001b[93mG\u001b[94mC\u001b[91mT\u001b[93mG\u001b[94mC\u001b[94mC\u001b[93mG\u001b[91mT\u001b[92mA\u001b[92mA\u001b[94mC\u001b[94mC\u001b[92mA\u001b[93mG\u001b[94mC\u001b[93mG\u001b[93mG\u001b[91mT\u001b[92mA\u001b[93mG\u001b[92mA\u001b[92mA\u001b[93mG\u001b[92mA\u001b[93mG\u001b[91mT\u001b[92mA\u001b[91mT\u001b[93mG\u001b[93mG\u001b[93mG\u001b[93mG\u001b[94mC\u001b[93mG\u001b[93mG\u001b[93mG\u001b[93mG\u001b[92mA\u001b[93mG\u001b[94mC\u001b[93mG\u001b[94mC\u001b[93mG\u001b[92mA\u001b[94mC\u001b[92mA\u001b[93mG\u001b[92mA\u001b[93mG\u001b[94mC\u001b[93mG\u001b[93mG\u001b[91mT\u001b[94mC\u001b[93mG\u001b[91mT\u001b[94mC\u001b[91mT\u001b[93mG\u001b[91mT\u001b[91mT\u001b[93mG\u001b[92mA\u001b[92mA\u001b[92mA\u001b[93mG\u001b[94mC\u001b[93mG\u001b[91mT\u001b[91mT\u001b[91mT\u001b[94mC\u001b[93mG\u001b[91mT\u001b[94mC\u001b[91mT\u001b[94mC\u001b[92mA\u001b[93mG\u001b[93mG\u001b[92mA\u001b[91mT\u001b[93mG\u001b[91mT\u001b[92mA\u001b[91mT\u001b[93mG\u001b[94mC\u001b[93mG\u001b[91mT\u001b[91mT\u001b[93mG\u001b[94mC\u001b[93mG\u001b[93mG\u001b[94mC\u001b[93mG\u001b[93mG\u001b[92mA\u001b[93mG\u001b[94mC\u001b[93mG\u001b[91mT\u001b[94mC\u001b[94mC\u001b[94mC\u001b[92mA\u001b[92mA\u001b[94mC\u001b[93mG\u001b[94mC\u001b[93mG\u001b[94mC\u001b[93mG\u001b[92mA\u001b[93mG\u001b[94mC\u001b[93mG\u001b[93mG\u001b[94mC\u001b[92mA\u001b[91mT\u001b[93mG\u001b[92mA\u001b[94mC\u001b[93mG\u001b[93mG\u001b[93mG\u001b[94mC\u001b[91mT\u001b[94mC\u001b[92mA\u001b[91mT\u001b[93mG\u001b[93mG\u001b[91mT\u001b[92mA\u001b[93mG\u001b[92mA\u001b[93mG\u001b[91mT\u001b[93mG\u001b[94mC\u001b[92mA\u001b[93mG\u001b[94mC\u001b[92mA\u001b[94mC\u001b[94mC\u001b[94mC\u001b[93mG\u001b[94mC\u001b[93mG\u001b[93mG\u001b[94mC\u001b[94mC\u001b[91mT\u001b[92mA\u001b[93mG\u001b[91mT\u001b[92mA\u001b[93mG\u001b[93mG\u001b[93mG\u001b[94mC\u001b[91mT\u001b[93mG\u001b[92mA\u001b[92mA\u001b[93mG\u001b[94mC\u001b[92mA\u001b[94mC\u001b[93mG\u001b[92mA\u001b[94mC\u001b[91mT\u001b[94mC\u001b[93mG\u001b[92mA\u001b[94mC\u001b[93mG\u001b[94mC\u001b[91mT\u001b[94mC\u001b[93mG\u001b[91mT\u001b[94mC\u001b[92mA\u001b[93mG\u001b[94mC\u001b[94mC\u001b[94mC\u001b[92mA\u001b[92mA\u001b[93mG\u001b[93mG\u001b[92mA\u001b[91mT\u001b[93mG\u001b[93mG\u001b[92mA\u001b[92mA\u001b[94mC\u001b[94mC\u001b[94mC\u001b[91mT\u001b[94mC\u001b[92mA\u001b[92mA\u001b[91mT\u001b[92mA\u001b[93mG\u001b[91mT\u001b[94mC\u001b[94mC\u001b[93mG\u001b[92mA\u001b[93mG\u001b[92mA\u001b[91mT\u001b[94mC\u001b[93mG\u001b[93mG\u001b[91mT\u001b[91mT\u001b[94mC\u001b[94mC\u001b[91mT\u001b[91mT\u001b[93mG\u001b[92mA\u001b[94mC\u001b[91mT\u001b[94mC\u001b[91mT\u001b[91mT\u001b[92mA\u001b[92mA\u001b[92mA\u001b[93mG\u001b[93mG\u001b[91mT\u001b[92mA\u001b[92mA\u001b[94mC\u001b[92mA\u001b[92mA\u001b[93mG\u001b[93mG\u001b[92mA\u001b[94mC\u001b[94mC\u001b[93mG\u001b[91mT\u001b[93mG\u001b[93mG\u001b[91mT\u001b[92mA\u001b[91mT\u001b[94mC\u001b[92mA\u001b[94mC\u001b[94mC\u001b[91mT\u001b[94mC\u001b[93mG\u001b[93mG\u001b[94mC\u001b[94mC\u001b[91mT\u001b[91mT\u001b[94mC\u001b[94mC\u001b[92mA\u001b[94mC\u001b[91mT\u001b[94mC\u001b[94mC\u001b[94mC\u001b[91mT\u001b[94mC\u001b[91mT\u001b[93mG\u001b[94mC\u001b[91mT\u001b[93mG\u001b[93mG\u001b[92mA\u001b[91mT\u001b[94mC\u001b[91mT\u001b[93mG\u001b[92mA\u001b[92mA\u001b[94mC\u001b[91mT\u001b[92mA\u001b[93mG\u001b[91mT\u001b[91mT\u001b[93mG\u001b[94mC\u001b[93mG\u001b[93mG\u001b[94mC\u001b[93mG\u001b[94mC\u001b[92mA\u001b[91mT\u001b[93mG\u001b[92mA\u001b[92mA\u001b[93mG\u001b[91mT\u001b[92mA\u001b[93mG\u001b[94mC\u001b[94mC\u001b[91mT\u001b[93mG\u001b[93mG\u001b[91mT\u001b[94mC\u001b[91mT\u001b[93mG\u001b[94mC\u001b[94mC\u001b[93mG\u001b[91mT\u001b[93mG\u001b[93mG\u001b[91mT\u001b[92mA\u001b[93mG\u001b[93mG\u001b[92mA\u001b[92mA\u001b[94mC\u001b[94mC\u001b[91mT\u001b[93mG\u001b[94mC\u001b[93mG\u001b[92mA\u001b[91mT\u001b[92mA\u001b[94mC\u001b[91mT\u001b[94mC\u001b[91mT\u001b[91mT\u001b[91mT\u001b[91mT\u001b[91mT\u001b[94mC\u001b[91mT\u001b[91mT\u001b[93mG\u001b[93mG\u001b[92mA\u001b[91mT\u001b[92mA\u001b[94mC\u001b[94mC\u001b[93mG\u001b[91mT\u001b[93mG\u001b[91mT\u001b[91mT\u001b[92mA\u001b[94mC\u001b[91mT\u001b[94mC\u001b[93mG\u001b[94mC\u001b[94mC\u001b[93mG\u001b[93mG\u001b[91mT\u001b[93mG\u001b[91mT\u001b[92mA\u001b[93mG\u001b[92mA\u001b[94mC\u001b[91mT\u001b[93mG\u001b[93mG\u001b[91mT\u001b[91mT\u001b[94mC\u001b[94mC\u001b[94mC\u001b[92mA\u001b[93mG\u001b[93mG\u001b[92mA\u001b[93mG\u001b[91mT\u001b[91mT\u001b[93mG\u001b[93mG\u001b[91mT\u001b[93mG\u001b[91mT\u001b[92mA\u001b[94mC\u001b[94mC\u001b[94mC\u001b[94mC\u001b[93mG\u001b[94mC\u001b[92mA\u001b[92mA\u001b[92mA\u001b[94mC\u001b[91mT\u001b[92mA\u001b[91mT\u001b[93mG\u001b[94mC\u001b[93mG\u001b[93mG\u001b[94mC\u001b[93mG\u001b[92mA\u001b[92mA\u001b[94mC\u001b[94mC\u001b[93mG\u001b[93mG\u001b[94mC\u001b[94mC\u001b[94mC\u001b[93mG\u001b[93mG\u001b[94mC\u001b[94mC\u001b[91mT\u001b[93mG\u001b[92mA\u001b[94mC\u001b[93mG\u001b[92mA\u001b[93mG\u001b[94mC\u001b[92mA\u001b[93mG\u001b[92mA\u001b[94mC\u001b[92mA\u001b[92mA\u001b[94mC\u001b[94mC\u001b[94mC\u001b[91mT\u001b[92mA\u001b[93mG\u001b[92mA\u001b[94mC\u001b[94mC\u001b[93mG\u001b[91mT\u001b[92mA\u001b[92mA\u001b[93mG\u001b[93mG\u001b[93mG\u001b[93mG\u001b[94mC\u001b[91mT\u001b[94mC\u001b[94mC\u001b[93mG\u001b[94mC\u001b[92mA\u001b[92mA\u001b[93mG\u001b[93mG\u001b[94mC\u001b[94mC\u001b[94mC\u001b[91mT\u001b[94mC\u001b[93mG\u001b[92mA\u001b[94mC\u001b[91mT\u001b[92mA\u001b[92mA\u001b[93mG\u001b[94mC\u001b[92mA\u001b[94mC\u001b[91mT\u001b[93mG\u001b[94mC\u001b[94mC\u001b[92mA\u001b[94mC\u001b[93mG\u001b[94mC\u001b[91mT\u001b[94mC\u001b[94mC\u001b[91mT\u001b[92mA\u001b[93mG\u001b[91mT\u001b[92mA\u001b[93mG\u001b[94mC\u001b[92mA\u001b[93mG\u001b[92mA\u001b[94mC\u001b[92mA\u001b[93mG\u001b[93mG\u001b[93mG\u001b[94mC\u001b[93mG\u001b[94mC\u001b[92mA\u001b[92mA\u001b[93mG\u001b[92mA\u001b[94mC\u001b[94mC\u001b[91mT\u001b[92mA\u001b[94mC\u001b[94mC\u001b[93mG\u001b[94mC\u001b[94mC\u001b[91mT\u001b[93mG\u001b[94mC\u001b[91mT\u001b[94mC\u001b[92mA\u001b[91mT\u001b[93mG\u001b[91mT\u001b[91mT\u001b[94mC\u001b[93mG\u001b[94mC\u001b[93mG\u001b[94mC\u001b[94mC\u001b[92mA\u001b[94mC\u001b[94mC\u001b[93mG\u001b[92mA\u001b[93mG\u001b[93mG\u001b[94mC\u001b[94mC\u001b[93mG\u001b[94mC\u001b[91mT\u001b[91mT\u001b[94mC\u001b[92mA\u001b[94mC\u001b[94mC\u001b[92mA\u001b[94mC\u001b[91mT\u001b[91mT\u001b[93mG\u001b[93mG\u001b[94mC\u001b[92mA\u001b[94mC\u001b[91mT\u001b[92mA\u001b[92mA\u001b[93mG\u001b[94mC\u001b[94mC\u001b[91mT\u001b[94mC\u001b[91mT\u001b[91mT\u001b[94mC\u001b[94mC\u001b[92mA\u001b[94mC\u001b[92mA\u001b[92mA\u001b[93mG\u001b[93mG\u001b[92mA\u001b[91mT\u001b[94mC\u001b[91mT\u001b[94mC\u001b[91mT\u001b[91mT\u001b[93mG\u001b[94mC\u001b[92mA\u001b[94mC\u001b[93mG\u001b[92mA\u001b[92mA\u001b[94mC\u001b[92mA\u001b[94mC\u001b[94mC\u001b[93mG\u001b[94mC\u001b[91mT\u001b[94mC\u001b[94mC\u001b[94mC\u001b[93mG\u001b[94mC\u001b[92mA\u001b[92mA\u001b[92mA\u001b[94mC\u001b[91mT\u001b[91mT\u001b[91mT\u001b[91mT\u001b[93mG\u001b[91mT\u001b[93mG\u001b[91mT\u001b[94mC\u001b[93mG\u001b[94mC\u001b[94mC\u001b[93mG\u001b[91mT\u001b[94mC\u001b[92mA\u001b[94mC\u001b[94mC\u001b[92mA\u001b[94mC\u001b[93mG\u001b[92mA\u001b[92mA\u001b[94mC\u001b[92mA\u001b[93mG\u001b[91mT\u001b[91mT\u001b[92mA\u001b[94mC\u001b[93mG\u001b[92mA\u001b[94mC\u001b[94mC\u001b[93mG\u001b[94mC\u001b[94mC\u001b[94mC\u001b[93mG\u001b[93mG\u001b[93mG\u001b[94mC\u001b[91mT\u001b[94mC\u001b[94mC\u001b[94mC\u001b[93mG\u001b[94mC\u001b[94mC\u001b[94mC\u001b[94mC\u001b[92mA\u001b[92mA\u001b[94mC\u001b[91mT\u001b[94mC\u001b[91mT\u001b[94mC\u001b[94mC\u001b[91mT\u001b[94mC\u001b[94mC\u001b[92mA\u001b[94mC\u001b[94mC\u001b[94mC\u001b[91mT\u001b[92mA\u001b[94mC\u001b[94mC\u001b[94mC\u001b[92mA\u001b[93mG\u001b[94mC\u001b[93mG\u001b[91mT\u001b[94mC\u001b[92mA\u001b[92mA\u001b[94mC\u001b[91mT\u001b[94mC\u001b[94mC\u001b[92mA\u001b[91mT\u001b[92mA\u001b[92mA\u001b[94mC\u001b[93mG\u001b[94mC\u001b[94mC\u001b[92mA\u001b[94mC\u001b[92mA\u001b[93mG\u001b[91mT\u001b[94mC\u001b[93mG\u001b[93mG\u001b[91mT\u001b[94mC\u001b[94mC\u001b[92mA\u001b[93mG\u001b[94mC\u001b[93mG\u001b[94mC\u001b[91mT\u001b[92mA\u001b[94mC\u001b[93mG\u001b[93mG\u001b[92mA\u001b[93mG\u001b[92mA\u001b[93mG\u001b[91mT\u001b[92mA\u001b[93mG\u001b[94mC\u001b[94mC\u001b[91mT\u001b[92mA\u001b[93mG\u001b[93mG\u001b[91mT\u001b[92mA\u001b[93mG\u001b[94mC\u001b[94mC\u001b[94mC\u001b[91mT\u001b[91mT\u001b[94mC\u001b[92mA\u001b[92mA\u001b[94mC\u001b[94mC\u001b[94mC\u001b[93mG\u001b[94mC\u001b[93mG\u001b[91mT\u001b[94mC\u001b[91mT\u001b[94mC\u001b[94mC\u001b[91mT\u001b[94mC\u001b[94mC\u001b[93mG\u001b[91mT\u001b[94mC\u001b[92mA\u001b[94mC\u001b[91mT\u001b[94mC\u001b[93mG\u001b[91mT\u001b[92mA\u001b[92mA\u001b[94mC\u001b[92mA\u001b[93mG\u001b[94mC\u001b[91mT\u001b[91mT\u001b[94mC\u001b[92mA\u001b[92mA\u001b[94mC\u001b[91mT\u001b[93mG\u001b[93mG\u001b[92mA\u001b[94mC\u001b[94mC\u001b[94mC\u001b[93mG\u001b[92mA\u001b[92mA\u001b[94mC\u001b[93mG\u001b[92mA\u001b[94mC\u001b[94mC\u001b[91mT\u001b[93mG\u001b[94mC\u001b[92mA\u001b[92mA\u001b[94mC\u001b[93mG\u001b[92mA\u001b[94mC\u001b[91mT\u001b[94mC\u001b[94mC\u001b[94mC\u001b[94mC\u001b[94mC\u001b[93mG\u001b[92mA\u001b[92mA\u001b[91mT\u001b[93mG\u001b[91mT\u001b[91mT\u001b[94mC\u001b[94mC\u001b[92mA\u001b[94mC\u001b[91mT\u001b[94mC\u001b[91mT\u001b[94mC\u001b[91mT\u001b[94mC\u001b[94mC\u001b[91mT\u001b[93mG\u001b[91mT\u001b[92mA\u001b[94mC\u001b[93mG\u001b[91mT\u001b[94mC\u001b[91mT\u001b[91mT\u001b[94mC\u001b[94mC\u001b[91mT\u001b[91mT\u001b[94mC\u001b[94mC\u001b[93mG\u001b[92mA\u001b[94mC\u001b[94mC\u001b[93mG\u001b[91mT\u001b[92mA\u001b[92mA\u001b[91mT\u001b[93mG\u001b[94mC\u001b[94mC\u001b[94mC\u001b[92mA\u001b[91mT\u001b[93mG\u001b[92mA\u001b[93mG\u001b[91mT\u001b[91mT\u001b[92mA\u001b[93mG\u001b[91mT\u001b[93mG\u001b[93mG\u001b[91mT\u001b[91mT\u001b[94mC\u001b[94mC\u001b[91mT\u001b[94mC\u001b[92mA\u001b[94mC\u001b[91mT\u001b[0;0m 5' [Complement]\n",
            "5' \u001b[91mT\u001b[94mC\u001b[92mA\u001b[94mC\u001b[91mT\u001b[94mC\u001b[94mC\u001b[91mT\u001b[91mT\u001b[93mG\u001b[93mG\u001b[91mT\u001b[93mG\u001b[92mA\u001b[91mT\u001b[91mT\u001b[93mG\u001b[92mA\u001b[93mG\u001b[91mT\u001b[92mA\u001b[94mC\u001b[94mC\u001b[94mC\u001b[93mG\u001b[91mT\u001b[92mA\u001b[92mA\u001b[91mT\u001b[93mG\u001b[94mC\u001b[94mC\u001b[92mA\u001b[93mG\u001b[94mC\u001b[94mC\u001b[91mT\u001b[91mT\u001b[94mC\u001b[94mC\u001b[91mT\u001b[91mT\u001b[94mC\u001b[91mT\u001b[93mG\u001b[94mC\u001b[92mA\u001b[91mT\u001b[93mG\u001b[91mT\u001b[94mC\u001b[94mC\u001b[91mT\u001b[94mC\u001b[91mT\u001b[94mC\u001b[91mT\u001b[94mC\u001b[92mA\u001b[94mC\u001b[94mC\u001b[91mT\u001b[91mT\u001b[93mG\u001b[91mT\u001b[92mA\u001b[92mA\u001b[93mG\u001b[94mC\u001b[94mC\u001b[94mC\u001b[94mC\u001b[94mC\u001b[91mT\u001b[94mC\u001b[92mA\u001b[93mG\u001b[94mC\u001b[92mA\u001b[92mA\u001b[94mC\u001b[93mG\u001b[91mT\u001b[94mC\u001b[94mC\u001b[92mA\u001b[93mG\u001b[94mC\u001b[92mA\u001b[92mA\u001b[93mG\u001b[94mC\u001b[94mC\u001b[94mC\u001b[92mA\u001b[93mG\u001b[93mG\u001b[91mT\u001b[94mC\u001b[92mA\u001b[92mA\u001b[94mC\u001b[91mT\u001b[91mT\u001b[94mC\u001b[93mG\u001b[92mA\u001b[94mC\u001b[92mA\u001b[92mA\u001b[91mT\u001b[93mG\u001b[94mC\u001b[91mT\u001b[94mC\u001b[92mA\u001b[94mC\u001b[91mT\u001b[93mG\u001b[94mC\u001b[94mC\u001b[91mT\u001b[94mC\u001b[94mC\u001b[91mT\u001b[94mC\u001b[91mT\u001b[93mG\u001b[94mC\u001b[93mG\u001b[94mC\u001b[94mC\u001b[94mC\u001b[92mA\u001b[92mA\u001b[94mC\u001b[91mT\u001b[91mT\u001b[94mC\u001b[94mC\u001b[94mC\u001b[93mG\u001b[92mA\u001b[91mT\u001b[93mG\u001b[93mG\u001b[92mA\u001b[91mT\u001b[94mC\u001b[94mC\u001b[93mG\u001b[92mA\u001b[91mT\u001b[93mG\u001b[92mA\u001b[93mG\u001b[92mA\u001b[93mG\u001b[93mG\u001b[94mC\u001b[92mA\u001b[91mT\u001b[94mC\u001b[93mG\u001b[94mC\u001b[93mG\u001b[92mA\u001b[94mC\u001b[94mC\u001b[91mT\u001b[93mG\u001b[93mG\u001b[94mC\u001b[91mT\u001b[93mG\u001b[92mA\u001b[94mC\u001b[92mA\u001b[94mC\u001b[94mC\u001b[93mG\u001b[94mC\u001b[92mA\u001b[92mA\u001b[91mT\u001b[92mA\u001b[94mC\u001b[94mC\u001b[91mT\u001b[94mC\u001b[92mA\u001b[92mA\u001b[94mC\u001b[91mT\u001b[93mG\u001b[94mC\u001b[93mG\u001b[92mA\u001b[94mC\u001b[94mC\u001b[94mC\u001b[92mA\u001b[91mT\u001b[94mC\u001b[94mC\u001b[94mC\u001b[92mA\u001b[94mC\u001b[94mC\u001b[91mT\u001b[94mC\u001b[94mC\u001b[91mT\u001b[94mC\u001b[91mT\u001b[94mC\u001b[92mA\u001b[92mA\u001b[94mC\u001b[94mC\u001b[94mC\u001b[94mC\u001b[93mG\u001b[94mC\u001b[94mC\u001b[94mC\u001b[91mT\u001b[94mC\u001b[93mG\u001b[93mG\u001b[93mG\u001b[94mC\u001b[94mC\u001b[94mC\u001b[93mG\u001b[94mC\u001b[94mC\u001b[92mA\u001b[93mG\u001b[94mC\u001b[92mA\u001b[91mT\u001b[91mT\u001b[93mG\u001b[92mA\u001b[94mC\u001b[92mA\u001b[92mA\u001b[93mG\u001b[94mC\u001b[92mA\u001b[94mC\u001b[94mC\u001b[92mA\u001b[94mC\u001b[91mT\u001b[93mG\u001b[94mC\u001b[94mC\u001b[93mG\u001b[94mC\u001b[91mT\u001b[93mG\u001b[91mT\u001b[93mG\u001b[91mT\u001b[91mT\u001b[91mT\u001b[91mT\u001b[94mC\u001b[92mA\u001b[92mA\u001b[92mA\u001b[94mC\u001b[93mG\u001b[94mC\u001b[94mC\u001b[94mC\u001b[91mT\u001b[94mC\u001b[93mG\u001b[94mC\u001b[94mC\u001b[92mA\u001b[94mC\u001b[92mA\u001b[92mA\u001b[93mG\u001b[94mC\u001b[92mA\u001b[94mC\u001b[93mG\u001b[91mT\u001b[91mT\u001b[94mC\u001b[91mT\u001b[94mC\u001b[91mT\u001b[92mA\u001b[93mG\u001b[93mG\u001b[92mA\u001b[92mA\u001b[94mC\u001b[92mA\u001b[94mC\u001b[94mC\u001b[91mT\u001b[91mT\u001b[94mC\u001b[91mT\u001b[94mC\u001b[94mC\u001b[93mG\u001b[92mA\u001b[92mA\u001b[91mT\u001b[94mC\u001b[92mA\u001b[94mC\u001b[93mG\u001b[93mG\u001b[91mT\u001b[91mT\u001b[94mC\u001b[92mA\u001b[94mC\u001b[94mC\u001b[92mA\u001b[94mC\u001b[91mT\u001b[91mT\u001b[94mC\u001b[93mG\u001b[94mC\u001b[94mC\u001b[93mG\u001b[93mG\u001b[92mA\u001b[93mG\u001b[94mC\u001b[94mC\u001b[92mA\u001b[94mC\u001b[94mC\u001b[93mG\u001b[94mC\u001b[93mG\u001b[94mC\u001b[91mT\u001b[91mT\u001b[93mG\u001b[91mT\u001b[92mA\u001b[94mC\u001b[91mT\u001b[94mC\u001b[93mG\u001b[91mT\u001b[94mC\u001b[94mC\u001b[93mG\u001b[94mC\u001b[94mC\u001b[92mA\u001b[91mT\u001b[94mC\u001b[94mC\u001b[92mA\u001b[93mG\u001b[92mA\u001b[92mA\u001b[94mC\u001b[93mG\u001b[94mC\u001b[93mG\u001b[93mG\u001b[93mG\u001b[92mA\u001b[94mC\u001b[92mA\u001b[93mG\u001b[92mA\u001b[94mC\u001b[93mG\u001b[92mA\u001b[91mT\u001b[93mG\u001b[92mA\u001b[91mT\u001b[94mC\u001b[94mC\u001b[91mT\u001b[94mC\u001b[93mG\u001b[94mC\u001b[92mA\u001b[94mC\u001b[94mC\u001b[93mG\u001b[91mT\u001b[94mC\u001b[92mA\u001b[94mC\u001b[93mG\u001b[92mA\u001b[92mA\u001b[91mT\u001b[94mC\u001b[92mA\u001b[93mG\u001b[94mC\u001b[91mT\u001b[94mC\u001b[94mC\u001b[94mC\u001b[93mG\u001b[93mG\u001b[92mA\u001b[92mA\u001b[94mC\u001b[93mG\u001b[94mC\u001b[94mC\u001b[91mT\u001b[94mC\u001b[93mG\u001b[93mG\u001b[93mG\u001b[93mG\u001b[92mA\u001b[92mA\u001b[91mT\u001b[93mG\u001b[94mC\u001b[94mC\u001b[92mA\u001b[93mG\u001b[92mA\u001b[91mT\u001b[94mC\u001b[94mC\u001b[94mC\u001b[92mA\u001b[92mA\u001b[94mC\u001b[92mA\u001b[93mG\u001b[92mA\u001b[94mC\u001b[93mG\u001b[92mA\u001b[93mG\u001b[94mC\u001b[92mA\u001b[93mG\u001b[91mT\u001b[94mC\u001b[94mC\u001b[93mG\u001b[93mG\u001b[94mC\u001b[94mC\u001b[94mC\u001b[93mG\u001b[93mG\u001b[94mC\u001b[94mC\u001b[92mA\u001b[92mA\u001b[93mG\u001b[94mC\u001b[93mG\u001b[93mG\u001b[94mC\u001b[93mG\u001b[91mT\u001b[92mA\u001b[91mT\u001b[94mC\u001b[92mA\u001b[92mA\u001b[92mA\u001b[94mC\u001b[93mG\u001b[94mC\u001b[94mC\u001b[94mC\u001b[94mC\u001b[92mA\u001b[91mT\u001b[93mG\u001b[91mT\u001b[93mG\u001b[93mG\u001b[91mT\u001b[91mT\u001b[93mG\u001b[92mA\u001b[93mG\u001b[93mG\u001b[92mA\u001b[94mC\u001b[94mC\u001b[94mC\u001b[91mT\u001b[91mT\u001b[93mG\u001b[93mG\u001b[91mT\u001b[94mC\u001b[92mA\u001b[93mG\u001b[92mA\u001b[91mT\u001b[93mG\u001b[91mT\u001b[93mG\u001b[93mG\u001b[94mC\u001b[94mC\u001b[93mG\u001b[94mC\u001b[91mT\u001b[94mC\u001b[92mA\u001b[91mT\u001b[91mT\u001b[93mG\u001b[91mT\u001b[93mG\u001b[94mC\u001b[94mC\u001b[92mA\u001b[91mT\u001b[92mA\u001b[93mG\u001b[93mG\u001b[91mT\u001b[91mT\u001b[94mC\u001b[91mT\u001b[91mT\u001b[91mT\u001b[91mT\u001b[91mT\u001b[94mC\u001b[91mT\u001b[94mC\u001b[92mA\u001b[91mT\u001b[92mA\u001b[93mG\u001b[94mC\u001b[93mG\u001b[91mT\u001b[94mC\u001b[94mC\u001b[92mA\u001b[92mA\u001b[93mG\u001b[93mG\u001b[92mA\u001b[91mT\u001b[93mG\u001b[93mG\u001b[91mT\u001b[93mG\u001b[94mC\u001b[94mC\u001b[93mG\u001b[91mT\u001b[94mC\u001b[91mT\u001b[93mG\u001b[93mG\u001b[91mT\u001b[94mC\u001b[94mC\u001b[93mG\u001b[92mA\u001b[91mT\u001b[93mG\u001b[92mA\u001b[92mA\u001b[93mG\u001b[91mT\u001b[92mA\u001b[94mC\u001b[93mG\u001b[94mC\u001b[93mG\u001b[93mG\u001b[94mC\u001b[93mG\u001b[91mT\u001b[91mT\u001b[93mG\u001b[92mA\u001b[91mT\u001b[94mC\u001b[92mA\u001b[92mA\u001b[93mG\u001b[91mT\u001b[94mC\u001b[91mT\u001b[92mA\u001b[93mG\u001b[93mG\u001b[91mT\u001b[94mC\u001b[93mG\u001b[91mT\u001b[94mC\u001b[91mT\u001b[94mC\u001b[94mC\u001b[94mC\u001b[91mT\u001b[94mC\u001b[92mA\u001b[94mC\u001b[94mC\u001b[91mT\u001b[91mT\u001b[94mC\u001b[94mC\u001b[93mG\u001b[93mG\u001b[94mC\u001b[91mT\u001b[94mC\u001b[94mC\u001b[92mA\u001b[94mC\u001b[91mT\u001b[92mA\u001b[91mT\u001b[93mG\u001b[93mG\u001b[91mT\u001b[93mG\u001b[94mC\u001b[94mC\u001b[92mA\u001b[93mG\u001b[93mG\u001b[92mA\u001b[92mA\u001b[94mC\u001b[92mA\u001b[92mA\u001b[91mT\u001b[93mG\u001b[93mG\u001b[92mA\u001b[92mA\u001b[92mA\u001b[91mT\u001b[91mT\u001b[94mC\u001b[91mT\u001b[94mC\u001b[92mA\u001b[93mG\u001b[91mT\u001b[91mT\u001b[94mC\u001b[94mC\u001b[91mT\u001b[91mT\u001b[93mG\u001b[93mG\u001b[94mC\u001b[91mT\u001b[92mA\u001b[93mG\u001b[92mA\u001b[93mG\u001b[94mC\u001b[94mC\u001b[91mT\u001b[93mG\u001b[92mA\u001b[91mT\u001b[92mA\u001b[92mA\u001b[94mC\u001b[91mT\u001b[94mC\u001b[94mC\u001b[94mC\u001b[92mA\u001b[92mA\u001b[93mG\u001b[93mG\u001b[91mT\u001b[92mA\u001b[93mG\u001b[93mG\u001b[92mA\u001b[92mA\u001b[94mC\u001b[94mC\u001b[94mC\u001b[93mG\u001b[92mA\u001b[94mC\u001b[91mT\u001b[93mG\u001b[94mC\u001b[91mT\u001b[94mC\u001b[93mG\u001b[94mC\u001b[92mA\u001b[93mG\u001b[94mC\u001b[91mT\u001b[94mC\u001b[92mA\u001b[93mG\u001b[94mC\u001b[92mA\u001b[94mC\u001b[93mG\u001b[92mA\u001b[92mA\u001b[93mG\u001b[91mT\u001b[94mC\u001b[93mG\u001b[93mG\u001b[93mG\u001b[92mA\u001b[91mT\u001b[93mG\u001b[92mA\u001b[91mT\u001b[94mC\u001b[94mC\u001b[93mG\u001b[93mG\u001b[94mC\u001b[93mG\u001b[94mC\u001b[94mC\u001b[94mC\u001b[92mA\u001b[94mC\u001b[93mG\u001b[92mA\u001b[94mC\u001b[93mG\u001b[91mT\u001b[93mG\u001b[92mA\u001b[93mG\u001b[92mA\u001b[91mT\u001b[93mG\u001b[93mG\u001b[91mT\u001b[92mA\u001b[94mC\u001b[91mT\u001b[94mC\u001b[93mG\u001b[93mG\u001b[93mG\u001b[94mC\u001b[92mA\u001b[93mG\u001b[91mT\u001b[92mA\u001b[94mC\u001b[93mG\u001b[93mG\u001b[94mC\u001b[93mG\u001b[92mA\u001b[93mG\u001b[94mC\u001b[93mG\u001b[94mC\u001b[93mG\u001b[94mC\u001b[92mA\u001b[92mA\u001b[94mC\u001b[94mC\u001b[94mC\u001b[91mT\u001b[93mG\u001b[94mC\u001b[93mG\u001b[92mA\u001b[93mG\u001b[93mG\u001b[94mC\u001b[93mG\u001b[93mG\u001b[94mC\u001b[93mG\u001b[91mT\u001b[91mT\u001b[93mG\u001b[94mC\u001b[93mG\u001b[91mT\u001b[92mA\u001b[91mT\u001b[93mG\u001b[91mT\u001b[92mA\u001b[93mG\u001b[93mG\u001b[92mA\u001b[94mC\u001b[91mT\u001b[94mC\u001b[91mT\u001b[93mG\u001b[94mC\u001b[91mT\u001b[91mT\u001b[91mT\u001b[93mG\u001b[94mC\u001b[93mG\u001b[92mA\u001b[92mA\u001b[92mA\u001b[93mG\u001b[91mT\u001b[91mT\u001b[93mG\u001b[91mT\u001b[94mC\u001b[91mT\u001b[93mG\u001b[94mC\u001b[91mT\u001b[93mG\u001b[93mG\u001b[94mC\u001b[93mG\u001b[92mA\u001b[93mG\u001b[92mA\u001b[94mC\u001b[92mA\u001b[93mG\u001b[94mC\u001b[93mG\u001b[94mC\u001b[93mG\u001b[92mA\u001b[93mG\u001b[93mG\u001b[93mG\u001b[93mG\u001b[94mC\u001b[93mG\u001b[93mG\u001b[93mG\u001b[93mG\u001b[91mT\u001b[92mA\u001b[91mT\u001b[93mG\u001b[92mA\u001b[93mG\u001b[92mA\u001b[92mA\u001b[93mG\u001b[92mA\u001b[91mT\u001b[93mG\u001b[93mG\u001b[94mC\u001b[93mG\u001b[92mA\u001b[94mC\u001b[94mC\u001b[92mA\u001b[92mA\u001b[91mT\u001b[93mG\u001b[94mC\u001b[94mC\u001b[93mG\u001b[91mT\u001b[94mC\u001b[93mG\u001b[92mA\u001b[93mG\u001b[93mG\u001b[92mA\u001b[91mT\u001b[92mA\u001b[92mA\u001b[93mG\u001b[94mC\u001b[91mT\u001b[92mA\u001b[93mG\u001b[94mC\u001b[94mC\u001b[93mG\u001b[94mC\u001b[91mT\u001b[91mT\u001b[94mC\u001b[92mA\u001b[92mA\u001b[93mG\u001b[93mG\u001b[91mT\u001b[93mG\u001b[92mA\u001b[91mT\u001b[91mT\u001b[94mC\u001b[91mT\u001b[93mG\u001b[93mG\u001b[93mG\u001b[93mG\u001b[92mA\u001b[91mT\u001b[91mT\u001b[94mC\u001b[94mC\u001b[94mC\u001b[93mG\u001b[92mA\u001b[94mC\u001b[94mC\u001b[91mT\u001b[91mT\u001b[94mC\u001b[93mG\u001b[93mG\u001b[92mA\u001b[91mT\u001b[93mG\u001b[94mC\u001b[92mA\u001b[91mT\u001b[94mC\u001b[91mT\u001b[93mG\u001b[91mT\u001b[92mA\u001b[91mT\u001b[93mG\u001b[92mA\u001b[93mG\u001b[93mG\u001b[93mG\u001b[94mC\u001b[92mA\u001b[92mA\u001b[91mT\u001b[94mC\u001b[91mT\u001b[91mT\u001b[93mG\u001b[93mG\u001b[94mC\u001b[94mC\u001b[91mT\u001b[91mT\u001b[93mG\u001b[94mC\u001b[91mT\u001b[94mC\u001b[93mG\u001b[94mC\u001b[94mC\u001b[92mA\u001b[91mT\u001b[0;0m 3' [Rev. Complement]\n",
            "\n",
            "[5] + GC Content: 59%\n",
            "\n",
            "[6] + GC Content in Subsection k=5: [60, 60, 80, 20, 80, 20, 40, 60, 60, 80, 40, 80, 20, 60, 60, 60, 20, 80, 80, 40, 80, 20, 40, 80, 100, 80, 60, 80, 60, 40, 40, 40, 60, 40, 40, 60, 100, 80, 60, 80, 80, 60, 80, 60, 40, 60, 60, 100, 80, 40, 80, 40, 60, 80, 60, 80, 60, 40, 60, 20, 80, 40, 60, 40, 40, 40, 20, 60, 80, 20, 80, 60, 60, 80, 60, 40, 40, 40, 100, 40, 40, 80, 60, 80, 40, 60, 40, 40, 20, 40, 60, 40, 80, 60, 40, 60, 80, 40, 40, 100, 40, 40, 80, 80, 100, 60, 80, 40, 60, 60, 40, 80, 80, 80, 60, 40, 60, 80, 60, 40, 60, 80, 60, 40, 100, 60, 20, 100, 80, 80, 60, 60, 60, 20, 80, 40, 60, 40, 40, 60, 80, 80, 40, 20, 60, 80, 60, 40, 40, 80, 100, 80, 100, 40, 60, 80, 60, 80, 40, 40, 60, 60, 60, 80, 60, 60, 60, 60, 60, 40, 80, 60, 80, 60, 40, 60, 20, 60, 80, 60, 60, 60, 80, 40, 60, 40, 60, 60, 40, 60, 80, 20, 60, 40, 60, 40]\n",
            "\n",
            "[7] + Aminoacid Sequence from DNA: ['M', 'A', 'S', 'K', 'A', 'K', 'I', 'A', 'L', 'I', 'Q', 'M', 'H', 'P', 'K', 'V', 'G', 'N', 'P', 'Q', 'N', 'H', 'L', 'E', 'A', 'A', 'S', 'L', 'S', 'S', 'T', 'A', 'L', 'V', 'A', 'I', 'F', 'S', 'Y', 'P', 'A', 'P', 'R', 'A', 'V', 'S', 'P', 'A', 'D', 'N', 'F', 'R', 'K', 'A', 'E', 'S', 'Y', 'I', 'R', 'N', 'A', 'A', 'S', 'Q', 'G', 'C', 'A', 'L', 'A', 'V', 'L', 'P', 'E', 'Y', 'H', 'L', 'T', 'S', 'W', 'A', 'P', 'D', 'H', 'P', 'D', 'F', 'V', 'L', 'S', 'C', 'E', 'Q', 'S', 'G', 'S', 'Y', 'L', 'G', 'S', 'Y', 'Q', 'A', 'L', 'A', 'K', 'E', 'L', 'R', 'I', 'S', 'I', 'V', 'P', 'G', 'T', 'I', 'V', 'E', 'P', 'E', 'G', 'E', 'G', 'D', 'D', 'L', 'D', 'L', 'I', 'N', 'A', 'A', 'Y', 'F', 'I', 'G', 'P', 'D', 'G', 'T', 'I', 'L', 'G', 'R', 'Y', 'E', 'K', 'K', 'N', 'L', 'W', 'H', 'N', 'E', 'R', 'P', 'H', 'L', 'T', 'K', 'G', 'P', 'Q', 'P', 'H', 'G', 'A', 'F', 'D', 'T', 'P', 'L', 'G', 'R', 'A', 'G', 'L', 'L', 'V', 'C', 'W', 'D', 'L', 'A', 'F', 'P', 'E', 'A', 'F', 'R', 'E', 'L', 'I', 'R', 'D', 'G', 'A', 'R', 'I', 'I', 'V', 'C', 'P', 'A', 'F', 'W', 'M', 'A', 'D', 'E', 'Y', 'K', 'R', 'G', 'G', 'S', 'G', 'E', 'V', 'V', 'N', 'R', 'D', 'S', 'E', 'K', 'V', 'F', 'L', 'E', 'N', 'V', 'L', 'V', 'A', 'R', 'A', 'F', 'E', 'N', 'T', 'A', 'A', 'V', 'V', 'L', 'V', 'N', 'A', 'G', 'G', 'P', 'E', 'G', 'G', 'V', 'E', 'R', 'R', 'W', 'D', 'G', 'S', 'Q', 'L', 'R', 'Y', 'C', 'G', 'V', 'S', 'Q', 'V', 'A', 'M', 'P', 'L', 'I', 'G', 'S', 'I', 'G', 'K', 'L', 'G', 'A', 'E', 'E', 'A', 'V', 'S', 'I', 'V', 'E', 'V', 'D', 'L', 'G', 'L', 'L', 'D', 'V', 'A', 'E', 'G', 'A', 'Y', 'K', 'V', 'R', 'E', 'D', 'M', 'Q', 'K', 'E', 'G', 'W', 'H', 'Y', 'G', 'Y', 'S', 'I', 'T', 'K', 'E', '_']\n",
            "\n",
            "[8] + Codon Frequency (L): Counter({'CTG': 0.3, 'CTT': 0.2, 'CTC': 0.17, 'TTG': 0.17, 'CTA': 0.13, 'TTA': 0.03})\n",
            "\n",
            "[9] + Reading Frames:\n",
            "['M', 'A', 'S', 'K', 'A', 'K', 'I', 'A', 'L', 'I', 'Q', 'M', 'H', 'P', 'K', 'V', 'G', 'N', 'P', 'Q', 'N', 'H', 'L', 'E', 'A', 'A', 'S', 'L', 'S', 'S', 'T', 'A', 'L', 'V', 'A', 'I', 'F', 'S', 'Y', 'P', 'A', 'P', 'R', 'A', 'V', 'S', 'P', 'A', 'D', 'N', 'F', 'R', 'K', 'A', 'E', 'S', 'Y', 'I', 'R', 'N', 'A', 'A', 'S', 'Q', 'G', 'C', 'A', 'L', 'A', 'V', 'L', 'P', 'E', 'Y', 'H', 'L', 'T', 'S', 'W', 'A', 'P', 'D', 'H', 'P', 'D', 'F', 'V', 'L', 'S', 'C', 'E', 'Q', 'S', 'G', 'S', 'Y', 'L', 'G', 'S', 'Y', 'Q', 'A', 'L', 'A', 'K', 'E', 'L', 'R', 'I', 'S', 'I', 'V', 'P', 'G', 'T', 'I', 'V', 'E', 'P', 'E', 'G', 'E', 'G', 'D', 'D', 'L', 'D', 'L', 'I', 'N', 'A', 'A', 'Y', 'F', 'I', 'G', 'P', 'D', 'G', 'T', 'I', 'L', 'G', 'R', 'Y', 'E', 'K', 'K', 'N', 'L', 'W', 'H', 'N', 'E', 'R', 'P', 'H', 'L', 'T', 'K', 'G', 'P', 'Q', 'P', 'H', 'G', 'A', 'F', 'D', 'T', 'P', 'L', 'G', 'R', 'A', 'G', 'L', 'L', 'V', 'C', 'W', 'D', 'L', 'A', 'F', 'P', 'E', 'A', 'F', 'R', 'E', 'L', 'I', 'R', 'D', 'G', 'A', 'R', 'I', 'I', 'V', 'C', 'P', 'A', 'F', 'W', 'M', 'A', 'D', 'E', 'Y', 'K', 'R', 'G', 'G', 'S', 'G', 'E', 'V', 'V', 'N', 'R', 'D', 'S', 'E', 'K', 'V', 'F', 'L', 'E', 'N', 'V', 'L', 'V', 'A', 'R', 'A', 'F', 'E', 'N', 'T', 'A', 'A', 'V', 'V', 'L', 'V', 'N', 'A', 'G', 'G', 'P', 'E', 'G', 'G', 'V', 'E', 'R', 'R', 'W', 'D', 'G', 'S', 'Q', 'L', 'R', 'Y', 'C', 'G', 'V', 'S', 'Q', 'V', 'A', 'M', 'P', 'L', 'I', 'G', 'S', 'I', 'G', 'K', 'L', 'G', 'A', 'E', 'E', 'A', 'V', 'S', 'I', 'V', 'E', 'V', 'D', 'L', 'G', 'L', 'L', 'D', 'V', 'A', 'E', 'G', 'A', 'Y', 'K', 'V', 'R', 'E', 'D', 'M', 'Q', 'K', 'E', 'G', 'W', 'H', 'Y', 'G', 'Y', 'S', 'I', 'T', 'K', 'E', '_']\n",
            "['W', 'R', 'A', 'R', 'P', 'R', 'L', 'P', 'S', 'Y', 'R', 'C', 'I', 'R', 'R', 'S', 'G', 'I', 'P', 'R', 'I', 'T', 'L', 'K', 'R', 'L', 'A', 'Y', 'P', 'R', 'R', 'H', 'W', 'S', 'P', 'S', 'S', 'H', 'T', 'P', 'P', 'L', 'A', 'L', 'S', 'R', 'Q', 'Q', 'T', 'T', 'F', 'A', 'K', 'Q', 'S', 'P', 'T', 'Y', 'A', 'T', 'P', 'P', 'R', 'R', 'V', 'A', 'R', 'S', 'P', 'Y', 'C', 'P', 'S', 'T', 'I', 'S', 'R', 'R', 'G', 'R', 'R', 'I', 'I', 'P', 'T', 'S', 'C', '_', 'A', 'A', 'S', 'S', 'R', 'V', 'P', 'T', 'L', 'G', 'V', 'I', 'R', 'L', '_', 'P', 'R', 'N', '_', 'E', 'F', 'P', 'L', 'F', 'L', 'A', 'P', '_', 'W', 'S', 'R', 'K', 'V', 'R', 'E', 'T', 'T', '_', 'T', '_', 'S', 'T', 'P', 'R', 'T', 'S', 'S', 'D', 'Q', 'T', 'A', 'P', 'S', 'L', 'D', 'A', 'M', 'R', 'K', 'R', 'T', 'Y', 'G', 'T', 'M', 'S', 'G', 'H', 'I', '_', 'P', 'R', 'V', 'L', 'N', 'H', 'M', 'G', 'R', 'L', 'I', 'R', 'R', 'L', 'A', 'G', 'P', 'D', 'C', 'S', 'S', 'V', 'G', 'I', 'W', 'H', 'S', 'P', 'R', 'R', 'S', 'G', 'S', '_', 'F', 'V', 'T', 'V', 'R', 'G', 'S', 'S', 'S', 'V', 'P', 'R', 'S', 'G', 'W', 'R', 'T', 'S', 'T', 'S', 'A', 'V', 'A', 'P', 'A', 'K', 'W', '_', 'T', 'V', 'I', 'R', 'R', 'R', 'C', 'S', '_', 'R', 'T', 'C', 'L', 'W', 'R', 'G', 'R', 'L', 'K', 'T', 'Q', 'R', 'Q', 'W', 'C', 'L', 'S', 'M', 'L', 'A', 'G', 'P', 'R', 'A', 'G', 'L', 'R', 'G', 'G', 'G', 'M', 'G', 'R', 'S', '_', 'G', 'I', 'A', 'V', 'S', 'A', 'R', 'S', 'R', 'C', 'L', 'S', 'S', 'D', 'P', 'S', 'G', 'S', 'W', 'A', 'Q', 'R', 'R', 'Q', '_', 'A', 'L', 'S', 'K', 'L', 'T', 'W', 'A', 'C', 'W', 'T', 'L', 'L', 'R', 'G', 'L', 'T', 'R', '_', 'E', 'R', 'T', 'C', 'R', 'R', 'K', 'A', 'G', 'I', 'T', 'G', 'T', 'Q', 'S', 'P', 'R', 'S']\n",
            "['G', 'E', 'Q', 'G', 'Q', 'D', 'C', 'P', 'H', 'T', 'D', 'A', 'S', 'E', 'G', 'R', 'E', 'S', 'P', 'E', 'S', 'P', '_', 'S', 'G', '_', 'L', 'I', 'L', 'D', 'G', 'I', 'G', 'R', 'H', 'L', 'L', 'I', 'P', 'R', 'P', 'S', 'R', 'C', 'L', 'A', 'S', 'R', 'Q', 'L', 'S', 'Q', 'S', 'R', 'V', 'L', 'H', 'T', 'Q', 'R', 'R', 'L', 'A', 'G', 'L', 'R', 'A', 'R', 'R', 'T', 'A', 'R', 'V', 'P', 'S', 'H', 'V', 'V', 'G', 'A', 'G', 'S', 'S', 'R', 'L', 'R', 'A', 'E', 'L', 'R', 'A', 'V', 'G', 'F', 'L', 'P', 'W', 'E', 'L', 'S', 'G', 'S', 'S', 'Q', 'G', 'T', 'E', 'N', 'F', 'H', 'C', 'S', 'W', 'H', 'H', 'S', 'G', 'A', 'G', 'R', '_', 'G', 'R', 'R', 'P', 'R', 'L', 'D', 'Q', 'R', 'R', 'V', 'L', 'H', 'R', 'T', 'R', 'R', 'H', 'H', 'P', 'W', 'T', 'L', '_', 'E', 'K', 'E', 'P', 'M', 'A', 'Q', '_', 'A', 'A', 'T', 'S', 'D', 'Q', 'G', 'S', 'S', 'T', 'T', 'W', 'G', 'V', '_', 'Y', 'A', 'A', 'W', 'P', 'G', 'R', 'T', 'A', 'R', 'L', 'L', 'G', 'S', 'G', 'I', 'P', 'R', 'G', 'V', 'P', 'G', 'A', 'D', 'S', '_', 'R', 'C', 'E', 'D', 'H', 'R', 'L', 'S', 'R', 'V', 'L', 'D', 'G', 'G', 'R', 'V', 'Q', 'A', 'R', 'W', 'L', 'R', 'R', 'S', 'G', 'E', 'P', '_', 'F', 'G', 'E', 'G', 'V', 'P', 'R', 'E', 'R', 'A', 'C', 'G', 'E', 'G', 'V', '_', 'K', 'H', 'S', 'G', 'S', 'G', 'A', 'C', 'Q', 'C', 'W', 'R', 'A', 'R', 'G', 'R', 'G', '_', 'E', 'E', 'V', 'G', 'W', 'V', 'A', 'V', 'E', 'V', 'L', 'R', 'C', 'Q', 'P', 'G', 'R', 'D', 'A', 'S', 'H', 'R', 'I', 'H', 'R', 'E', 'V', 'G', 'R', 'R', 'G', 'G', 'S', 'E', 'H', 'C', 'R', 'S', '_', 'P', 'G', 'L', 'A', 'G', 'R', 'C', '_', 'G', 'G', 'L', 'Q', 'G', 'E', 'R', 'G', 'H', 'A', 'E', 'G', 'R', 'L', 'A', 'L', 'R', 'V', 'L', 'N', 'H', 'Q', 'G', 'V']\n",
            "['S', 'L', 'L', 'G', 'D', '_', 'V', 'P', 'V', 'M', 'P', 'A', 'F', 'L', 'L', 'H', 'V', 'L', 'S', 'H', 'L', 'V', 'S', 'P', 'L', 'S', 'N', 'V', 'Q', 'Q', 'A', 'Q', 'V', 'N', 'F', 'D', 'N', 'A', 'H', 'C', 'L', 'L', 'C', 'A', 'Q', 'L', 'P', 'D', 'G', 'S', 'D', 'E', 'R', 'H', 'R', 'D', 'L', 'A', 'D', 'T', 'A', 'I', 'P', 'Q', 'L', 'R', 'P', 'I', 'P', 'P', 'P', 'L', 'N', 'P', 'A', 'L', 'G', 'P', 'A', 'S', 'I', 'D', 'K', 'H', 'H', 'C', 'R', 'C', 'V', 'F', 'K', 'R', 'P', 'R', 'H', 'K', 'H', 'V', 'L', '_', 'E', 'H', 'L', 'L', 'R', 'I', 'T', 'V', 'H', 'H', 'F', 'A', 'G', 'A', 'T', 'A', 'L', 'V', 'L', 'V', 'R', 'H', 'P', 'E', 'R', 'G', 'T', 'D', 'D', 'D', 'P', 'R', 'T', 'V', 'T', 'N', 'Q', 'L', 'P', 'E', 'R', 'L', 'G', 'E', 'C', 'Q', 'I', 'P', 'T', 'D', 'E', 'Q', 'S', 'G', 'P', 'A', 'K', 'R', 'R', 'I', 'K', 'R', 'P', 'M', 'W', 'L', 'R', 'T', 'L', 'G', 'Q', 'M', 'W', 'P', 'L', 'I', 'V', 'P', '_', 'V', 'L', 'F', 'L', 'I', 'A', 'S', 'K', 'D', 'G', 'A', 'V', 'W', 'S', 'D', 'E', 'V', 'R', 'G', 'V', 'D', 'Q', 'V', '_', 'V', 'V', 'S', 'L', 'T', 'F', 'R', 'L', 'H', 'Y', 'G', 'A', 'R', 'N', 'N', 'G', 'N', 'S', 'Q', 'F', 'L', 'G', '_', 'S', 'L', 'I', 'T', 'P', 'K', 'V', 'G', 'T', 'R', 'L', 'L', 'A', 'A', 'Q', 'H', 'E', 'V', 'G', 'M', 'I', 'R', 'R', 'P', 'R', 'R', 'E', 'M', 'V', 'L', 'G', 'Q', 'Y', 'G', 'E', 'R', 'A', 'T', 'L', 'R', 'G', 'G', 'V', 'A', 'Y', 'V', 'G', 'L', 'C', 'F', 'A', 'K', 'V', 'V', 'C', 'W', 'R', 'D', 'S', 'A', 'R', 'G', 'G', 'V', '_', 'E', 'D', 'G', 'D', 'Q', 'C', 'R', 'R', 'G', '_', 'A', 'S', 'R', 'F', 'K', 'V', 'I', 'L', 'G', 'I', 'P', 'D', 'L', 'R', 'M', 'H', 'L', 'Y', 'E', 'G', 'N', 'L', 'G', 'L', 'A', 'R', 'H']\n",
            "['H', 'S', 'L', 'V', 'I', 'E', 'Y', 'P', '_', 'C', 'Q', 'P', 'S', 'F', 'C', 'M', 'S', 'S', 'L', 'T', 'L', '_', 'A', 'P', 'S', 'A', 'T', 'S', 'S', 'K', 'P', 'R', 'S', 'T', 'S', 'T', 'M', 'L', 'T', 'A', 'S', 'S', 'A', 'P', 'N', 'F', 'P', 'M', 'D', 'P', 'M', 'R', 'G', 'I', 'A', 'T', 'W', 'L', 'T', 'P', 'Q', 'Y', 'L', 'N', 'C', 'D', 'P', 'S', 'H', 'L', 'L', 'S', 'T', 'P', 'P', 'S', 'G', 'P', 'P', 'A', 'L', 'T', 'S', 'T', 'T', 'A', 'A', 'V', 'F', 'S', 'N', 'A', 'L', 'A', 'T', 'S', 'T', 'F', 'S', 'R', 'N', 'T', 'F', 'S', 'E', 'S', 'R', 'F', 'T', 'T', 'S', 'P', 'E', 'P', 'P', 'R', 'L', 'Y', 'S', 'S', 'A', 'I', 'Q', 'N', 'A', 'G', 'Q', 'T', 'M', 'I', 'L', 'A', 'P', 'S', 'R', 'I', 'S', 'S', 'R', 'N', 'A', 'S', 'G', 'N', 'A', 'R', 'S', 'Q', 'Q', 'T', 'S', 'S', 'P', 'A', 'R', 'P', 'S', 'G', 'V', 'S', 'N', 'A', 'P', 'C', 'G', '_', 'G', 'P', 'L', 'V', 'R', 'C', 'G', 'R', 'S', 'L', 'C', 'H', 'R', 'F', 'F', 'F', 'S', '_', 'R', 'P', 'R', 'M', 'V', 'P', 'S', 'G', 'P', 'M', 'K', 'Y', 'A', 'A', 'L', 'I', 'K', 'S', 'R', 'S', 'S', 'P', 'S', 'P', 'S', 'G', 'S', 'T', 'M', 'V', 'P', 'G', 'T', 'M', 'E', 'I', 'L', 'S', 'S', 'L', 'A', 'R', 'A', '_', '_', 'L', 'P', 'R', '_', 'E', 'P', 'D', 'C', 'S', 'Q', 'L', 'S', 'T', 'K', 'S', 'G', '_', 'S', 'G', 'A', 'H', 'D', 'V', 'R', 'W', 'Y', 'S', 'G', 'S', 'T', 'A', 'S', 'A', 'Q', 'P', 'C', 'E', 'A', 'A', 'L', 'R', 'M', '_', 'D', 'S', 'A', 'L', 'R', 'K', 'L', 'S', 'A', 'G', 'E', 'T', 'A', 'R', 'G', 'A', 'G', 'Y', 'E', 'K', 'M', 'A', 'T', 'N', 'A', 'V', 'E', 'D', 'K', 'L', 'A', 'A', 'S', 'R', '_', 'F', 'W', 'G', 'F', 'P', 'T', 'F', 'G', 'C', 'I', 'C', 'M', 'R', 'A', 'I', 'L', 'A', 'L', 'L', 'A']\n",
            "['T', 'P', 'W', '_', 'L', 'S', 'T', 'R', 'N', 'A', 'S', 'L', 'P', 'S', 'A', 'C', 'P', 'L', 'S', 'P', 'C', 'K', 'P', 'P', 'Q', 'Q', 'R', 'P', 'A', 'S', 'P', 'G', 'Q', 'L', 'R', 'Q', 'C', 'S', 'L', 'P', 'P', 'L', 'R', 'P', 'T', 'S', 'R', 'W', 'I', 'R', '_', 'E', 'A', 'S', 'R', 'P', 'G', '_', 'H', 'R', 'N', 'T', 'S', 'T', 'A', 'T', 'H', 'P', 'T', 'S', 'S', 'Q', 'P', 'R', 'P', 'R', 'A', 'R', 'Q', 'H', '_', 'Q', 'A', 'P', 'L', 'P', 'L', 'C', 'F', 'Q', 'T', 'P', 'S', 'P', 'Q', 'A', 'R', 'S', 'L', 'G', 'T', 'P', 'S', 'P', 'N', 'H', 'G', 'S', 'P', 'L', 'R', 'R', 'S', 'H', 'R', 'A', 'C', 'T', 'R', 'P', 'P', 'S', 'R', 'T', 'R', 'D', 'R', 'R', '_', 'S', 'S', 'H', 'R', 'H', 'E', 'S', 'A', 'P', 'G', 'T', 'P', 'R', 'G', 'M', 'P', 'D', 'P', 'N', 'R', 'R', 'A', 'V', 'R', 'P', 'G', 'Q', 'A', 'A', 'Y', 'Q', 'T', 'P', 'H', 'V', 'V', 'E', 'D', 'P', 'W', 'S', 'D', 'V', 'A', 'A', 'H', 'C', 'A', 'I', 'G', 'S', 'F', 'S', 'H', 'S', 'V', 'Q', 'G', 'W', 'C', 'R', 'L', 'V', 'R', '_', 'S', 'T', 'R', 'R', '_', 'S', 'S', 'L', 'G', 'R', 'L', 'P', 'H', 'L', 'P', 'A', 'P', 'L', 'W', 'C', 'Q', 'E', 'Q', 'W', 'K', 'F', 'S', 'V', 'P', 'W', 'L', 'E', 'P', 'D', 'N', 'S', 'Q', 'G', 'R', 'N', 'P', 'T', 'A', 'R', 'S', 'S', 'A', 'R', 'S', 'R', 'D', 'D', 'P', 'A', 'P', 'T', 'T', '_', 'D', 'G', 'T', 'R', 'A', 'V', 'R', 'R', 'A', 'R', 'N', 'P', 'A', 'R', 'R', 'R', 'C', 'V', 'C', 'R', 'T', 'L', 'L', 'C', 'E', 'S', 'C', 'L', 'L', 'A', 'R', 'Q', 'R', 'E', 'G', 'R', 'G', 'M', 'R', 'R', 'W', 'R', 'P', 'M', 'P', 'S', 'R', 'I', 'S', '_', 'P', 'L', 'Q', 'G', 'D', 'S', 'G', 'D', 'S', 'R', 'P', 'S', 'D', 'A', 'S', 'V', '_', 'G', 'Q', 'S', 'W', 'P', 'C', 'S', 'P']\n",
            "\n",
            "[10] + All proteins in 6 open reading frames:\n",
            "MASKAKIALIQMHPKVGNPQNHLEAASLSSTALVAIFSYPAPRAVSPADNFRKAESYIRNAASQGCALAVLPEYHLTSWAPDHPDFVLSCEQSGSYLGSYQALAKELRISIVPGTIVEPEGEGDDLDLINAAYFIGPDGTILGRYEKKNLWHNERPHLTKGPQPHGAFDTPLGRAGLLVCWDLAFPEAFRELIRDGARIIVCPAFWMADEYKRGGSGEVVNRDSEKVFLENVLVARAFENTAAVVLVNAGGPEGGVERRWDGSQLRYCGVSQVAMPLIGSIGKLGAEEAVSIVEVDLGLLDVAEGAYKVREDMQKEGWHYGYSITKE\n",
            "MHPKVGNPQNHLEAASLSSTALVAIFSYPAPRAVSPADNFRKAESYIRNAASQGCALAVLPEYHLTSWAPDHPDFVLSCEQSGSYLGSYQALAKELRISIVPGTIVEPEGEGDDLDLINAAYFIGPDGTILGRYEKKNLWHNERPHLTKGPQPHGAFDTPLGRAGLLVCWDLAFPEAFRELIRDGARIIVCPAFWMADEYKRGGSGEVVNRDSEKVFLENVLVARAFENTAAVVLVNAGGPEGGVERRWDGSQLRYCGVSQVAMPLIGSIGKLGAEEAVSIVEVDLGLLDVAEGAYKVREDMQKEGWHYGYSITKE\n",
            "MLTASSAPNFPMDPMRGIATWLTPQYLNCDPSHLLSTPPSGPPALTSTTAAVFSNALATSTFSRNTFSESRFTTSPEPPRLYSSAIQNAGQTMILAPSRISSRNASGNARSQQTSSPARPSGVSNAPCG\n",
            "MADEYKRGGSGEVVNRDSEKVFLENVLVARAFENTAAVVLVNAGGPEGGVERRWDGSQLRYCGVSQVAMPLIGSIGKLGAEEAVSIVEVDLGLLDVAEGAYKVREDMQKEGWHYGYSITKE\n",
            "MDPMRGIATWLTPQYLNCDPSHLLSTPPSGPPALTSTTAAVFSNALATSTFSRNTFSESRFTTSPEPPRLYSSAIQNAGQTMILAPSRISSRNASGNARSQQTSSPARPSGVSNAPCG\n",
            "MRGIATWLTPQYLNCDPSHLLSTPPSGPPALTSTTAAVFSNALATSTFSRNTFSESRFTTSPEPPRLYSSAIQNAGQTMILAPSRISSRNASGNARSQQTSSPARPSGVSNAPCG\n",
            "MPAFLLHVLSHLVSPLSNVQQAQVNFDNAHCLLCAQLPDGSDERHRDLADTAIPQLRPIPPPLNPALGPASIDKHHCRCVFKRPRHKHVL\n",
            "MPLIGSIGKLGAEEAVSIVEVDLGLLDVAEGAYKVREDMQKEGWHYGYSITKE\n",
            "MPDPNRRAVRPGQAAYQTPHVVEDPWSDVAAHCAIGSFSHSVQGWCRLVR\n",
            "MIRRPRREMVLGQYGERATLRGGVAYVGLCFAKVVCWRDSARGGV\n",
            "MVPSGPMKYAALIKSRSSPSPSGSTMVPGTMEILSSLARA\n",
            "MVLGQYGERATLRGGVAYVGLCFAKVVCWRDSARGGV\n",
            "MILAPSRISSRNASGNARSQQTSSPARPSGVSNAPCG\n",
            "MKYAALIKSRSSPSPSGSTMVPGTMEILSSLARA\n",
            "MGRLIRRLAGPDCSSVGIWHSPRRSGS\n",
            "MLAGPRAGLRGGGMGRS\n",
            "MQKEGWHYGYSITKE\n",
            "MWLRTLGQMWPLIVP\n",
            "MVPGTMEILSSLARA\n",
            "MATNAVEDKLAASR\n",
            "MRKRTYGTMSGHI\n",
            "MRRWRPMPSRIS\n",
            "MEILSSLARA\n",
            "MWPLIVP\n",
            "MSSLTL\n",
            "MPSRIS\n",
            "MSGHI\n",
            "MGRS\n",
            "MAQ\n",
            "M\n"
          ]
        }
      ]
    },
    {
      "cell_type": "code",
      "source": [
        "from google.colab import files\n",
        "from termcolor import colored\n",
        "\n",
        "# Create the string to be saved to the PDF\n",
        "output_string = f'\\nSequence Length: {colored(DNAStr, \"green\")}\\n'\n",
        "output_string += f'[1] + Sequence Length: {len(DNAStr)}\\n'\n",
        "output_string += f'[2] + Nucleotide Frequency: {count_nuc_frequency(DNAStr)}\\n'\n",
        "output_string += f'[3] + DNA/RNA Transcription: {transcription(DNAStr)}\\n'\n",
        "output_string += f\"[4] + DNA String + Complement + Reverse Compliment:\\n5' {colored(DNAStr, 'green')} 3'\\n\"\n",
        "output_string += f\"   {''.join(['|' for c in range(len(DNAStr))])}\\n\"\n",
        "output_string += f\"3' {colored(reverse_comp(DNAStr)[::-1], 'green')} 5' [Complement]\\n\"\n",
        "output_string += f\"5' {colored(reverse_comp(DNAStr), 'green')} 3' [Rev. Complement]\\n\"\n",
        "output_string += f\"[5] + GC Content: {gc_content(DNAStr)}%\\n\"\n",
        "output_string += f\"[6] + GC Content in Subsection k=5: {gc_content_sub(DNAStr, k=5)}\\n\"\n",
        "output_string += f\"[7] + Aminoacid Sequence from DNA: {translate_seq(DNAStr, 0)}\\n\"\n",
        "output_string += f'[8] + Codon Frequency (L): {codon_usage(DNAStr, \"L\")}\\n'\n",
        "output_string += f\"[9] + Reading Frames:\\n\"\n",
        "for frame in toolkit.gen_reading_frames(DNAStr):\n",
        "    output_string += str(frame) + \"\\n\"\n",
        "output_string += f\"\\n[10] + All proteins in 6 open reading frames:\\n\"\n",
        "for prot in toolkit.all_proteins(DNAStr, 0, 0, True):\n",
        "    output_string += f\"{prot}\\n\"\n",
        "\n",
        "\n",
        "# Create a temporary file\n",
        "with open(\"temp.txt\", \"w\") as f:\n",
        "  f.write(output_string)\n",
        "\n",
        "# Install wkhtmltopdf\n",
        "!apt-get install wkhtmltopdf # or !wget https://github.com/wkhtmltopdf/packaging/releases/download/0.12.6-1/wkhtmltox_0.12.6-1.focal_amd64.deb && !dpkg -i wkhtmltox_0.12.6-1.focal_amd64.deb\n",
        "\n",
        "# Convert to PDF\n",
        "!pip install pdfkit\n",
        "import pdfkit\n",
        "\n",
        "# Configure pdfkit with wkhtmltopdf path (if needed)\n",
        "# config = pdfkit.configuration(wkhtmltopdf='/usr/bin/wkhtmltopdf') # or wherever it's installed\n",
        "# pdfkit.from_file('temp.txt', 'output.pdf', configuration=config)\n",
        "\n",
        "#If wkhtmltopdf is in your system's PATH\n",
        "pdfkit.from_file('temp.txt', 'output.pdf')\n",
        "\n",
        "\n",
        "# Download the PDF\n",
        "files.download('output.pdf')\n"
      ],
      "metadata": {
        "id": "JA_Hom5G_CCg",
        "colab": {
          "base_uri": "https://localhost:8080/",
          "height": 1000
        },
        "outputId": "e1daa951-262f-4f99-d545-0a7195c2b534"
      },
      "execution_count": null,
      "outputs": [
        {
          "output_type": "stream",
          "name": "stdout",
          "text": [
            "Reading package lists... Done\n",
            "Building dependency tree... Done\n",
            "Reading state information... Done\n",
            "The following additional packages will be installed:\n",
            "  avahi-daemon bind9-host bind9-libs geoclue-2.0 glib-networking glib-networking-common\n",
            "  glib-networking-services gsettings-desktop-schemas iio-sensor-proxy libavahi-core7 libavahi-glib1\n",
            "  libdaemon0 libevdev2 libfontenc1 libgudev-1.0-0 libhyphen0 libinput-bin libinput10\n",
            "  libjson-glib-1.0-0 libjson-glib-1.0-common liblmdb0 libmaxminddb0 libmbim-glib4 libmbim-proxy\n",
            "  libmd4c0 libmm-glib0 libmtdev1 libnl-genl-3-200 libnotify4 libnss-mdns libproxy1v5 libqmi-glib5\n",
            "  libqmi-proxy libqt5core5a libqt5dbus5 libqt5gui5 libqt5network5 libqt5positioning5\n",
            "  libqt5printsupport5 libqt5qml5 libqt5qmlmodels5 libqt5quick5 libqt5sensors5 libqt5svg5\n",
            "  libqt5webchannel5 libqt5webkit5 libqt5widgets5 libsoup2.4-1 libsoup2.4-common libwacom-bin\n",
            "  libwacom-common libwacom9 libwoff1 libxcb-icccm4 libxcb-image0 libxcb-keysyms1\n",
            "  libxcb-render-util0 libxcb-util1 libxcb-xinerama0 libxcb-xinput0 libxcb-xkb1 libxfont2\n",
            "  libxkbcommon-x11-0 libxkbfile1 modemmanager qt5-gtk-platformtheme qttranslations5-l10n\n",
            "  session-migration systemd-hwe-hwdb udev usb-modeswitch usb-modeswitch-data wpasupplicant\n",
            "  x11-xkb-utils xfonts-base xfonts-encodings xfonts-utils xnest xserver-common\n",
            "Suggested packages:\n",
            "  avahi-autoipd mmdb-bin gnome-shell | notification-daemon avahi-autoipd | zeroconf\n",
            "  qt5-image-formats-plugins qtwayland5 qt5-qmltooling-plugins comgt wvdial wpagui\n",
            "  libengine-pkcs11-openssl\n",
            "The following NEW packages will be installed:\n",
            "  avahi-daemon bind9-host bind9-libs geoclue-2.0 glib-networking glib-networking-common\n",
            "  glib-networking-services gsettings-desktop-schemas iio-sensor-proxy libavahi-core7 libavahi-glib1\n",
            "  libdaemon0 libevdev2 libfontenc1 libgudev-1.0-0 libhyphen0 libinput-bin libinput10\n",
            "  libjson-glib-1.0-0 libjson-glib-1.0-common liblmdb0 libmaxminddb0 libmbim-glib4 libmbim-proxy\n",
            "  libmd4c0 libmm-glib0 libmtdev1 libnl-genl-3-200 libnotify4 libnss-mdns libproxy1v5 libqmi-glib5\n",
            "  libqmi-proxy libqt5core5a libqt5dbus5 libqt5gui5 libqt5network5 libqt5positioning5\n",
            "  libqt5printsupport5 libqt5qml5 libqt5qmlmodels5 libqt5quick5 libqt5sensors5 libqt5svg5\n",
            "  libqt5webchannel5 libqt5webkit5 libqt5widgets5 libsoup2.4-1 libsoup2.4-common libwacom-bin\n",
            "  libwacom-common libwacom9 libwoff1 libxcb-icccm4 libxcb-image0 libxcb-keysyms1\n",
            "  libxcb-render-util0 libxcb-util1 libxcb-xinerama0 libxcb-xinput0 libxcb-xkb1 libxfont2\n",
            "  libxkbcommon-x11-0 libxkbfile1 modemmanager qt5-gtk-platformtheme qttranslations5-l10n\n",
            "  session-migration systemd-hwe-hwdb udev usb-modeswitch usb-modeswitch-data wkhtmltopdf\n",
            "  wpasupplicant x11-xkb-utils xfonts-base xfonts-encodings xfonts-utils xnest xserver-common\n",
            "0 upgraded, 80 newly installed, 0 to remove and 22 not upgraded.\n",
            "Need to get 44.5 MB of archives.\n",
            "After this operation, 156 MB of additional disk space will be used.\n",
            "Get:1 http://archive.ubuntu.com/ubuntu jammy-updates/main amd64 libavahi-core7 amd64 0.8-5ubuntu5.2 [90.8 kB]\n",
            "Get:2 http://archive.ubuntu.com/ubuntu jammy/main amd64 libdaemon0 amd64 0.14-7.1ubuntu3 [14.1 kB]\n",
            "Get:3 http://archive.ubuntu.com/ubuntu jammy/main amd64 liblmdb0 amd64 0.9.24-1build2 [47.6 kB]\n",
            "Get:4 http://archive.ubuntu.com/ubuntu jammy/main amd64 libmaxminddb0 amd64 1.5.2-1build2 [24.7 kB]\n",
            "Get:5 http://archive.ubuntu.com/ubuntu jammy-updates/main amd64 bind9-libs amd64 1:9.18.30-0ubuntu0.22.04.2 [1,259 kB]\n",
            "Get:6 http://archive.ubuntu.com/ubuntu jammy-updates/main amd64 bind9-host amd64 1:9.18.30-0ubuntu0.22.04.2 [52.6 kB]\n",
            "Get:7 http://archive.ubuntu.com/ubuntu jammy-updates/main amd64 avahi-daemon amd64 0.8-5ubuntu5.2 [69.7 kB]\n",
            "Get:8 http://archive.ubuntu.com/ubuntu jammy-updates/universe amd64 libqt5core5a amd64 5.15.3+dfsg-2ubuntu0.2 [2,006 kB]\n",
            "Get:9 http://archive.ubuntu.com/ubuntu jammy/main amd64 libevdev2 amd64 1.12.1+dfsg-1 [39.5 kB]\n",
            "Get:10 http://archive.ubuntu.com/ubuntu jammy/main amd64 libmtdev1 amd64 1.1.6-1build4 [14.5 kB]\n",
            "Get:11 http://archive.ubuntu.com/ubuntu jammy/main amd64 libgudev-1.0-0 amd64 1:237-2build1 [16.3 kB]\n",
            "Get:12 http://archive.ubuntu.com/ubuntu jammy/main amd64 libwacom-common all 2.2.0-1 [54.3 kB]\n",
            "Get:13 http://archive.ubuntu.com/ubuntu jammy/main amd64 libwacom9 amd64 2.2.0-1 [22.0 kB]\n",
            "Get:14 http://archive.ubuntu.com/ubuntu jammy-updates/main amd64 libinput-bin amd64 1.20.0-1ubuntu0.3 [19.9 kB]\n",
            "Get:15 http://archive.ubuntu.com/ubuntu jammy-updates/main amd64 libinput10 amd64 1.20.0-1ubuntu0.3 [131 kB]\n",
            "Get:16 http://archive.ubuntu.com/ubuntu jammy/universe amd64 libmd4c0 amd64 0.4.8-1 [42.0 kB]\n",
            "Get:17 http://archive.ubuntu.com/ubuntu jammy-updates/universe amd64 libqt5dbus5 amd64 5.15.3+dfsg-2ubuntu0.2 [222 kB]\n",
            "Get:18 http://archive.ubuntu.com/ubuntu jammy-updates/universe amd64 libqt5network5 amd64 5.15.3+dfsg-2ubuntu0.2 [731 kB]\n",
            "Get:19 http://archive.ubuntu.com/ubuntu jammy/main amd64 libxcb-icccm4 amd64 0.4.1-1.1build2 [11.5 kB]\n",
            "Get:20 http://archive.ubuntu.com/ubuntu jammy/main amd64 libxcb-util1 amd64 0.4.0-1build2 [11.4 kB]\n",
            "Get:21 http://archive.ubuntu.com/ubuntu jammy/main amd64 libxcb-image0 amd64 0.4.0-2 [11.5 kB]\n",
            "Get:22 http://archive.ubuntu.com/ubuntu jammy/main amd64 libxcb-keysyms1 amd64 0.4.0-1build3 [8,746 B]\n",
            "Get:23 http://archive.ubuntu.com/ubuntu jammy/main amd64 libxcb-render-util0 amd64 0.3.9-1build3 [10.3 kB]\n",
            "Get:24 http://archive.ubuntu.com/ubuntu jammy/main amd64 libxcb-xinerama0 amd64 1.14-3ubuntu3 [5,414 B]\n",
            "Get:25 http://archive.ubuntu.com/ubuntu jammy/main amd64 libxcb-xinput0 amd64 1.14-3ubuntu3 [34.3 kB]\n",
            "Get:26 http://archive.ubuntu.com/ubuntu jammy/main amd64 libxcb-xkb1 amd64 1.14-3ubuntu3 [32.8 kB]\n",
            "Get:27 http://archive.ubuntu.com/ubuntu jammy/main amd64 libxkbcommon-x11-0 amd64 1.4.0-1 [14.4 kB]\n",
            "Get:28 http://archive.ubuntu.com/ubuntu jammy-updates/universe amd64 libqt5gui5 amd64 5.15.3+dfsg-2ubuntu0.2 [3,722 kB]\n",
            "Get:29 http://archive.ubuntu.com/ubuntu jammy-updates/universe amd64 libqt5widgets5 amd64 5.15.3+dfsg-2ubuntu0.2 [2,561 kB]\n",
            "Get:30 http://archive.ubuntu.com/ubuntu jammy/universe amd64 libqt5svg5 amd64 5.15.3-1 [149 kB]\n",
            "Get:31 http://archive.ubuntu.com/ubuntu jammy/main amd64 libhyphen0 amd64 2.8.8-7build2 [28.2 kB]\n",
            "Get:32 http://archive.ubuntu.com/ubuntu jammy/universe amd64 libqt5positioning5 amd64 5.15.3+dfsg-3 [223 kB]\n",
            "Get:33 http://archive.ubuntu.com/ubuntu jammy-updates/universe amd64 libqt5printsupport5 amd64 5.15.3+dfsg-2ubuntu0.2 [214 kB]\n",
            "Get:34 http://archive.ubuntu.com/ubuntu jammy/universe amd64 libqt5qml5 amd64 5.15.3+dfsg-1 [1,472 kB]\n",
            "Get:35 http://archive.ubuntu.com/ubuntu jammy/universe amd64 libqt5qmlmodels5 amd64 5.15.3+dfsg-1 [205 kB]\n",
            "Get:36 http://archive.ubuntu.com/ubuntu jammy/universe amd64 libqt5quick5 amd64 5.15.3+dfsg-1 [1,748 kB]\n",
            "Get:37 http://archive.ubuntu.com/ubuntu jammy/universe amd64 libqt5sensors5 amd64 5.15.3-1 [123 kB]\n",
            "Get:38 http://archive.ubuntu.com/ubuntu jammy/universe amd64 libqt5webchannel5 amd64 5.15.3-1 [62.9 kB]\n",
            "Get:39 http://archive.ubuntu.com/ubuntu jammy/main amd64 libwoff1 amd64 1.0.2-1build4 [45.2 kB]\n",
            "Get:40 http://archive.ubuntu.com/ubuntu jammy/universe amd64 libqt5webkit5 amd64 5.212.0~alpha4-15ubuntu1 [12.8 MB]\n",
            "Get:41 http://archive.ubuntu.com/ubuntu jammy-updates/main amd64 udev amd64 249.11-0ubuntu3.12 [1,557 kB]\n",
            "Get:42 http://archive.ubuntu.com/ubuntu jammy-updates/main amd64 libavahi-glib1 amd64 0.8-5ubuntu5.2 [8,296 B]\n",
            "Get:43 http://archive.ubuntu.com/ubuntu jammy/main amd64 libjson-glib-1.0-common all 1.6.6-1build1 [4,432 B]\n",
            "Get:44 http://archive.ubuntu.com/ubuntu jammy/main amd64 libjson-glib-1.0-0 amd64 1.6.6-1build1 [69.9 kB]\n",
            "Get:45 http://archive.ubuntu.com/ubuntu jammy-updates/main amd64 libmm-glib0 amd64 1.20.0-1~ubuntu22.04.4 [262 kB]\n",
            "Get:46 http://archive.ubuntu.com/ubuntu jammy-updates/main amd64 libnotify4 amd64 0.7.9-3ubuntu5.22.04.1 [20.3 kB]\n",
            "Get:47 http://archive.ubuntu.com/ubuntu jammy/main amd64 libproxy1v5 amd64 0.4.17-2 [51.9 kB]\n",
            "Get:48 http://archive.ubuntu.com/ubuntu jammy/main amd64 glib-networking-common all 2.72.0-1 [3,718 B]\n",
            "Get:49 http://archive.ubuntu.com/ubuntu jammy/main amd64 glib-networking-services amd64 2.72.0-1 [9,982 B]\n",
            "Get:50 http://archive.ubuntu.com/ubuntu jammy/main amd64 session-migration amd64 0.3.6 [9,774 B]\n",
            "Get:51 http://archive.ubuntu.com/ubuntu jammy/main amd64 gsettings-desktop-schemas all 42.0-1ubuntu1 [31.1 kB]\n",
            "Get:52 http://archive.ubuntu.com/ubuntu jammy/main amd64 glib-networking amd64 2.72.0-1 [69.8 kB]\n",
            "Get:53 http://archive.ubuntu.com/ubuntu jammy-updates/main amd64 libsoup2.4-common all 2.74.2-3ubuntu0.1 [4,070 B]\n",
            "Get:54 http://archive.ubuntu.com/ubuntu jammy-updates/main amd64 libsoup2.4-1 amd64 2.74.2-3ubuntu0.1 [288 kB]\n",
            "Get:55 http://archive.ubuntu.com/ubuntu jammy/main amd64 geoclue-2.0 amd64 2.5.7-3ubuntu3 [111 kB]\n",
            "Get:56 http://archive.ubuntu.com/ubuntu jammy/main amd64 iio-sensor-proxy amd64 3.3-0ubuntu6 [34.4 kB]\n",
            "Get:57 http://archive.ubuntu.com/ubuntu jammy/main amd64 libfontenc1 amd64 1:1.1.4-1build3 [14.7 kB]\n",
            "Get:58 http://archive.ubuntu.com/ubuntu jammy-updates/main amd64 libmbim-glib4 amd64 1.28.0-1~ubuntu20.04.2 [192 kB]\n",
            "Get:59 http://archive.ubuntu.com/ubuntu jammy-updates/main amd64 libmbim-proxy amd64 1.28.0-1~ubuntu20.04.2 [6,160 B]\n",
            "Get:60 http://archive.ubuntu.com/ubuntu jammy/main amd64 libnl-genl-3-200 amd64 3.5.0-0.1 [12.4 kB]\n",
            "Get:61 http://archive.ubuntu.com/ubuntu jammy/main amd64 libnss-mdns amd64 0.15.1-1ubuntu1 [27.0 kB]\n",
            "Get:62 http://archive.ubuntu.com/ubuntu jammy-updates/main amd64 libqmi-glib5 amd64 1.32.0-1ubuntu0.22.04.1 [772 kB]\n",
            "Get:63 http://archive.ubuntu.com/ubuntu jammy-updates/main amd64 libqmi-proxy amd64 1.32.0-1ubuntu0.22.04.1 [6,072 B]\n",
            "Get:64 http://archive.ubuntu.com/ubuntu jammy/main amd64 libwacom-bin amd64 2.2.0-1 [13.6 kB]\n",
            "Get:65 http://archive.ubuntu.com/ubuntu jammy/main amd64 libxfont2 amd64 1:2.0.5-1build1 [94.5 kB]\n",
            "Get:66 http://archive.ubuntu.com/ubuntu jammy/main amd64 libxkbfile1 amd64 1:1.1.0-1build3 [71.8 kB]\n",
            "Get:67 http://archive.ubuntu.com/ubuntu jammy-updates/main amd64 modemmanager amd64 1.20.0-1~ubuntu22.04.4 [1,094 kB]\n",
            "Get:68 http://archive.ubuntu.com/ubuntu jammy-updates/universe amd64 qt5-gtk-platformtheme amd64 5.15.3+dfsg-2ubuntu0.2 [130 kB]\n",
            "Get:69 http://archive.ubuntu.com/ubuntu jammy/universe amd64 qttranslations5-l10n all 5.15.3-1 [1,983 kB]\n",
            "Get:70 http://archive.ubuntu.com/ubuntu jammy-updates/main amd64 systemd-hwe-hwdb all 249.11.5 [3,228 B]\n",
            "Get:71 http://archive.ubuntu.com/ubuntu jammy-updates/main amd64 wpasupplicant amd64 2:2.10-6ubuntu2.1 [1,482 kB]\n",
            "Get:72 http://archive.ubuntu.com/ubuntu jammy/main amd64 x11-xkb-utils amd64 7.7+5build4 [172 kB]\n",
            "Get:73 http://archive.ubuntu.com/ubuntu jammy/main amd64 xfonts-encodings all 1:1.0.5-0ubuntu2 [578 kB]\n",
            "Get:74 http://archive.ubuntu.com/ubuntu jammy/main amd64 xfonts-utils amd64 1:7.7+6build2 [94.6 kB]\n",
            "Get:75 http://archive.ubuntu.com/ubuntu jammy/main amd64 xfonts-base all 1:1.0.5 [5,896 kB]\n",
            "Get:76 http://archive.ubuntu.com/ubuntu jammy-updates/main amd64 xserver-common all 2:21.1.4-2ubuntu1.7~22.04.12 [28.7 kB]\n",
            "Get:77 http://archive.ubuntu.com/ubuntu jammy-updates/universe amd64 xnest amd64 2:21.1.4-2ubuntu1.7~22.04.12 [712 kB]\n",
            "Get:78 http://archive.ubuntu.com/ubuntu jammy/main amd64 usb-modeswitch-data all 20191128-4 [33.2 kB]\n",
            "Get:79 http://archive.ubuntu.com/ubuntu jammy/main amd64 usb-modeswitch amd64 2.6.1-3ubuntu2 [46.0 kB]\n",
            "Get:80 http://archive.ubuntu.com/ubuntu jammy/universe amd64 wkhtmltopdf amd64 0.12.6-2 [173 kB]\n",
            "Fetched 44.5 MB in 2s (19.2 MB/s)\n",
            "Extracting templates from packages: 100%\n",
            "Selecting previously unselected package libavahi-core7:amd64.\n",
            "(Reading database ... 124935 files and directories currently installed.)\n",
            "Preparing to unpack .../00-libavahi-core7_0.8-5ubuntu5.2_amd64.deb ...\n",
            "Unpacking libavahi-core7:amd64 (0.8-5ubuntu5.2) ...\n",
            "Selecting previously unselected package libdaemon0:amd64.\n",
            "Preparing to unpack .../01-libdaemon0_0.14-7.1ubuntu3_amd64.deb ...\n",
            "Unpacking libdaemon0:amd64 (0.14-7.1ubuntu3) ...\n",
            "Selecting previously unselected package liblmdb0:amd64.\n",
            "Preparing to unpack .../02-liblmdb0_0.9.24-1build2_amd64.deb ...\n",
            "Unpacking liblmdb0:amd64 (0.9.24-1build2) ...\n",
            "Selecting previously unselected package libmaxminddb0:amd64.\n",
            "Preparing to unpack .../03-libmaxminddb0_1.5.2-1build2_amd64.deb ...\n",
            "Unpacking libmaxminddb0:amd64 (1.5.2-1build2) ...\n",
            "Selecting previously unselected package bind9-libs:amd64.\n",
            "Preparing to unpack .../04-bind9-libs_1%3a9.18.30-0ubuntu0.22.04.2_amd64.deb ...\n",
            "Unpacking bind9-libs:amd64 (1:9.18.30-0ubuntu0.22.04.2) ...\n",
            "Selecting previously unselected package bind9-host.\n",
            "Preparing to unpack .../05-bind9-host_1%3a9.18.30-0ubuntu0.22.04.2_amd64.deb ...\n",
            "Unpacking bind9-host (1:9.18.30-0ubuntu0.22.04.2) ...\n",
            "Selecting previously unselected package avahi-daemon.\n",
            "Preparing to unpack .../06-avahi-daemon_0.8-5ubuntu5.2_amd64.deb ...\n",
            "Unpacking avahi-daemon (0.8-5ubuntu5.2) ...\n",
            "Selecting previously unselected package libqt5core5a:amd64.\n",
            "Preparing to unpack .../07-libqt5core5a_5.15.3+dfsg-2ubuntu0.2_amd64.deb ...\n",
            "Unpacking libqt5core5a:amd64 (5.15.3+dfsg-2ubuntu0.2) ...\n",
            "Selecting previously unselected package libevdev2:amd64.\n",
            "Preparing to unpack .../08-libevdev2_1.12.1+dfsg-1_amd64.deb ...\n",
            "Unpacking libevdev2:amd64 (1.12.1+dfsg-1) ...\n",
            "Selecting previously unselected package libmtdev1:amd64.\n",
            "Preparing to unpack .../09-libmtdev1_1.1.6-1build4_amd64.deb ...\n",
            "Unpacking libmtdev1:amd64 (1.1.6-1build4) ...\n",
            "Selecting previously unselected package libgudev-1.0-0:amd64.\n",
            "Preparing to unpack .../10-libgudev-1.0-0_1%3a237-2build1_amd64.deb ...\n",
            "Unpacking libgudev-1.0-0:amd64 (1:237-2build1) ...\n",
            "Selecting previously unselected package libwacom-common.\n",
            "Preparing to unpack .../11-libwacom-common_2.2.0-1_all.deb ...\n",
            "Unpacking libwacom-common (2.2.0-1) ...\n",
            "Selecting previously unselected package libwacom9:amd64.\n",
            "Preparing to unpack .../12-libwacom9_2.2.0-1_amd64.deb ...\n",
            "Unpacking libwacom9:amd64 (2.2.0-1) ...\n",
            "Selecting previously unselected package libinput-bin.\n",
            "Preparing to unpack .../13-libinput-bin_1.20.0-1ubuntu0.3_amd64.deb ...\n",
            "Unpacking libinput-bin (1.20.0-1ubuntu0.3) ...\n",
            "Selecting previously unselected package libinput10:amd64.\n",
            "Preparing to unpack .../14-libinput10_1.20.0-1ubuntu0.3_amd64.deb ...\n",
            "Unpacking libinput10:amd64 (1.20.0-1ubuntu0.3) ...\n",
            "Selecting previously unselected package libmd4c0:amd64.\n",
            "Preparing to unpack .../15-libmd4c0_0.4.8-1_amd64.deb ...\n",
            "Unpacking libmd4c0:amd64 (0.4.8-1) ...\n",
            "Selecting previously unselected package libqt5dbus5:amd64.\n",
            "Preparing to unpack .../16-libqt5dbus5_5.15.3+dfsg-2ubuntu0.2_amd64.deb ...\n",
            "Unpacking libqt5dbus5:amd64 (5.15.3+dfsg-2ubuntu0.2) ...\n",
            "Selecting previously unselected package libqt5network5:amd64.\n",
            "Preparing to unpack .../17-libqt5network5_5.15.3+dfsg-2ubuntu0.2_amd64.deb ...\n",
            "Unpacking libqt5network5:amd64 (5.15.3+dfsg-2ubuntu0.2) ...\n",
            "Selecting previously unselected package libxcb-icccm4:amd64.\n",
            "Preparing to unpack .../18-libxcb-icccm4_0.4.1-1.1build2_amd64.deb ...\n",
            "Unpacking libxcb-icccm4:amd64 (0.4.1-1.1build2) ...\n",
            "Selecting previously unselected package libxcb-util1:amd64.\n",
            "Preparing to unpack .../19-libxcb-util1_0.4.0-1build2_amd64.deb ...\n",
            "Unpacking libxcb-util1:amd64 (0.4.0-1build2) ...\n",
            "Selecting previously unselected package libxcb-image0:amd64.\n",
            "Preparing to unpack .../20-libxcb-image0_0.4.0-2_amd64.deb ...\n",
            "Unpacking libxcb-image0:amd64 (0.4.0-2) ...\n",
            "Selecting previously unselected package libxcb-keysyms1:amd64.\n",
            "Preparing to unpack .../21-libxcb-keysyms1_0.4.0-1build3_amd64.deb ...\n",
            "Unpacking libxcb-keysyms1:amd64 (0.4.0-1build3) ...\n",
            "Selecting previously unselected package libxcb-render-util0:amd64.\n",
            "Preparing to unpack .../22-libxcb-render-util0_0.3.9-1build3_amd64.deb ...\n",
            "Unpacking libxcb-render-util0:amd64 (0.3.9-1build3) ...\n",
            "Selecting previously unselected package libxcb-xinerama0:amd64.\n",
            "Preparing to unpack .../23-libxcb-xinerama0_1.14-3ubuntu3_amd64.deb ...\n",
            "Unpacking libxcb-xinerama0:amd64 (1.14-3ubuntu3) ...\n",
            "Selecting previously unselected package libxcb-xinput0:amd64.\n",
            "Preparing to unpack .../24-libxcb-xinput0_1.14-3ubuntu3_amd64.deb ...\n",
            "Unpacking libxcb-xinput0:amd64 (1.14-3ubuntu3) ...\n",
            "Selecting previously unselected package libxcb-xkb1:amd64.\n",
            "Preparing to unpack .../25-libxcb-xkb1_1.14-3ubuntu3_amd64.deb ...\n",
            "Unpacking libxcb-xkb1:amd64 (1.14-3ubuntu3) ...\n",
            "Selecting previously unselected package libxkbcommon-x11-0:amd64.\n",
            "Preparing to unpack .../26-libxkbcommon-x11-0_1.4.0-1_amd64.deb ...\n",
            "Unpacking libxkbcommon-x11-0:amd64 (1.4.0-1) ...\n",
            "Selecting previously unselected package libqt5gui5:amd64.\n",
            "Preparing to unpack .../27-libqt5gui5_5.15.3+dfsg-2ubuntu0.2_amd64.deb ...\n",
            "Unpacking libqt5gui5:amd64 (5.15.3+dfsg-2ubuntu0.2) ...\n",
            "Selecting previously unselected package libqt5widgets5:amd64.\n",
            "Preparing to unpack .../28-libqt5widgets5_5.15.3+dfsg-2ubuntu0.2_amd64.deb ...\n",
            "Unpacking libqt5widgets5:amd64 (5.15.3+dfsg-2ubuntu0.2) ...\n",
            "Selecting previously unselected package libqt5svg5:amd64.\n",
            "Preparing to unpack .../29-libqt5svg5_5.15.3-1_amd64.deb ...\n",
            "Unpacking libqt5svg5:amd64 (5.15.3-1) ...\n",
            "Selecting previously unselected package libhyphen0:amd64.\n",
            "Preparing to unpack .../30-libhyphen0_2.8.8-7build2_amd64.deb ...\n",
            "Unpacking libhyphen0:amd64 (2.8.8-7build2) ...\n",
            "Selecting previously unselected package libqt5positioning5:amd64.\n",
            "Preparing to unpack .../31-libqt5positioning5_5.15.3+dfsg-3_amd64.deb ...\n",
            "Unpacking libqt5positioning5:amd64 (5.15.3+dfsg-3) ...\n",
            "Selecting previously unselected package libqt5printsupport5:amd64.\n",
            "Preparing to unpack .../32-libqt5printsupport5_5.15.3+dfsg-2ubuntu0.2_amd64.deb ...\n",
            "Unpacking libqt5printsupport5:amd64 (5.15.3+dfsg-2ubuntu0.2) ...\n",
            "Selecting previously unselected package libqt5qml5:amd64.\n",
            "Preparing to unpack .../33-libqt5qml5_5.15.3+dfsg-1_amd64.deb ...\n",
            "Unpacking libqt5qml5:amd64 (5.15.3+dfsg-1) ...\n",
            "Selecting previously unselected package libqt5qmlmodels5:amd64.\n",
            "Preparing to unpack .../34-libqt5qmlmodels5_5.15.3+dfsg-1_amd64.deb ...\n",
            "Unpacking libqt5qmlmodels5:amd64 (5.15.3+dfsg-1) ...\n",
            "Selecting previously unselected package libqt5quick5:amd64.\n",
            "Preparing to unpack .../35-libqt5quick5_5.15.3+dfsg-1_amd64.deb ...\n",
            "Unpacking libqt5quick5:amd64 (5.15.3+dfsg-1) ...\n",
            "Selecting previously unselected package libqt5sensors5:amd64.\n",
            "Preparing to unpack .../36-libqt5sensors5_5.15.3-1_amd64.deb ...\n",
            "Unpacking libqt5sensors5:amd64 (5.15.3-1) ...\n",
            "Selecting previously unselected package libqt5webchannel5:amd64.\n",
            "Preparing to unpack .../37-libqt5webchannel5_5.15.3-1_amd64.deb ...\n",
            "Unpacking libqt5webchannel5:amd64 (5.15.3-1) ...\n",
            "Selecting previously unselected package libwoff1:amd64.\n",
            "Preparing to unpack .../38-libwoff1_1.0.2-1build4_amd64.deb ...\n",
            "Unpacking libwoff1:amd64 (1.0.2-1build4) ...\n",
            "Selecting previously unselected package libqt5webkit5:amd64.\n",
            "Preparing to unpack .../39-libqt5webkit5_5.212.0~alpha4-15ubuntu1_amd64.deb ...\n",
            "Unpacking libqt5webkit5:amd64 (5.212.0~alpha4-15ubuntu1) ...\n",
            "Selecting previously unselected package udev.\n",
            "Preparing to unpack .../40-udev_249.11-0ubuntu3.12_amd64.deb ...\n",
            "Unpacking udev (249.11-0ubuntu3.12) ...\n",
            "Selecting previously unselected package libavahi-glib1:amd64.\n",
            "Preparing to unpack .../41-libavahi-glib1_0.8-5ubuntu5.2_amd64.deb ...\n",
            "Unpacking libavahi-glib1:amd64 (0.8-5ubuntu5.2) ...\n",
            "Selecting previously unselected package libjson-glib-1.0-common.\n",
            "Preparing to unpack .../42-libjson-glib-1.0-common_1.6.6-1build1_all.deb ...\n",
            "Unpacking libjson-glib-1.0-common (1.6.6-1build1) ...\n",
            "Selecting previously unselected package libjson-glib-1.0-0:amd64.\n",
            "Preparing to unpack .../43-libjson-glib-1.0-0_1.6.6-1build1_amd64.deb ...\n",
            "Unpacking libjson-glib-1.0-0:amd64 (1.6.6-1build1) ...\n",
            "Selecting previously unselected package libmm-glib0:amd64.\n",
            "Preparing to unpack .../44-libmm-glib0_1.20.0-1~ubuntu22.04.4_amd64.deb ...\n",
            "Unpacking libmm-glib0:amd64 (1.20.0-1~ubuntu22.04.4) ...\n",
            "Selecting previously unselected package libnotify4:amd64.\n",
            "Preparing to unpack .../45-libnotify4_0.7.9-3ubuntu5.22.04.1_amd64.deb ...\n",
            "Unpacking libnotify4:amd64 (0.7.9-3ubuntu5.22.04.1) ...\n",
            "Selecting previously unselected package libproxy1v5:amd64.\n",
            "Preparing to unpack .../46-libproxy1v5_0.4.17-2_amd64.deb ...\n",
            "Unpacking libproxy1v5:amd64 (0.4.17-2) ...\n",
            "Selecting previously unselected package glib-networking-common.\n",
            "Preparing to unpack .../47-glib-networking-common_2.72.0-1_all.deb ...\n",
            "Unpacking glib-networking-common (2.72.0-1) ...\n",
            "Selecting previously unselected package glib-networking-services.\n",
            "Preparing to unpack .../48-glib-networking-services_2.72.0-1_amd64.deb ...\n",
            "Unpacking glib-networking-services (2.72.0-1) ...\n",
            "Selecting previously unselected package session-migration.\n",
            "Preparing to unpack .../49-session-migration_0.3.6_amd64.deb ...\n",
            "Unpacking session-migration (0.3.6) ...\n",
            "Selecting previously unselected package gsettings-desktop-schemas.\n",
            "Preparing to unpack .../50-gsettings-desktop-schemas_42.0-1ubuntu1_all.deb ...\n",
            "Unpacking gsettings-desktop-schemas (42.0-1ubuntu1) ...\n",
            "Selecting previously unselected package glib-networking:amd64.\n",
            "Preparing to unpack .../51-glib-networking_2.72.0-1_amd64.deb ...\n",
            "Unpacking glib-networking:amd64 (2.72.0-1) ...\n",
            "Selecting previously unselected package libsoup2.4-common.\n",
            "Preparing to unpack .../52-libsoup2.4-common_2.74.2-3ubuntu0.1_all.deb ...\n",
            "Unpacking libsoup2.4-common (2.74.2-3ubuntu0.1) ...\n",
            "Selecting previously unselected package libsoup2.4-1:amd64.\n",
            "Preparing to unpack .../53-libsoup2.4-1_2.74.2-3ubuntu0.1_amd64.deb ...\n",
            "Unpacking libsoup2.4-1:amd64 (2.74.2-3ubuntu0.1) ...\n",
            "Selecting previously unselected package geoclue-2.0.\n",
            "Preparing to unpack .../54-geoclue-2.0_2.5.7-3ubuntu3_amd64.deb ...\n",
            "Unpacking geoclue-2.0 (2.5.7-3ubuntu3) ...\n",
            "Selecting previously unselected package iio-sensor-proxy.\n",
            "Preparing to unpack .../55-iio-sensor-proxy_3.3-0ubuntu6_amd64.deb ...\n",
            "Unpacking iio-sensor-proxy (3.3-0ubuntu6) ...\n",
            "Selecting previously unselected package libfontenc1:amd64.\n",
            "Preparing to unpack .../56-libfontenc1_1%3a1.1.4-1build3_amd64.deb ...\n",
            "Unpacking libfontenc1:amd64 (1:1.1.4-1build3) ...\n",
            "Selecting previously unselected package libmbim-glib4:amd64.\n",
            "Preparing to unpack .../57-libmbim-glib4_1.28.0-1~ubuntu20.04.2_amd64.deb ...\n",
            "Unpacking libmbim-glib4:amd64 (1.28.0-1~ubuntu20.04.2) ...\n",
            "Selecting previously unselected package libmbim-proxy.\n",
            "Preparing to unpack .../58-libmbim-proxy_1.28.0-1~ubuntu20.04.2_amd64.deb ...\n",
            "Unpacking libmbim-proxy (1.28.0-1~ubuntu20.04.2) ...\n",
            "Selecting previously unselected package libnl-genl-3-200:amd64.\n",
            "Preparing to unpack .../59-libnl-genl-3-200_3.5.0-0.1_amd64.deb ...\n",
            "Unpacking libnl-genl-3-200:amd64 (3.5.0-0.1) ...\n",
            "Selecting previously unselected package libnss-mdns:amd64.\n",
            "Preparing to unpack .../60-libnss-mdns_0.15.1-1ubuntu1_amd64.deb ...\n",
            "Unpacking libnss-mdns:amd64 (0.15.1-1ubuntu1) ...\n",
            "Selecting previously unselected package libqmi-glib5:amd64.\n",
            "Preparing to unpack .../61-libqmi-glib5_1.32.0-1ubuntu0.22.04.1_amd64.deb ...\n",
            "Unpacking libqmi-glib5:amd64 (1.32.0-1ubuntu0.22.04.1) ...\n",
            "Selecting previously unselected package libqmi-proxy.\n",
            "Preparing to unpack .../62-libqmi-proxy_1.32.0-1ubuntu0.22.04.1_amd64.deb ...\n",
            "Unpacking libqmi-proxy (1.32.0-1ubuntu0.22.04.1) ...\n",
            "Selecting previously unselected package libwacom-bin.\n",
            "Preparing to unpack .../63-libwacom-bin_2.2.0-1_amd64.deb ...\n",
            "Unpacking libwacom-bin (2.2.0-1) ...\n",
            "Selecting previously unselected package libxfont2:amd64.\n",
            "Preparing to unpack .../64-libxfont2_1%3a2.0.5-1build1_amd64.deb ...\n",
            "Unpacking libxfont2:amd64 (1:2.0.5-1build1) ...\n",
            "Selecting previously unselected package libxkbfile1:amd64.\n",
            "Preparing to unpack .../65-libxkbfile1_1%3a1.1.0-1build3_amd64.deb ...\n",
            "Unpacking libxkbfile1:amd64 (1:1.1.0-1build3) ...\n",
            "Selecting previously unselected package modemmanager.\n",
            "Preparing to unpack .../66-modemmanager_1.20.0-1~ubuntu22.04.4_amd64.deb ...\n",
            "Unpacking modemmanager (1.20.0-1~ubuntu22.04.4) ...\n",
            "Selecting previously unselected package qt5-gtk-platformtheme:amd64.\n",
            "Preparing to unpack .../67-qt5-gtk-platformtheme_5.15.3+dfsg-2ubuntu0.2_amd64.deb ...\n",
            "Unpacking qt5-gtk-platformtheme:amd64 (5.15.3+dfsg-2ubuntu0.2) ...\n",
            "Selecting previously unselected package qttranslations5-l10n.\n",
            "Preparing to unpack .../68-qttranslations5-l10n_5.15.3-1_all.deb ...\n",
            "Unpacking qttranslations5-l10n (5.15.3-1) ...\n",
            "Selecting previously unselected package systemd-hwe-hwdb.\n",
            "Preparing to unpack .../69-systemd-hwe-hwdb_249.11.5_all.deb ...\n",
            "Unpacking systemd-hwe-hwdb (249.11.5) ...\n",
            "Selecting previously unselected package wpasupplicant.\n",
            "Preparing to unpack .../70-wpasupplicant_2%3a2.10-6ubuntu2.1_amd64.deb ...\n",
            "Unpacking wpasupplicant (2:2.10-6ubuntu2.1) ...\n",
            "Selecting previously unselected package x11-xkb-utils.\n",
            "Preparing to unpack .../71-x11-xkb-utils_7.7+5build4_amd64.deb ...\n",
            "Unpacking x11-xkb-utils (7.7+5build4) ...\n",
            "Selecting previously unselected package xfonts-encodings.\n",
            "Preparing to unpack .../72-xfonts-encodings_1%3a1.0.5-0ubuntu2_all.deb ...\n",
            "Unpacking xfonts-encodings (1:1.0.5-0ubuntu2) ...\n",
            "Selecting previously unselected package xfonts-utils.\n",
            "Preparing to unpack .../73-xfonts-utils_1%3a7.7+6build2_amd64.deb ...\n",
            "Unpacking xfonts-utils (1:7.7+6build2) ...\n",
            "Selecting previously unselected package xfonts-base.\n",
            "Preparing to unpack .../74-xfonts-base_1%3a1.0.5_all.deb ...\n",
            "Unpacking xfonts-base (1:1.0.5) ...\n",
            "Selecting previously unselected package xserver-common.\n",
            "Preparing to unpack .../75-xserver-common_2%3a21.1.4-2ubuntu1.7~22.04.12_all.deb ...\n",
            "Unpacking xserver-common (2:21.1.4-2ubuntu1.7~22.04.12) ...\n",
            "Selecting previously unselected package xnest.\n",
            "Preparing to unpack .../76-xnest_2%3a21.1.4-2ubuntu1.7~22.04.12_amd64.deb ...\n",
            "Unpacking xnest (2:21.1.4-2ubuntu1.7~22.04.12) ...\n",
            "Selecting previously unselected package usb-modeswitch-data.\n",
            "Preparing to unpack .../77-usb-modeswitch-data_20191128-4_all.deb ...\n",
            "Unpacking usb-modeswitch-data (20191128-4) ...\n",
            "Selecting previously unselected package usb-modeswitch.\n",
            "Preparing to unpack .../78-usb-modeswitch_2.6.1-3ubuntu2_amd64.deb ...\n",
            "Unpacking usb-modeswitch (2.6.1-3ubuntu2) ...\n",
            "Selecting previously unselected package wkhtmltopdf.\n",
            "Preparing to unpack .../79-wkhtmltopdf_0.12.6-2_amd64.deb ...\n",
            "Unpacking wkhtmltopdf (0.12.6-2) ...\n",
            "Setting up liblmdb0:amd64 (0.9.24-1build2) ...\n",
            "Setting up session-migration (0.3.6) ...\n",
            "Created symlink /etc/systemd/user/graphical-session-pre.target.wants/session-migration.service → /usr/lib/systemd/user/session-migration.service.\n",
            "Setting up libproxy1v5:amd64 (0.4.17-2) ...\n",
            "Setting up libxcb-xinput0:amd64 (1.14-3ubuntu3) ...\n",
            "Setting up libwoff1:amd64 (1.0.2-1build4) ...\n",
            "Setting up libhyphen0:amd64 (2.8.8-7build2) ...\n",
            "Setting up libmaxminddb0:amd64 (1.5.2-1build2) ...\n",
            "Setting up libxcb-keysyms1:amd64 (0.4.0-1build3) ...\n",
            "Setting up libxcb-render-util0:amd64 (0.3.9-1build3) ...\n",
            "Setting up libxcb-icccm4:amd64 (0.4.1-1.1build2) ...\n",
            "Setting up libxcb-util1:amd64 (0.4.0-1build2) ...\n",
            "Setting up libxcb-xkb1:amd64 (1.14-3ubuntu3) ...\n",
            "Setting up libxcb-image0:amd64 (0.4.0-2) ...\n",
            "Setting up libfontenc1:amd64 (1:1.1.4-1build3) ...\n",
            "Setting up libxcb-xinerama0:amd64 (1.14-3ubuntu3) ...\n",
            "Setting up qttranslations5-l10n (5.15.3-1) ...\n",
            "Setting up libnotify4:amd64 (0.7.9-3ubuntu5.22.04.1) ...\n",
            "Setting up xfonts-encodings (1:1.0.5-0ubuntu2) ...\n",
            "Setting up libxkbcommon-x11-0:amd64 (1.4.0-1) ...\n",
            "Setting up usb-modeswitch-data (20191128-4) ...\n",
            "Setting up udev (249.11-0ubuntu3.12) ...\n",
            "invoke-rc.d: could not determine current runlevel\n",
            "invoke-rc.d: policy-rc.d denied execution of start.\n",
            "Setting up libqt5core5a:amd64 (5.15.3+dfsg-2ubuntu0.2) ...\n",
            "Setting up libmtdev1:amd64 (1.1.6-1build4) ...\n",
            "Setting up libsoup2.4-common (2.74.2-3ubuntu0.1) ...\n",
            "Setting up systemd-hwe-hwdb (249.11.5) ...\n",
            "Setting up libmm-glib0:amd64 (1.20.0-1~ubuntu22.04.4) ...\n",
            "Setting up libqt5dbus5:amd64 (5.15.3+dfsg-2ubuntu0.2) ...\n",
            "Setting up libnl-genl-3-200:amd64 (3.5.0-0.1) ...\n",
            "Setting up libmd4c0:amd64 (0.4.8-1) ...\n",
            "Setting up libavahi-glib1:amd64 (0.8-5ubuntu5.2) ...\n",
            "Setting up libjson-glib-1.0-common (1.6.6-1build1) ...\n",
            "Setting up usb-modeswitch (2.6.1-3ubuntu2) ...\n",
            "Setting up libxkbfile1:amd64 (1:1.1.0-1build3) ...\n",
            "Setting up glib-networking-common (2.72.0-1) ...\n",
            "Setting up libqt5sensors5:amd64 (5.15.3-1) ...\n",
            "Setting up libdaemon0:amd64 (0.14-7.1ubuntu3) ...\n",
            "Setting up libavahi-core7:amd64 (0.8-5ubuntu5.2) ...\n",
            "Setting up libnss-mdns:amd64 (0.15.1-1ubuntu1) ...\n",
            "First installation detected...\n",
            "Checking NSS setup...\n",
            "Setting up libxfont2:amd64 (1:2.0.5-1build1) ...\n",
            "Setting up libevdev2:amd64 (1.12.1+dfsg-1) ...\n",
            "Setting up libgudev-1.0-0:amd64 (1:237-2build1) ...\n",
            "Setting up libmbim-glib4:amd64 (1.28.0-1~ubuntu20.04.2) ...\n",
            "Setting up libwacom-common (2.2.0-1) ...\n",
            "Setting up gsettings-desktop-schemas (42.0-1ubuntu1) ...\n",
            "Setting up glib-networking-services (2.72.0-1) ...\n",
            "Setting up iio-sensor-proxy (3.3-0ubuntu6) ...\n",
            "Setting up bind9-libs:amd64 (1:9.18.30-0ubuntu0.22.04.2) ...\n",
            "Setting up libwacom9:amd64 (2.2.0-1) ...\n",
            "Setting up x11-xkb-utils (7.7+5build4) ...\n",
            "Setting up libqt5positioning5:amd64 (5.15.3+dfsg-3) ...\n",
            "Setting up libmbim-proxy (1.28.0-1~ubuntu20.04.2) ...\n",
            "Setting up xfonts-utils (1:7.7+6build2) ...\n",
            "Setting up libqt5network5:amd64 (5.15.3+dfsg-2ubuntu0.2) ...\n",
            "Setting up libjson-glib-1.0-0:amd64 (1.6.6-1build1) ...\n",
            "Setting up libinput-bin (1.20.0-1ubuntu0.3) ...\n",
            "Setting up wpasupplicant (2:2.10-6ubuntu2.1) ...\n",
            "Created symlink /etc/systemd/system/dbus-fi.w1.wpa_supplicant1.service → /lib/systemd/system/wpa_supplicant.service.\n",
            "Created symlink /etc/systemd/system/multi-user.target.wants/wpa_supplicant.service → /lib/systemd/system/wpa_supplicant.service.\n",
            "Setting up xfonts-base (1:1.0.5) ...\n",
            "Setting up libqt5qml5:amd64 (5.15.3+dfsg-1) ...\n",
            "Setting up libqt5webchannel5:amd64 (5.15.3-1) ...\n",
            "Setting up libwacom-bin (2.2.0-1) ...\n",
            "Setting up xserver-common (2:21.1.4-2ubuntu1.7~22.04.12) ...\n",
            "Setting up bind9-host (1:9.18.30-0ubuntu0.22.04.2) ...\n",
            "Setting up libinput10:amd64 (1.20.0-1ubuntu0.3) ...\n",
            "Setting up libqt5qmlmodels5:amd64 (5.15.3+dfsg-1) ...\n",
            "Setting up libqt5gui5:amd64 (5.15.3+dfsg-2ubuntu0.2) ...\n",
            "Setting up libqmi-glib5:amd64 (1.32.0-1ubuntu0.22.04.1) ...\n",
            "Setting up libqt5widgets5:amd64 (5.15.3+dfsg-2ubuntu0.2) ...\n",
            "Setting up qt5-gtk-platformtheme:amd64 (5.15.3+dfsg-2ubuntu0.2) ...\n",
            "Setting up libqt5printsupport5:amd64 (5.15.3+dfsg-2ubuntu0.2) ...\n",
            "Setting up avahi-daemon (0.8-5ubuntu5.2) ...\n",
            "invoke-rc.d: could not determine current runlevel\n",
            "invoke-rc.d: policy-rc.d denied execution of force-reload.\n",
            "invoke-rc.d: could not determine current runlevel\n",
            "invoke-rc.d: policy-rc.d denied execution of start.\n",
            "Created symlink /etc/systemd/system/dbus-org.freedesktop.Avahi.service → /lib/systemd/system/avahi-daemon.service.\n",
            "Created symlink /etc/systemd/system/multi-user.target.wants/avahi-daemon.service → /lib/systemd/system/avahi-daemon.service.\n",
            "Created symlink /etc/systemd/system/sockets.target.wants/avahi-daemon.socket → /lib/systemd/system/avahi-daemon.socket.\n",
            "Setting up xnest (2:21.1.4-2ubuntu1.7~22.04.12) ...\n",
            "Setting up libqt5quick5:amd64 (5.15.3+dfsg-1) ...\n",
            "Setting up libqt5svg5:amd64 (5.15.3-1) ...\n",
            "Setting up libqmi-proxy (1.32.0-1ubuntu0.22.04.1) ...\n",
            "Setting up libqt5webkit5:amd64 (5.212.0~alpha4-15ubuntu1) ...\n",
            "Setting up modemmanager (1.20.0-1~ubuntu22.04.4) ...\n",
            "Created symlink /etc/systemd/system/dbus-org.freedesktop.ModemManager1.service → /lib/systemd/system/ModemManager.service.\n",
            "Created symlink /etc/systemd/system/multi-user.target.wants/ModemManager.service → /lib/systemd/system/ModemManager.service.\n",
            "Setting up wkhtmltopdf (0.12.6-2) ...\n",
            "Processing triggers for man-db (2.10.2-1) ...\n",
            "Processing triggers for dbus (1.12.20-2ubuntu4.1) ...\n",
            "Processing triggers for mailcap (3.70+nmu1ubuntu1) ...\n",
            "Processing triggers for fontconfig (2.13.1-4.2ubuntu5) ...\n",
            "Processing triggers for hicolor-icon-theme (0.17-2) ...\n",
            "Processing triggers for libglib2.0-0:amd64 (2.72.4-0ubuntu2.4) ...\n",
            "Processing triggers for libc-bin (2.35-0ubuntu3.8) ...\n",
            "/sbin/ldconfig.real: /usr/local/lib/libtbb.so.12 is not a symbolic link\n",
            "\n",
            "/sbin/ldconfig.real: /usr/local/lib/libtbbmalloc.so.2 is not a symbolic link\n",
            "\n",
            "/sbin/ldconfig.real: /usr/local/lib/libtcm_debug.so.1 is not a symbolic link\n",
            "\n",
            "/sbin/ldconfig.real: /usr/local/lib/libtbbbind_2_5.so.3 is not a symbolic link\n",
            "\n",
            "/sbin/ldconfig.real: /usr/local/lib/libur_adapter_level_zero.so.0 is not a symbolic link\n",
            "\n",
            "/sbin/ldconfig.real: /usr/local/lib/libur_loader.so.0 is not a symbolic link\n",
            "\n",
            "/sbin/ldconfig.real: /usr/local/lib/libhwloc.so.15 is not a symbolic link\n",
            "\n",
            "/sbin/ldconfig.real: /usr/local/lib/libur_adapter_opencl.so.0 is not a symbolic link\n",
            "\n",
            "/sbin/ldconfig.real: /usr/local/lib/libtcm.so.1 is not a symbolic link\n",
            "\n",
            "/sbin/ldconfig.real: /usr/local/lib/libtbbmalloc_proxy.so.2 is not a symbolic link\n",
            "\n",
            "/sbin/ldconfig.real: /usr/local/lib/libtbbbind_2_0.so.3 is not a symbolic link\n",
            "\n",
            "/sbin/ldconfig.real: /usr/local/lib/libumf.so.0 is not a symbolic link\n",
            "\n",
            "/sbin/ldconfig.real: /usr/local/lib/libtbbbind.so.3 is not a symbolic link\n",
            "\n",
            "Setting up glib-networking:amd64 (2.72.0-1) ...\n",
            "Setting up libsoup2.4-1:amd64 (2.74.2-3ubuntu0.1) ...\n",
            "Setting up geoclue-2.0 (2.5.7-3ubuntu3) ...\n",
            "Processing triggers for libc-bin (2.35-0ubuntu3.8) ...\n",
            "/sbin/ldconfig.real: /usr/local/lib/libtbb.so.12 is not a symbolic link\n",
            "\n",
            "/sbin/ldconfig.real: /usr/local/lib/libtbbmalloc.so.2 is not a symbolic link\n",
            "\n",
            "/sbin/ldconfig.real: /usr/local/lib/libtcm_debug.so.1 is not a symbolic link\n",
            "\n",
            "/sbin/ldconfig.real: /usr/local/lib/libtbbbind_2_5.so.3 is not a symbolic link\n",
            "\n",
            "/sbin/ldconfig.real: /usr/local/lib/libur_adapter_level_zero.so.0 is not a symbolic link\n",
            "\n",
            "/sbin/ldconfig.real: /usr/local/lib/libur_loader.so.0 is not a symbolic link\n",
            "\n",
            "/sbin/ldconfig.real: /usr/local/lib/libhwloc.so.15 is not a symbolic link\n",
            "\n",
            "/sbin/ldconfig.real: /usr/local/lib/libur_adapter_opencl.so.0 is not a symbolic link\n",
            "\n",
            "/sbin/ldconfig.real: /usr/local/lib/libtcm.so.1 is not a symbolic link\n",
            "\n",
            "/sbin/ldconfig.real: /usr/local/lib/libtbbmalloc_proxy.so.2 is not a symbolic link\n",
            "\n",
            "/sbin/ldconfig.real: /usr/local/lib/libtbbbind_2_0.so.3 is not a symbolic link\n",
            "\n",
            "/sbin/ldconfig.real: /usr/local/lib/libumf.so.0 is not a symbolic link\n",
            "\n",
            "/sbin/ldconfig.real: /usr/local/lib/libtbbbind.so.3 is not a symbolic link\n",
            "\n",
            "Processing triggers for dbus (1.12.20-2ubuntu4.1) ...\n",
            "Collecting pdfkit\n",
            "  Downloading pdfkit-1.0.0-py3-none-any.whl.metadata (9.3 kB)\n",
            "Downloading pdfkit-1.0.0-py3-none-any.whl (12 kB)\n",
            "Installing collected packages: pdfkit\n",
            "Successfully installed pdfkit-1.0.0\n"
          ]
        },
        {
          "output_type": "display_data",
          "data": {
            "text/plain": [
              "<IPython.core.display.Javascript object>"
            ],
            "application/javascript": [
              "\n",
              "    async function download(id, filename, size) {\n",
              "      if (!google.colab.kernel.accessAllowed) {\n",
              "        return;\n",
              "      }\n",
              "      const div = document.createElement('div');\n",
              "      const label = document.createElement('label');\n",
              "      label.textContent = `Downloading \"${filename}\": `;\n",
              "      div.appendChild(label);\n",
              "      const progress = document.createElement('progress');\n",
              "      progress.max = size;\n",
              "      div.appendChild(progress);\n",
              "      document.body.appendChild(div);\n",
              "\n",
              "      const buffers = [];\n",
              "      let downloaded = 0;\n",
              "\n",
              "      const channel = await google.colab.kernel.comms.open(id);\n",
              "      // Send a message to notify the kernel that we're ready.\n",
              "      channel.send({})\n",
              "\n",
              "      for await (const message of channel.messages) {\n",
              "        // Send a message to notify the kernel that we're ready.\n",
              "        channel.send({})\n",
              "        if (message.buffers) {\n",
              "          for (const buffer of message.buffers) {\n",
              "            buffers.push(buffer);\n",
              "            downloaded += buffer.byteLength;\n",
              "            progress.value = downloaded;\n",
              "          }\n",
              "        }\n",
              "      }\n",
              "      const blob = new Blob(buffers, {type: 'application/binary'});\n",
              "      const a = document.createElement('a');\n",
              "      a.href = window.URL.createObjectURL(blob);\n",
              "      a.download = filename;\n",
              "      div.appendChild(a);\n",
              "      a.click();\n",
              "      div.remove();\n",
              "    }\n",
              "  "
            ]
          },
          "metadata": {}
        },
        {
          "output_type": "display_data",
          "data": {
            "text/plain": [
              "<IPython.core.display.Javascript object>"
            ],
            "application/javascript": [
              "download(\"download_bb92f031-5f83-4ac1-963c-48cf29023838\", \"output.pdf\", 26248)"
            ]
          },
          "metadata": {}
        }
      ]
    },
    {
      "cell_type": "code",
      "source": [],
      "metadata": {
        "id": "LZmS5tYTJh5l"
      },
      "execution_count": null,
      "outputs": []
    }
  ]
}